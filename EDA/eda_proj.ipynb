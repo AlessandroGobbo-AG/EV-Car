{
 "cells": [
  {
   "cell_type": "markdown",
   "metadata": {},
   "source": [
    "## Estrazione dei dati.\n",
    "\n",
    "Data download dei dati: 10-12-2024\n",
    "\n",
    "Data ultimo upgrade dei dati: 22-11-2024\n",
    "\n",
    "Sito origine dei dati: data.wa.gov\n",
    "\n",
    "Link origine dei dati: https://catalog.data.gov/dataset/electric-vehicle-population-data"
   ]
  },
  {
   "cell_type": "code",
   "execution_count": 36,
   "metadata": {},
   "outputs": [
    {
     "data": {
      "text/html": [
       "<div><style>\n",
       ".dataframe > thead > tr,\n",
       ".dataframe > tbody > tr {\n",
       "  text-align: right;\n",
       "  white-space: pre-wrap;\n",
       "}\n",
       "</style>\n",
       "<small>shape: (9, 18)</small><table border=\"1\" class=\"dataframe\"><thead><tr><th>statistic</th><th>VIN (1-10)</th><th>County</th><th>City</th><th>State</th><th>Postal Code</th><th>Model Year</th><th>Make</th><th>Model</th><th>Electric Vehicle Type</th><th>Clean Alternative Fuel Vehicle (CAFV) Eligibility</th><th>Electric Range</th><th>Base MSRP</th><th>Legislative District</th><th>DOL Vehicle ID</th><th>Vehicle Location</th><th>Electric Utility</th><th>2020 Census Tract</th></tr><tr><td>str</td><td>str</td><td>str</td><td>str</td><td>str</td><td>f64</td><td>f64</td><td>str</td><td>str</td><td>str</td><td>str</td><td>f64</td><td>f64</td><td>f64</td><td>f64</td><td>str</td><td>str</td><td>f64</td></tr></thead><tbody><tr><td>&quot;count&quot;</td><td>&quot;216772&quot;</td><td>&quot;216767&quot;</td><td>&quot;216767&quot;</td><td>&quot;216772&quot;</td><td>216767.0</td><td>216772.0</td><td>&quot;216772&quot;</td><td>&quot;216772&quot;</td><td>&quot;216772&quot;</td><td>&quot;216772&quot;</td><td>216753.0</td><td>216753.0</td><td>216321.0</td><td>216772.0</td><td>&quot;216761&quot;</td><td>&quot;216767&quot;</td><td>216767.0</td></tr><tr><td>&quot;null_count&quot;</td><td>&quot;0&quot;</td><td>&quot;5&quot;</td><td>&quot;5&quot;</td><td>&quot;0&quot;</td><td>5.0</td><td>0.0</td><td>&quot;0&quot;</td><td>&quot;0&quot;</td><td>&quot;0&quot;</td><td>&quot;0&quot;</td><td>19.0</td><td>19.0</td><td>451.0</td><td>0.0</td><td>&quot;11&quot;</td><td>&quot;5&quot;</td><td>5.0</td></tr><tr><td>&quot;mean&quot;</td><td>null</td><td>null</td><td>null</td><td>null</td><td>98179.750714</td><td>2021.129039</td><td>null</td><td>null</td><td>null</td><td>null</td><td>49.428386</td><td>870.987045</td><td>28.920114</td><td>2.3045e8</td><td>null</td><td>null</td><td>5.2982e10</td></tr><tr><td>&quot;std&quot;</td><td>null</td><td>null</td><td>null</td><td>null</td><td>2458.320323</td><td>2.983918</td><td>null</td><td>null</td><td>null</td><td>null</td><td>86.224511</td><td>7544.671592</td><td>14.907934</td><td>7.0450e7</td><td>null</td><td>null</td><td>1.5147e9</td></tr><tr><td>&quot;min&quot;</td><td>&quot;1C4JJXN60P&quot;</td><td>&quot;Ada&quot;</td><td>&quot;Aberdeen&quot;</td><td>&quot;AE&quot;</td><td>1731.0</td><td>1999.0</td><td>&quot;ACURA&quot;</td><td>&quot;330E&quot;</td><td>&quot;Battery&nbsp;Electric&nbsp;Vehicle&nbsp;(BEV)&quot;</td><td>&quot;Clean&nbsp;Alternative&nbsp;Fuel&nbsp;Vehicle…</td><td>0.0</td><td>0.0</td><td>1.0</td><td>4385.0</td><td>&quot;POINT&nbsp;(-100.50078&nbsp;31.4168)&quot;</td><td>&quot;AVISTA&nbsp;CORP&quot;</td><td>1.0010e9</td></tr><tr><td>&quot;25%&quot;</td><td>null</td><td>null</td><td>null</td><td>null</td><td>98052.0</td><td>2020.0</td><td>null</td><td>null</td><td>null</td><td>null</td><td>0.0</td><td>0.0</td><td>17.0</td><td>1.96232816e8</td><td>null</td><td>null</td><td>5.3033e10</td></tr><tr><td>&quot;50%&quot;</td><td>null</td><td>null</td><td>null</td><td>null</td><td>98125.0</td><td>2022.0</td><td>null</td><td>null</td><td>null</td><td>null</td><td>0.0</td><td>0.0</td><td>32.0</td><td>2.44032309e8</td><td>null</td><td>null</td><td>5.3033e10</td></tr><tr><td>&quot;75%&quot;</td><td>null</td><td>null</td><td>null</td><td>null</td><td>98374.0</td><td>2023.0</td><td>null</td><td>null</td><td>null</td><td>null</td><td>42.0</td><td>0.0</td><td>42.0</td><td>2.64906967e8</td><td>null</td><td>null</td><td>5.3053e10</td></tr><tr><td>&quot;max&quot;</td><td>&quot;ZHWUC1ZM1R&quot;</td><td>&quot;Yuba&quot;</td><td>&quot;Zillah&quot;</td><td>&quot;WY&quot;</td><td>99577.0</td><td>2025.0</td><td>&quot;WHEEGO&nbsp;ELECTRIC&nbsp;CARS&quot;</td><td>&quot;ZDX&quot;</td><td>&quot;Plug-in&nbsp;Hybrid&nbsp;Electric&nbsp;Vehicl…</td><td>&quot;Not&nbsp;eligible&nbsp;due&nbsp;to&nbsp;low&nbsp;batter…</td><td>337.0</td><td>845000.0</td><td>49.0</td><td>4.79254772e8</td><td>&quot;POINT&nbsp;(-98.72277&nbsp;29.44539)&quot;</td><td>&quot;PUGET&nbsp;SOUND&nbsp;ENERGY&nbsp;INC||PUD&nbsp;NO…</td><td>5.6021e10</td></tr></tbody></table></div>"
      ],
      "text/plain": [
       "shape: (9, 18)\n",
       "┌────────────┬────────────┬────────┬──────────┬───┬────────────┬───────────┬───────────┬───────────┐\n",
       "│ statistic  ┆ VIN (1-10) ┆ County ┆ City     ┆ … ┆ DOL        ┆ Vehicle   ┆ Electric  ┆ 2020      │\n",
       "│ ---        ┆ ---        ┆ ---    ┆ ---      ┆   ┆ Vehicle ID ┆ Location  ┆ Utility   ┆ Census    │\n",
       "│ str        ┆ str        ┆ str    ┆ str      ┆   ┆ ---        ┆ ---       ┆ ---       ┆ Tract     │\n",
       "│            ┆            ┆        ┆          ┆   ┆ f64        ┆ str       ┆ str       ┆ ---       │\n",
       "│            ┆            ┆        ┆          ┆   ┆            ┆           ┆           ┆ f64       │\n",
       "╞════════════╪════════════╪════════╪══════════╪═══╪════════════╪═══════════╪═══════════╪═══════════╡\n",
       "│ count      ┆ 216772     ┆ 216767 ┆ 216767   ┆ … ┆ 216772.0   ┆ 216761    ┆ 216767    ┆ 216767.0  │\n",
       "│ null_count ┆ 0          ┆ 5      ┆ 5        ┆ … ┆ 0.0        ┆ 11        ┆ 5         ┆ 5.0       │\n",
       "│ mean       ┆ null       ┆ null   ┆ null     ┆ … ┆ 2.3045e8   ┆ null      ┆ null      ┆ 5.2982e10 │\n",
       "│ std        ┆ null       ┆ null   ┆ null     ┆ … ┆ 7.0450e7   ┆ null      ┆ null      ┆ 1.5147e9  │\n",
       "│ min        ┆ 1C4JJXN60P ┆ Ada    ┆ Aberdeen ┆ … ┆ 4385.0     ┆ POINT (-1 ┆ AVISTA    ┆ 1.0010e9  │\n",
       "│            ┆            ┆        ┆          ┆   ┆            ┆ 00.50078  ┆ CORP      ┆           │\n",
       "│            ┆            ┆        ┆          ┆   ┆            ┆ 31.4168)  ┆           ┆           │\n",
       "│ 25%        ┆ null       ┆ null   ┆ null     ┆ … ┆ 1.96232816 ┆ null      ┆ null      ┆ 5.3033e10 │\n",
       "│            ┆            ┆        ┆          ┆   ┆ e8         ┆           ┆           ┆           │\n",
       "│ 50%        ┆ null       ┆ null   ┆ null     ┆ … ┆ 2.44032309 ┆ null      ┆ null      ┆ 5.3033e10 │\n",
       "│            ┆            ┆        ┆          ┆   ┆ e8         ┆           ┆           ┆           │\n",
       "│ 75%        ┆ null       ┆ null   ┆ null     ┆ … ┆ 2.64906967 ┆ null      ┆ null      ┆ 5.3053e10 │\n",
       "│            ┆            ┆        ┆          ┆   ┆ e8         ┆           ┆           ┆           │\n",
       "│ max        ┆ ZHWUC1ZM1R ┆ Yuba   ┆ Zillah   ┆ … ┆ 4.79254772 ┆ POINT (-9 ┆ PUGET     ┆ 5.6021e10 │\n",
       "│            ┆            ┆        ┆          ┆   ┆ e8         ┆ 8.72277   ┆ SOUND     ┆           │\n",
       "│            ┆            ┆        ┆          ┆   ┆            ┆ 29.44539) ┆ ENERGY    ┆           │\n",
       "│            ┆            ┆        ┆          ┆   ┆            ┆           ┆ INC||PUD  ┆           │\n",
       "│            ┆            ┆        ┆          ┆   ┆            ┆           ┆ NO…       ┆           │\n",
       "└────────────┴────────────┴────────┴──────────┴───┴────────────┴───────────┴───────────┴───────────┘"
      ]
     },
     "execution_count": 36,
     "metadata": {},
     "output_type": "execute_result"
    }
   ],
   "source": [
    "import polars as pl\n",
    "from pathlib import Path\n",
    "\n",
    "data_dir = Path('DATA')\n",
    "data_file = \"..\"/ data_dir / \"Electric_Vehicle_Population_Data.csv\"\n",
    "\n",
    "data = pl.read_csv(data_file)\n",
    "\n",
    "#Breve visualizzazione dei dati\n",
    "data.head()\n",
    "data.describe()"
   ]
  },
  {
   "cell_type": "markdown",
   "metadata": {},
   "source": [
    "## Manipolazione dei dati\n",
    "\n",
    "A seguito di un'analisi preliminare si nota che alcune colonne non risultano utili per l'analisi.\n",
    "\n",
    "# Lista colonne da eliminare\n",
    "\n",
    "-VIN (1-10)\n",
    "-Postal Code\n",
    "-Base MSRP\n",
    "-Legislative District\n",
    "-DOL Vehicle ID\n",
    "-Electric Utility\n",
    "-2020 Census Tract\n",
    "-Clean Alternative Fuel Vehicle (CAFV) Eligibility\n",
    "\n",
    "# Lista colonne che verranno utilizzate con la relativa descrizione\n",
    "\n",
    "*La descrizione è in lingua inglese perchè è la descrizione data dal sito: data.gov*\n",
    "\n",
    "- **Country**: This is the geographic region of a state that a vehicle's owner is listed to reside within. Vehicles registered in Washington state may be located in other states.\n",
    "-  **City**: The city in which the registered owner resides.\n",
    "- **State**: This is the geographic region of the country associated with the record. These addresses may be located in other states.\n",
    "- **Model Year**: The model year of the vehicle.\n",
    "- **Make**: The manufacturer of the vehicle.\n",
    "- **Model**: The model of the vehicle.\n",
    "- **Electric Vehicle Type**: This distinguishes the vehicle as all electric or a plug-in hybrid.\n",
    "- **Electric Range**: Describes how far a vehicle can travel purely on its electric charge.\n",
    "- **Vehicle Location**: The center of the ZIP Code for the registered vehicle.\n",
    "\n",
    "**Nota Bene**\n",
    "I dato arrivano al 2025 a causa di alcuni preordini."
   ]
  },
  {
   "cell_type": "code",
   "execution_count": 37,
   "metadata": {},
   "outputs": [
    {
     "data": {
      "text/html": [
       "<div><style>\n",
       ".dataframe > thead > tr,\n",
       ".dataframe > tbody > tr {\n",
       "  text-align: right;\n",
       "  white-space: pre-wrap;\n",
       "}\n",
       "</style>\n",
       "<small>shape: (9, 10)</small><table border=\"1\" class=\"dataframe\"><thead><tr><th>statistic</th><th>County</th><th>City</th><th>State</th><th>Model Year</th><th>Make</th><th>Model</th><th>Electric Vehicle Type</th><th>Electric Range</th><th>Vehicle Location</th></tr><tr><td>str</td><td>str</td><td>str</td><td>str</td><td>f64</td><td>str</td><td>str</td><td>str</td><td>f64</td><td>str</td></tr></thead><tbody><tr><td>&quot;count&quot;</td><td>&quot;216767&quot;</td><td>&quot;216767&quot;</td><td>&quot;216772&quot;</td><td>216772.0</td><td>&quot;216772&quot;</td><td>&quot;216772&quot;</td><td>&quot;216772&quot;</td><td>216753.0</td><td>&quot;216761&quot;</td></tr><tr><td>&quot;null_count&quot;</td><td>&quot;5&quot;</td><td>&quot;5&quot;</td><td>&quot;0&quot;</td><td>0.0</td><td>&quot;0&quot;</td><td>&quot;0&quot;</td><td>&quot;0&quot;</td><td>19.0</td><td>&quot;11&quot;</td></tr><tr><td>&quot;mean&quot;</td><td>null</td><td>null</td><td>null</td><td>2021.129039</td><td>null</td><td>null</td><td>null</td><td>49.428386</td><td>null</td></tr><tr><td>&quot;std&quot;</td><td>null</td><td>null</td><td>null</td><td>2.983918</td><td>null</td><td>null</td><td>null</td><td>86.224511</td><td>null</td></tr><tr><td>&quot;min&quot;</td><td>&quot;Ada&quot;</td><td>&quot;Aberdeen&quot;</td><td>&quot;AE&quot;</td><td>1999.0</td><td>&quot;ACURA&quot;</td><td>&quot;330E&quot;</td><td>&quot;Battery&nbsp;Electric&nbsp;Vehicle&nbsp;(BEV)&quot;</td><td>0.0</td><td>&quot;POINT&nbsp;(-100.50078&nbsp;31.4168)&quot;</td></tr><tr><td>&quot;25%&quot;</td><td>null</td><td>null</td><td>null</td><td>2020.0</td><td>null</td><td>null</td><td>null</td><td>0.0</td><td>null</td></tr><tr><td>&quot;50%&quot;</td><td>null</td><td>null</td><td>null</td><td>2022.0</td><td>null</td><td>null</td><td>null</td><td>0.0</td><td>null</td></tr><tr><td>&quot;75%&quot;</td><td>null</td><td>null</td><td>null</td><td>2023.0</td><td>null</td><td>null</td><td>null</td><td>42.0</td><td>null</td></tr><tr><td>&quot;max&quot;</td><td>&quot;Yuba&quot;</td><td>&quot;Zillah&quot;</td><td>&quot;WY&quot;</td><td>2025.0</td><td>&quot;WHEEGO&nbsp;ELECTRIC&nbsp;CARS&quot;</td><td>&quot;ZDX&quot;</td><td>&quot;Plug-in&nbsp;Hybrid&nbsp;Electric&nbsp;Vehicl…</td><td>337.0</td><td>&quot;POINT&nbsp;(-98.72277&nbsp;29.44539)&quot;</td></tr></tbody></table></div>"
      ],
      "text/plain": [
       "shape: (9, 10)\n",
       "┌────────────┬────────┬──────────┬────────┬───┬────────┬──────────┬───────────┬────────────────────┐\n",
       "│ statistic  ┆ County ┆ City     ┆ State  ┆ … ┆ Model  ┆ Electric ┆ Electric  ┆ Vehicle Location   │\n",
       "│ ---        ┆ ---    ┆ ---      ┆ ---    ┆   ┆ ---    ┆ Vehicle  ┆ Range     ┆ ---                │\n",
       "│ str        ┆ str    ┆ str      ┆ str    ┆   ┆ str    ┆ Type     ┆ ---       ┆ str                │\n",
       "│            ┆        ┆          ┆        ┆   ┆        ┆ ---      ┆ f64       ┆                    │\n",
       "│            ┆        ┆          ┆        ┆   ┆        ┆ str      ┆           ┆                    │\n",
       "╞════════════╪════════╪══════════╪════════╪═══╪════════╪══════════╪═══════════╪════════════════════╡\n",
       "│ count      ┆ 216767 ┆ 216767   ┆ 216772 ┆ … ┆ 216772 ┆ 216772   ┆ 216753.0  ┆ 216761             │\n",
       "│ null_count ┆ 5      ┆ 5        ┆ 0      ┆ … ┆ 0      ┆ 0        ┆ 19.0      ┆ 11                 │\n",
       "│ mean       ┆ null   ┆ null     ┆ null   ┆ … ┆ null   ┆ null     ┆ 49.428386 ┆ null               │\n",
       "│ std        ┆ null   ┆ null     ┆ null   ┆ … ┆ null   ┆ null     ┆ 86.224511 ┆ null               │\n",
       "│ min        ┆ Ada    ┆ Aberdeen ┆ AE     ┆ … ┆ 330E   ┆ Battery  ┆ 0.0       ┆ POINT (-100.50078  │\n",
       "│            ┆        ┆          ┆        ┆   ┆        ┆ Electric ┆           ┆ 31.4168)           │\n",
       "│            ┆        ┆          ┆        ┆   ┆        ┆ Vehicle  ┆           ┆                    │\n",
       "│            ┆        ┆          ┆        ┆   ┆        ┆ (BEV)    ┆           ┆                    │\n",
       "│ 25%        ┆ null   ┆ null     ┆ null   ┆ … ┆ null   ┆ null     ┆ 0.0       ┆ null               │\n",
       "│ 50%        ┆ null   ┆ null     ┆ null   ┆ … ┆ null   ┆ null     ┆ 0.0       ┆ null               │\n",
       "│ 75%        ┆ null   ┆ null     ┆ null   ┆ … ┆ null   ┆ null     ┆ 42.0      ┆ null               │\n",
       "│ max        ┆ Yuba   ┆ Zillah   ┆ WY     ┆ … ┆ ZDX    ┆ Plug-in  ┆ 337.0     ┆ POINT (-98.72277   │\n",
       "│            ┆        ┆          ┆        ┆   ┆        ┆ Hybrid   ┆           ┆ 29.44539)          │\n",
       "│            ┆        ┆          ┆        ┆   ┆        ┆ Electric ┆           ┆                    │\n",
       "│            ┆        ┆          ┆        ┆   ┆        ┆ Vehicl…  ┆           ┆                    │\n",
       "└────────────┴────────┴──────────┴────────┴───┴────────┴──────────┴───────────┴────────────────────┘"
      ]
     },
     "execution_count": 37,
     "metadata": {},
     "output_type": "execute_result"
    }
   ],
   "source": [
    "data = data.select(pl.exclude(['VIN (1-10)','Postal Code','Base MSRP','Legislative District','DOL Vehicle ID','Electric Utility','2020 Census Tract','Clean Alternative Fuel Vehicle (CAFV) Eligibility']))\n",
    "data.describe()\n",
    "\n"
   ]
  },
  {
   "cell_type": "code",
   "execution_count": 38,
   "metadata": {},
   "outputs": [],
   "source": [
    "data = data.drop_nulls()"
   ]
  },
  {
   "cell_type": "markdown",
   "metadata": {},
   "source": [
    "## Obiettivi dell'analisi\n",
    "\n",
    "Gli obiettivi sono quelli di eseguire un'analisi completa sul dataset cercando di mostrare graficamente le informazioni che riguardano la vendita di auto elettriche, in base a determinate categorie. \n",
    "\n",
    "Per semplicità quando si analizzano entrambe le tipologie di vetture verrà usato il termine 'auto', invece se si fa riferimento solo ad una categoria delle due verranno usati i termini 'BEV' o 'PHEV'.\n",
    "\n",
    "# Vendita annuale di auto BEV/PHEV"
   ]
  },
  {
   "cell_type": "code",
   "execution_count": 41,
   "metadata": {},
   "outputs": [
    {
     "data": {
      "text/html": [
       "<div><style>\n",
       ".dataframe > thead > tr,\n",
       ".dataframe > tbody > tr {\n",
       "  text-align: right;\n",
       "  white-space: pre-wrap;\n",
       "}\n",
       "</style>\n",
       "<small>shape: (15, 2)</small><table border=\"1\" class=\"dataframe\"><thead><tr><th>Model Year</th><th>tot_per_year</th></tr><tr><td>i64</td><td>u32</td></tr></thead><tbody><tr><td>2011</td><td>699</td></tr><tr><td>2012</td><td>1536</td></tr><tr><td>2013</td><td>4298</td></tr><tr><td>2014</td><td>3466</td></tr><tr><td>2015</td><td>4708</td></tr><tr><td>&hellip;</td><td>&hellip;</td></tr><tr><td>2021</td><td>20074</td></tr><tr><td>2022</td><td>28592</td></tr><tr><td>2023</td><td>60292</td></tr><tr><td>2024</td><td>40102</td></tr><tr><td>2025</td><td>1428</td></tr></tbody></table></div>"
      ],
      "text/plain": [
       "shape: (15, 2)\n",
       "┌────────────┬──────────────┐\n",
       "│ Model Year ┆ tot_per_year │\n",
       "│ ---        ┆ ---          │\n",
       "│ i64        ┆ u32          │\n",
       "╞════════════╪══════════════╡\n",
       "│ 2011       ┆ 699          │\n",
       "│ 2012       ┆ 1536         │\n",
       "│ 2013       ┆ 4298         │\n",
       "│ 2014       ┆ 3466         │\n",
       "│ 2015       ┆ 4708         │\n",
       "│ …          ┆ …            │\n",
       "│ 2021       ┆ 20074        │\n",
       "│ 2022       ┆ 28592        │\n",
       "│ 2023       ┆ 60292        │\n",
       "│ 2024       ┆ 40102        │\n",
       "│ 2025       ┆ 1428         │\n",
       "└────────────┴──────────────┘"
      ]
     },
     "execution_count": 41,
     "metadata": {},
     "output_type": "execute_result"
    }
   ],
   "source": [
    "\n",
    "(\n",
    "    data\n",
    "    .group_by('Model Year')\n",
    "    .agg(\n",
    "        tot_per_year = pl.col('Model Year').count()\n",
    "    )\n",
    "    .sort(pl.col('Model Year'))\n",
    ")"
   ]
  },
  {
   "cell_type": "markdown",
   "metadata": {},
   "source": [
    "Si nota come nei primi anni il numero di auto vendute è molto basso, quindi per semplicità si prenderanno i dati a partire dal 2011."
   ]
  },
  {
   "cell_type": "code",
   "execution_count": null,
   "metadata": {},
   "outputs": [],
   "source": [
    "data = (\n",
    "    data\n",
    "    .filter(pl.col('Model Year')>2010)\n",
    ")\n",
    "# salvataggio dei dati nel file data.csv \n",
    "data.write_csv( \"..\"/ data_dir / \"data.csv\")"
   ]
  },
  {
   "cell_type": "markdown",
   "metadata": {},
   "source": [
    "## Vendita di auto per marca"
   ]
  },
  {
   "cell_type": "code",
   "execution_count": 42,
   "metadata": {},
   "outputs": [
    {
     "data": {
      "text/html": [
       "<div><style>\n",
       ".dataframe > thead > tr,\n",
       ".dataframe > tbody > tr {\n",
       "  text-align: right;\n",
       "  white-space: pre-wrap;\n",
       "}\n",
       "</style>\n",
       "<small>shape: (42, 2)</small><table border=\"1\" class=\"dataframe\"><thead><tr><th>Make</th><th>Vendita_per_marca</th></tr><tr><td>str</td><td>u32</td></tr></thead><tbody><tr><td>&quot;TESLA&quot;</td><td>93883</td></tr><tr><td>&quot;CHEVROLET&quot;</td><td>15862</td></tr><tr><td>&quot;NISSAN&quot;</td><td>15011</td></tr><tr><td>&quot;FORD&quot;</td><td>11477</td></tr><tr><td>&quot;KIA&quot;</td><td>10089</td></tr><tr><td>&hellip;</td><td>&hellip;</td></tr><tr><td>&quot;BENTLEY&quot;</td><td>5</td></tr><tr><td>&quot;AZURE&nbsp;DYNAMICS&quot;</td><td>4</td></tr><tr><td>&quot;ROLLS-ROYCE&quot;</td><td>3</td></tr><tr><td>&quot;RAM&quot;</td><td>2</td></tr><tr><td>&quot;VINFAST&quot;</td><td>1</td></tr></tbody></table></div>"
      ],
      "text/plain": [
       "shape: (42, 2)\n",
       "┌────────────────┬───────────────────┐\n",
       "│ Make           ┆ Vendita_per_marca │\n",
       "│ ---            ┆ ---               │\n",
       "│ str            ┆ u32               │\n",
       "╞════════════════╪═══════════════════╡\n",
       "│ TESLA          ┆ 93883             │\n",
       "│ CHEVROLET      ┆ 15862             │\n",
       "│ NISSAN         ┆ 15011             │\n",
       "│ FORD           ┆ 11477             │\n",
       "│ KIA            ┆ 10089             │\n",
       "│ …              ┆ …                 │\n",
       "│ BENTLEY        ┆ 5                 │\n",
       "│ AZURE DYNAMICS ┆ 4                 │\n",
       "│ ROLLS-ROYCE    ┆ 3                 │\n",
       "│ RAM            ┆ 2                 │\n",
       "│ VINFAST        ┆ 1                 │\n",
       "└────────────────┴───────────────────┘"
      ]
     },
     "execution_count": 42,
     "metadata": {},
     "output_type": "execute_result"
    }
   ],
   "source": [
    "(\n",
    "    data\n",
    "    .group_by('Make')\n",
    "    .agg(\n",
    "        Vendita_per_marca = pl.col('Make').count()\n",
    "    )\n",
    "    .sort('Vendita_per_marca', descending = True)\n",
    ")"
   ]
  },
  {
   "cell_type": "markdown",
   "metadata": {},
   "source": [
    "Si nota che alcuni marchi hanno un numero di vendite quasi pari a 0, quindi guardo la percentuale totale di auto vendute per ogni produttore. \n",
    "\n",
    "Per semplicità di analisi grafica, si vedranno solo le auto che hanno una percentuale di auto vendute nel dataset inferiore al 0.5%."
   ]
  },
  {
   "cell_type": "code",
   "execution_count": 117,
   "metadata": {},
   "outputs": [
    {
     "data": {
      "text/html": [
       "\n",
       "<style>\n",
       "  #altair-viz-1ae31acaebbb4cf3af1e2ef89ada3961.vega-embed {\n",
       "    width: 100%;\n",
       "    display: flex;\n",
       "  }\n",
       "\n",
       "  #altair-viz-1ae31acaebbb4cf3af1e2ef89ada3961.vega-embed details,\n",
       "  #altair-viz-1ae31acaebbb4cf3af1e2ef89ada3961.vega-embed details summary {\n",
       "    position: relative;\n",
       "  }\n",
       "</style>\n",
       "<div id=\"altair-viz-1ae31acaebbb4cf3af1e2ef89ada3961\"></div>\n",
       "<script type=\"text/javascript\">\n",
       "  var VEGA_DEBUG = (typeof VEGA_DEBUG == \"undefined\") ? {} : VEGA_DEBUG;\n",
       "  (function(spec, embedOpt){\n",
       "    let outputDiv = document.currentScript.previousElementSibling;\n",
       "    if (outputDiv.id !== \"altair-viz-1ae31acaebbb4cf3af1e2ef89ada3961\") {\n",
       "      outputDiv = document.getElementById(\"altair-viz-1ae31acaebbb4cf3af1e2ef89ada3961\");\n",
       "    }\n",
       "    const paths = {\n",
       "      \"vega\": \"https://cdn.jsdelivr.net/npm/vega@5?noext\",\n",
       "      \"vega-lib\": \"https://cdn.jsdelivr.net/npm/vega-lib?noext\",\n",
       "      \"vega-lite\": \"https://cdn.jsdelivr.net/npm/vega-lite@5.20.1?noext\",\n",
       "      \"vega-embed\": \"https://cdn.jsdelivr.net/npm/vega-embed@6?noext\",\n",
       "    };\n",
       "\n",
       "    function maybeLoadScript(lib, version) {\n",
       "      var key = `${lib.replace(\"-\", \"\")}_version`;\n",
       "      return (VEGA_DEBUG[key] == version) ?\n",
       "        Promise.resolve(paths[lib]) :\n",
       "        new Promise(function(resolve, reject) {\n",
       "          var s = document.createElement('script');\n",
       "          document.getElementsByTagName(\"head\")[0].appendChild(s);\n",
       "          s.async = true;\n",
       "          s.onload = () => {\n",
       "            VEGA_DEBUG[key] = version;\n",
       "            return resolve(paths[lib]);\n",
       "          };\n",
       "          s.onerror = () => reject(`Error loading script: ${paths[lib]}`);\n",
       "          s.src = paths[lib];\n",
       "        });\n",
       "    }\n",
       "\n",
       "    function showError(err) {\n",
       "      outputDiv.innerHTML = `<div class=\"error\" style=\"color:red;\">${err}</div>`;\n",
       "      throw err;\n",
       "    }\n",
       "\n",
       "    function displayChart(vegaEmbed) {\n",
       "      vegaEmbed(outputDiv, spec, embedOpt)\n",
       "        .catch(err => showError(`Javascript Error: ${err.message}<br>This usually means there's a typo in your chart specification. See the javascript console for the full traceback.`));\n",
       "    }\n",
       "\n",
       "    if(typeof define === \"function\" && define.amd) {\n",
       "      requirejs.config({paths});\n",
       "      require([\"vega-embed\"], displayChart, err => showError(`Error loading script: ${err.message}`));\n",
       "    } else {\n",
       "      maybeLoadScript(\"vega\", \"5\")\n",
       "        .then(() => maybeLoadScript(\"vega-lite\", \"5.20.1\"))\n",
       "        .then(() => maybeLoadScript(\"vega-embed\", \"6\"))\n",
       "        .catch(showError)\n",
       "        .then(() => displayChart(vegaEmbed));\n",
       "    }\n",
       "  })({\"config\": {\"view\": {\"continuousWidth\": 300, \"continuousHeight\": 300}}, \"data\": {\"name\": \"data-7f574557c75550fba5ea2ec1b2b791d1\"}, \"mark\": {\"type\": \"bar\"}, \"encoding\": {\"color\": {\"field\": \"Vendita_per_marca\", \"scale\": {\"scheme\": \"oranges\"}, \"type\": \"quantitative\"}, \"x\": {\"field\": \"Vendita_per_marca\", \"type\": \"quantitative\"}, \"y\": {\"field\": \"Make\", \"sort\": \"-x\", \"type\": \"nominal\"}}, \"$schema\": \"https://vega.github.io/schema/vega-lite/v5.20.1.json\", \"datasets\": {\"data-7f574557c75550fba5ea2ec1b2b791d1\": [{\"Make\": \"LAND ROVER\", \"Vendita_per_marca\": 0.042}, {\"Make\": \"RAM\", \"Vendita_per_marca\": 0.001}, {\"Make\": \"AZURE DYNAMICS\", \"Vendita_per_marca\": 0.002}, {\"Make\": \"BENTLEY\", \"Vendita_per_marca\": 0.002}, {\"Make\": \"ACURA\", \"Vendita_per_marca\": 0.046}, {\"Make\": \"GENESIS\", \"Vendita_per_marca\": 0.137}, {\"Make\": \"LEXUS\", \"Vendita_per_marca\": 0.385}, {\"Make\": \"TH!NK\", \"Vendita_per_marca\": 0.002}, {\"Make\": \"VINFAST\", \"Vendita_per_marca\": 0.0}, {\"Make\": \"FISKER\", \"Vendita_per_marca\": 0.086}, {\"Make\": \"MINI\", \"Vendita_per_marca\": 0.483}, {\"Make\": \"ALFA ROMEO\", \"Vendita_per_marca\": 0.042}, {\"Make\": \"MAZDA\", \"Vendita_per_marca\": 0.379}, {\"Make\": \"MITSUBISHI\", \"Vendita_per_marca\": 0.482}, {\"Make\": \"ROLLS-ROYCE\", \"Vendita_per_marca\": 0.001}, {\"Make\": \"JAGUAR\", \"Vendita_per_marca\": 0.109}, {\"Make\": \"FIAT\", \"Vendita_per_marca\": 0.375}, {\"Make\": \"SMART\", \"Vendita_per_marca\": 0.113}, {\"Make\": \"LINCOLN\", \"Vendita_per_marca\": 0.148}, {\"Make\": \"LUCID\", \"Vendita_per_marca\": 0.146}, {\"Make\": \"GMC\", \"Vendita_per_marca\": 0.096}, {\"Make\": \"CADILLAC\", \"Vendita_per_marca\": 0.424}, {\"Make\": \"DODGE\", \"Vendita_per_marca\": 0.324}]}}, {\"mode\": \"vega-lite\"});\n",
       "</script>"
      ],
      "text/plain": [
       "alt.Chart(...)"
      ]
     },
     "execution_count": 117,
     "metadata": {},
     "output_type": "execute_result"
    }
   ],
   "source": [
    "import altair as alt\n",
    "\n",
    "data_test = (\n",
    "        data\n",
    "        .group_by('Make')\n",
    "        .agg(\n",
    "            Vendita_per_marca = (pl.col('Make').count() / len(data)*100).round(3)\n",
    "        )\n",
    "        .filter(pl.col('Vendita_per_marca') < .5)\n",
    "    )\n",
    "    \n",
    "base = (\n",
    "    alt.Chart(data_test)\n",
    "    .encode(\n",
    "        x='Vendita_per_marca:Q',\n",
    "        y=alt.Y('Make:N', sort='-x'),\n",
    "        color=alt.Color('Vendita_per_marca:Q', scale=alt.Scale(scheme='oranges'))\n",
    "    )\n",
    ")\n",
    "\n",
    "base.mark_bar()"
   ]
  },
  {
   "cell_type": "markdown",
   "metadata": {},
   "source": [
    "Dal grafico notiamo come ci sia una differenza signficativa tra un gruppo di auto e un altro. Quindi scelgo come soglia di esclusione dall'analisi per marca il numero 0.25%. "
   ]
  },
  {
   "cell_type": "code",
   "execution_count": 116,
   "metadata": {},
   "outputs": [
    {
     "data": {
      "text/html": [
       "<div><style>\n",
       ".dataframe > thead > tr,\n",
       ".dataframe > tbody > tr {\n",
       "  text-align: right;\n",
       "  white-space: pre-wrap;\n",
       "}\n",
       "</style>\n",
       "<small>shape: (16, 2)</small><table border=\"1\" class=\"dataframe\"><thead><tr><th>Make</th><th>Vendita_per_marca</th></tr><tr><td>str</td><td>f64</td></tr></thead><tbody><tr><td>&quot;LINCOLN&quot;</td><td>0.148</td></tr><tr><td>&quot;LUCID&quot;</td><td>0.146</td></tr><tr><td>&quot;GENESIS&quot;</td><td>0.137</td></tr><tr><td>&quot;SMART&quot;</td><td>0.113</td></tr><tr><td>&quot;JAGUAR&quot;</td><td>0.109</td></tr><tr><td>&hellip;</td><td>&hellip;</td></tr><tr><td>&quot;BENTLEY&quot;</td><td>0.002</td></tr><tr><td>&quot;AZURE&nbsp;DYNAMICS&quot;</td><td>0.002</td></tr><tr><td>&quot;ROLLS-ROYCE&quot;</td><td>0.001</td></tr><tr><td>&quot;RAM&quot;</td><td>0.001</td></tr><tr><td>&quot;VINFAST&quot;</td><td>0.0</td></tr></tbody></table></div>"
      ],
      "text/plain": [
       "shape: (16, 2)\n",
       "┌────────────────┬───────────────────┐\n",
       "│ Make           ┆ Vendita_per_marca │\n",
       "│ ---            ┆ ---               │\n",
       "│ str            ┆ f64               │\n",
       "╞════════════════╪═══════════════════╡\n",
       "│ LINCOLN        ┆ 0.148             │\n",
       "│ LUCID          ┆ 0.146             │\n",
       "│ GENESIS        ┆ 0.137             │\n",
       "│ SMART          ┆ 0.113             │\n",
       "│ JAGUAR         ┆ 0.109             │\n",
       "│ …              ┆ …                 │\n",
       "│ BENTLEY        ┆ 0.002             │\n",
       "│ AZURE DYNAMICS ┆ 0.002             │\n",
       "│ ROLLS-ROYCE    ┆ 0.001             │\n",
       "│ RAM            ┆ 0.001             │\n",
       "│ VINFAST        ┆ 0.0               │\n",
       "└────────────────┴───────────────────┘"
      ]
     },
     "execution_count": 116,
     "metadata": {},
     "output_type": "execute_result"
    }
   ],
   "source": [
    "(\n",
    "    data\n",
    "    .group_by('Make')\n",
    "    .agg(\n",
    "        Vendita_per_marca = (pl.col('Make').count() / len(data)*100).round(3)\n",
    "    )\n",
    "    .filter(pl.col('Vendita_per_marca') < .25)\n",
    "    .sort('Vendita_per_marca', descending = True)\n",
    ")"
   ]
  },
  {
   "cell_type": "markdown",
   "metadata": {},
   "source": [
    "## Vendita di auto per contea"
   ]
  },
  {
   "cell_type": "code",
   "execution_count": 84,
   "metadata": {},
   "outputs": [
    {
     "data": {
      "text/html": [
       "<div><style>\n",
       ".dataframe > thead > tr,\n",
       ".dataframe > tbody > tr {\n",
       "  text-align: right;\n",
       "  white-space: pre-wrap;\n",
       "}\n",
       "</style>\n",
       "<small>shape: (205, 2)</small><table border=\"1\" class=\"dataframe\"><thead><tr><th>County</th><th>Total</th></tr><tr><td>str</td><td>u32</td></tr></thead><tbody><tr><td>&quot;King&quot;</td><td>110122</td></tr><tr><td>&quot;Snohomish&quot;</td><td>26195</td></tr><tr><td>&quot;Pierce&quot;</td><td>17392</td></tr><tr><td>&quot;Clark&quot;</td><td>12937</td></tr><tr><td>&quot;Thurston&quot;</td><td>7936</td></tr><tr><td>&hellip;</td><td>&hellip;</td></tr><tr><td>&quot;Cook&quot;</td><td>1</td></tr><tr><td>&quot;Hudson&quot;</td><td>1</td></tr><tr><td>&quot;Hennepin&quot;</td><td>1</td></tr><tr><td>&quot;Arlington&quot;</td><td>1</td></tr><tr><td>&quot;Sedgwick&quot;</td><td>1</td></tr></tbody></table></div>"
      ],
      "text/plain": [
       "shape: (205, 2)\n",
       "┌───────────┬────────┐\n",
       "│ County    ┆ Total  │\n",
       "│ ---       ┆ ---    │\n",
       "│ str       ┆ u32    │\n",
       "╞═══════════╪════════╡\n",
       "│ King      ┆ 110122 │\n",
       "│ Snohomish ┆ 26195  │\n",
       "│ Pierce    ┆ 17392  │\n",
       "│ Clark     ┆ 12937  │\n",
       "│ Thurston  ┆ 7936   │\n",
       "│ …         ┆ …      │\n",
       "│ Cook      ┆ 1      │\n",
       "│ Hudson    ┆ 1      │\n",
       "│ Hennepin  ┆ 1      │\n",
       "│ Arlington ┆ 1      │\n",
       "│ Sedgwick  ┆ 1      │\n",
       "└───────────┴────────┘"
      ]
     },
     "execution_count": 84,
     "metadata": {},
     "output_type": "execute_result"
    }
   ],
   "source": [
    "Total_County = (\n",
    "    data\n",
    "    .group_by('County')\n",
    "    .agg(\n",
    "        Total = pl.col('County').count()\n",
    "    )\n",
    "    .sort('Total', descending= True)\n",
    ")\n",
    "\n",
    "Total_County"
   ]
  },
  {
   "cell_type": "markdown",
   "metadata": {},
   "source": [
    "Risulta utile verificare la percentuale di auto immatricolate in base alla contea, così da avere un'idea più chiara di come si distribuiscono le auto rispetto al territorio."
   ]
  },
  {
   "cell_type": "code",
   "execution_count": 85,
   "metadata": {},
   "outputs": [
    {
     "data": {
      "text/html": [
       "<div><style>\n",
       ".dataframe > thead > tr,\n",
       ".dataframe > tbody > tr {\n",
       "  text-align: right;\n",
       "  white-space: pre-wrap;\n",
       "}\n",
       "</style>\n",
       "<small>shape: (205, 2)</small><table border=\"1\" class=\"dataframe\"><thead><tr><th>County</th><th>Total</th></tr><tr><td>str</td><td>f64</td></tr></thead><tbody><tr><td>&quot;King&quot;</td><td>50.822</td></tr><tr><td>&quot;Snohomish&quot;</td><td>12.089</td></tr><tr><td>&quot;Pierce&quot;</td><td>8.026</td></tr><tr><td>&quot;Clark&quot;</td><td>5.97</td></tr><tr><td>&quot;Thurston&quot;</td><td>3.662</td></tr><tr><td>&hellip;</td><td>&hellip;</td></tr><tr><td>&quot;Meade&quot;</td><td>0.0</td></tr><tr><td>&quot;St.&nbsp;Lawrence&quot;</td><td>0.0</td></tr><tr><td>&quot;York&quot;</td><td>0.0</td></tr><tr><td>&quot;Geary&quot;</td><td>0.0</td></tr><tr><td>&quot;Kauai&quot;</td><td>0.0</td></tr></tbody></table></div>"
      ],
      "text/plain": [
       "shape: (205, 2)\n",
       "┌──────────────┬────────┐\n",
       "│ County       ┆ Total  │\n",
       "│ ---          ┆ ---    │\n",
       "│ str          ┆ f64    │\n",
       "╞══════════════╪════════╡\n",
       "│ King         ┆ 50.822 │\n",
       "│ Snohomish    ┆ 12.089 │\n",
       "│ Pierce       ┆ 8.026  │\n",
       "│ Clark        ┆ 5.97   │\n",
       "│ Thurston     ┆ 3.662  │\n",
       "│ …            ┆ …      │\n",
       "│ Meade        ┆ 0.0    │\n",
       "│ St. Lawrence ┆ 0.0    │\n",
       "│ York         ┆ 0.0    │\n",
       "│ Geary        ┆ 0.0    │\n",
       "│ Kauai        ┆ 0.0    │\n",
       "└──────────────┴────────┘"
      ]
     },
     "execution_count": 85,
     "metadata": {},
     "output_type": "execute_result"
    }
   ],
   "source": [
    "num_car = len(data)\n",
    "\n",
    "perc_county = (\n",
    "    data\n",
    "    .group_by('County')\n",
    "    .agg(\n",
    "        Total = (pl.col('County').count()/num_car*100).round(3)\n",
    "    )\n",
    "    .sort('Total', descending= True)\n",
    ")\n",
    "\n",
    "perc_county"
   ]
  },
  {
   "cell_type": "markdown",
   "metadata": {},
   "source": [
    "Analizzando la combinazione tra contea e numero di auto vendute per contea, si nota come ci siano enormi differenze tra le contee. Si nota come le contee vicine a Seattle e Portland(si intendono le contee confinanti con lo stato dell'Oregon) abbiano un numero di auto vendute significativo rispetto alle altre contee. \n",
    "\n",
    "A causa di questo, in seguito si andrà ad analizzare questo dato in base alla localizzazione geografica e non alla contea."
   ]
  },
  {
   "cell_type": "markdown",
   "metadata": {},
   "source": [
    "## Vendita di auto in base alla localizzazione\n",
    "\n",
    "Per eseguire questa analisi, verifichiamo i dati che sono presenti nella colonna *Vehicle Location*. \n",
    "\n",
    "Questi dati poi verranno usati per creare una mappa 3d in cui si vede dove sono state immatricolate le auto nello stato di Washington."
   ]
  },
  {
   "cell_type": "code",
   "execution_count": 59,
   "metadata": {},
   "outputs": [
    {
     "name": "stdout",
     "output_type": "stream",
     "text": [
      "Tipologia del dato :shape: (1, 1)\n",
      "┌─────────────────────────────┐\n",
      "│ Vehicle Location            │\n",
      "│ ---                         │\n",
      "│ str                         │\n",
      "╞═════════════════════════════╡\n",
      "│ POINT (-122.36498 47.72238) │\n",
      "└─────────────────────────────┘\n",
      "Lunghezza della lista coord_list: 216683\n",
      "Tipologia e dato di coord_list\n",
      "Tipo: <class 'tuple'> Dato:(-122.36498, 47.72238)\n",
      "Tipo: <class 'tuple'> Dato:(-122.30207, 47.64085)\n",
      "Tipo: <class 'tuple'> Dato:(-122.54729, 47.42602)\n",
      "Tipo: <class 'tuple'> Dato:(-122.89166, 47.03956)\n",
      "Tipo: <class 'tuple'> Dato:(-122.87741, 47.05997)\n"
     ]
    }
   ],
   "source": [
    "import re\n",
    "import pandas as pd\n",
    "\n",
    "data_point = (\n",
    "    data\n",
    "    .select(pl.col('Vehicle Location'))\n",
    ")\n",
    "\n",
    "#Si nota che è di tipo str\n",
    "print(f'Tipologia del dato :{data_point[0]}')\n",
    "\n",
    "#Creiamo una lista contenente tuple  ('longitue','latitude'): (float, float)\n",
    "coord_list = []\n",
    "for row in data_point.rows():\n",
    "    if row[0] is not None:\n",
    "        numb = re.findall(r'-?\\d+\\.\\d+|-?\\d+', row[0])\n",
    "        coord = (float(numb[0]), float(numb[1]))\n",
    "        coord_list.append(coord)\n",
    "\n",
    "#verifichiamo la lunghezza della lista\n",
    "print(f'Lunghezza della lista coord_list: {len(coord_list)}')\n",
    "\n",
    "#verifichiamo i primi 5 elementi di coord_list\n",
    "\n",
    "print('Tipologia e dato di coord_list')\n",
    "for i in range(5):\n",
    "    print(f'Tipo: {type(coord_list[i])} Dato:{coord_list[i]}')"
   ]
  },
  {
   "cell_type": "markdown",
   "metadata": {},
   "source": [
    "## Vendita di auto in base a produttore e anno"
   ]
  },
  {
   "cell_type": "code",
   "execution_count": 62,
   "metadata": {},
   "outputs": [
    {
     "data": {
      "text/html": [
       "<div><style>\n",
       ".dataframe > thead > tr,\n",
       ".dataframe > tbody > tr {\n",
       "  text-align: right;\n",
       "  white-space: pre-wrap;\n",
       "}\n",
       "</style>\n",
       "<small>shape: (267, 3)</small><table border=\"1\" class=\"dataframe\"><thead><tr><th>Make</th><th>Model Year</th><th>Vendita_per_marca</th></tr><tr><td>str</td><td>i64</td><td>u32</td></tr></thead><tbody><tr><td>&quot;KIA&quot;</td><td>2022</td><td>2116</td></tr><tr><td>&quot;TOYOTA&quot;</td><td>2012</td><td>377</td></tr><tr><td>&quot;PORSCHE&quot;</td><td>2015</td><td>33</td></tr><tr><td>&quot;VOLKSWAGEN&quot;</td><td>2021</td><td>990</td></tr><tr><td>&quot;VOLVO&quot;</td><td>2023</td><td>1412</td></tr><tr><td>&hellip;</td><td>&hellip;</td><td>&hellip;</td></tr><tr><td>&quot;MINI&quot;</td><td>2020</td><td>18</td></tr><tr><td>&quot;MERCEDES-BENZ&quot;</td><td>2015</td><td>24</td></tr><tr><td>&quot;NISSAN&quot;</td><td>2023</td><td>1490</td></tr><tr><td>&quot;VOLVO&quot;</td><td>2019</td><td>196</td></tr><tr><td>&quot;BMW&quot;</td><td>2024</td><td>1985</td></tr></tbody></table></div>"
      ],
      "text/plain": [
       "shape: (267, 3)\n",
       "┌───────────────┬────────────┬───────────────────┐\n",
       "│ Make          ┆ Model Year ┆ Vendita_per_marca │\n",
       "│ ---           ┆ ---        ┆ ---               │\n",
       "│ str           ┆ i64        ┆ u32               │\n",
       "╞═══════════════╪════════════╪═══════════════════╡\n",
       "│ KIA           ┆ 2022       ┆ 2116              │\n",
       "│ TOYOTA        ┆ 2012       ┆ 377               │\n",
       "│ PORSCHE       ┆ 2015       ┆ 33                │\n",
       "│ VOLKSWAGEN    ┆ 2021       ┆ 990               │\n",
       "│ VOLVO         ┆ 2023       ┆ 1412              │\n",
       "│ …             ┆ …          ┆ …                 │\n",
       "│ MINI          ┆ 2020       ┆ 18                │\n",
       "│ MERCEDES-BENZ ┆ 2015       ┆ 24                │\n",
       "│ NISSAN        ┆ 2023       ┆ 1490              │\n",
       "│ VOLVO         ┆ 2019       ┆ 196               │\n",
       "│ BMW           ┆ 2024       ┆ 1985              │\n",
       "└───────────────┴────────────┴───────────────────┘"
      ]
     },
     "execution_count": 62,
     "metadata": {},
     "output_type": "execute_result"
    }
   ],
   "source": [
    "(\n",
    "    data\n",
    "    .group_by('Make', 'Model Year')\n",
    "    .agg(\n",
    "        Vendita_per_marca = pl.col('Make').count()\n",
    "    )\n",
    ")"
   ]
  },
  {
   "cell_type": "markdown",
   "metadata": {},
   "source": [
    "## Vendita di auto in base a tipologia di motore e produttore"
   ]
  },
  {
   "cell_type": "code",
   "execution_count": 63,
   "metadata": {},
   "outputs": [
    {
     "data": {
      "text/html": [
       "<div><style>\n",
       ".dataframe > thead > tr,\n",
       ".dataframe > tbody > tr {\n",
       "  text-align: right;\n",
       "  white-space: pre-wrap;\n",
       "}\n",
       "</style>\n",
       "<small>shape: (60, 3)</small><table border=\"1\" class=\"dataframe\"><thead><tr><th>Make</th><th>Electric Vehicle Type</th><th>Engine</th></tr><tr><td>str</td><td>str</td><td>u32</td></tr></thead><tbody><tr><td>&quot;NISSAN&quot;</td><td>&quot;Battery&nbsp;Electric&nbsp;Vehicle&nbsp;(BEV)&quot;</td><td>15011</td></tr><tr><td>&quot;VOLKSWAGEN&quot;</td><td>&quot;Battery&nbsp;Electric&nbsp;Vehicle&nbsp;(BEV)&quot;</td><td>5826</td></tr><tr><td>&quot;PORSCHE&quot;</td><td>&quot;Plug-in&nbsp;Hybrid&nbsp;Electric&nbsp;Vehicl…</td><td>543</td></tr><tr><td>&quot;SUBARU&quot;</td><td>&quot;Battery&nbsp;Electric&nbsp;Vehicle&nbsp;(BEV)&quot;</td><td>1545</td></tr><tr><td>&quot;GENESIS&quot;</td><td>&quot;Battery&nbsp;Electric&nbsp;Vehicle&nbsp;(BEV)&quot;</td><td>297</td></tr><tr><td>&hellip;</td><td>&hellip;</td><td>&hellip;</td></tr><tr><td>&quot;RAM&quot;</td><td>&quot;Battery&nbsp;Electric&nbsp;Vehicle&nbsp;(BEV)&quot;</td><td>2</td></tr><tr><td>&quot;AUDI&quot;</td><td>&quot;Plug-in&nbsp;Hybrid&nbsp;Electric&nbsp;Vehicl…</td><td>1709</td></tr><tr><td>&quot;BMW&quot;</td><td>&quot;Plug-in&nbsp;Hybrid&nbsp;Electric&nbsp;Vehicl…</td><td>5432</td></tr><tr><td>&quot;JAGUAR&quot;</td><td>&quot;Battery&nbsp;Electric&nbsp;Vehicle&nbsp;(BEV)&quot;</td><td>237</td></tr><tr><td>&quot;LEXUS&quot;</td><td>&quot;Battery&nbsp;Electric&nbsp;Vehicle&nbsp;(BEV)&quot;</td><td>392</td></tr></tbody></table></div>"
      ],
      "text/plain": [
       "shape: (60, 3)\n",
       "┌────────────┬─────────────────────────────────┬────────┐\n",
       "│ Make       ┆ Electric Vehicle Type           ┆ Engine │\n",
       "│ ---        ┆ ---                             ┆ ---    │\n",
       "│ str        ┆ str                             ┆ u32    │\n",
       "╞════════════╪═════════════════════════════════╪════════╡\n",
       "│ NISSAN     ┆ Battery Electric Vehicle (BEV)  ┆ 15011  │\n",
       "│ VOLKSWAGEN ┆ Battery Electric Vehicle (BEV)  ┆ 5826   │\n",
       "│ PORSCHE    ┆ Plug-in Hybrid Electric Vehicl… ┆ 543    │\n",
       "│ SUBARU     ┆ Battery Electric Vehicle (BEV)  ┆ 1545   │\n",
       "│ GENESIS    ┆ Battery Electric Vehicle (BEV)  ┆ 297    │\n",
       "│ …          ┆ …                               ┆ …      │\n",
       "│ RAM        ┆ Battery Electric Vehicle (BEV)  ┆ 2      │\n",
       "│ AUDI       ┆ Plug-in Hybrid Electric Vehicl… ┆ 1709   │\n",
       "│ BMW        ┆ Plug-in Hybrid Electric Vehicl… ┆ 5432   │\n",
       "│ JAGUAR     ┆ Battery Electric Vehicle (BEV)  ┆ 237    │\n",
       "│ LEXUS      ┆ Battery Electric Vehicle (BEV)  ┆ 392    │\n",
       "└────────────┴─────────────────────────────────┴────────┘"
      ]
     },
     "execution_count": 63,
     "metadata": {},
     "output_type": "execute_result"
    }
   ],
   "source": [
    "(\n",
    "    data\n",
    "    .group_by('Make', 'Electric Vehicle Type')\n",
    "    .agg(\n",
    "        Engine = pl.col('Electric Vehicle Type').count()\n",
    "    )\n",
    ")"
   ]
  },
  {
   "cell_type": "markdown",
   "metadata": {},
   "source": [
    "## Ventita annuale di auto in base al modello e marca\n",
    "\n",
    "Per semplificare il layout del grafico a seguito di un'analisi è stato deciso di eliminare i modelli dei produttori che hanno venduto meno di 15 auto all'anno."
   ]
  },
  {
   "cell_type": "code",
   "execution_count": 100,
   "metadata": {},
   "outputs": [
    {
     "data": {
      "text/html": [
       "<div><style>\n",
       ".dataframe > thead > tr,\n",
       ".dataframe > tbody > tr {\n",
       "  text-align: right;\n",
       "  white-space: pre-wrap;\n",
       "}\n",
       "</style>\n",
       "<small>shape: (432, 4)</small><table border=\"1\" class=\"dataframe\"><thead><tr><th>Make</th><th>Model</th><th>Model Year</th><th>Total</th></tr><tr><td>str</td><td>str</td><td>i64</td><td>u32</td></tr></thead><tbody><tr><td>&quot;CHEVROLET&quot;</td><td>&quot;VOLT&quot;</td><td>2011</td><td>73</td></tr><tr><td>&quot;NISSAN&quot;</td><td>&quot;LEAF&quot;</td><td>2011</td><td>610</td></tr><tr><td>&quot;MITSUBISHI&quot;</td><td>&quot;I-MIEV&quot;</td><td>2012</td><td>40</td></tr><tr><td>&quot;TESLA&quot;</td><td>&quot;MODEL&nbsp;S&quot;</td><td>2012</td><td>128</td></tr><tr><td>&quot;TOYOTA&quot;</td><td>&quot;PRIUS&nbsp;PLUG-IN&quot;</td><td>2012</td><td>368</td></tr><tr><td>&hellip;</td><td>&hellip;</td><td>&hellip;</td><td>&hellip;</td></tr><tr><td>&quot;VOLVO&quot;</td><td>&quot;XC60&quot;</td><td>2025</td><td>95</td></tr><tr><td>&quot;BMW&quot;</td><td>&quot;IX&quot;</td><td>2025</td><td>112</td></tr><tr><td>&quot;NISSAN&quot;</td><td>&quot;LEAF&quot;</td><td>2025</td><td>139</td></tr><tr><td>&quot;BMW&quot;</td><td>&quot;X5&quot;</td><td>2025</td><td>189</td></tr><tr><td>&quot;RIVIAN&quot;</td><td>&quot;R1S&quot;</td><td>2025</td><td>412</td></tr></tbody></table></div>"
      ],
      "text/plain": [
       "shape: (432, 4)\n",
       "┌────────────┬───────────────┬────────────┬───────┐\n",
       "│ Make       ┆ Model         ┆ Model Year ┆ Total │\n",
       "│ ---        ┆ ---           ┆ ---        ┆ ---   │\n",
       "│ str        ┆ str           ┆ i64        ┆ u32   │\n",
       "╞════════════╪═══════════════╪════════════╪═══════╡\n",
       "│ CHEVROLET  ┆ VOLT          ┆ 2011       ┆ 73    │\n",
       "│ NISSAN     ┆ LEAF          ┆ 2011       ┆ 610   │\n",
       "│ MITSUBISHI ┆ I-MIEV        ┆ 2012       ┆ 40    │\n",
       "│ TESLA      ┆ MODEL S       ┆ 2012       ┆ 128   │\n",
       "│ TOYOTA     ┆ PRIUS PLUG-IN ┆ 2012       ┆ 368   │\n",
       "│ …          ┆ …             ┆ …          ┆ …     │\n",
       "│ VOLVO      ┆ XC60          ┆ 2025       ┆ 95    │\n",
       "│ BMW        ┆ IX            ┆ 2025       ┆ 112   │\n",
       "│ NISSAN     ┆ LEAF          ┆ 2025       ┆ 139   │\n",
       "│ BMW        ┆ X5            ┆ 2025       ┆ 189   │\n",
       "│ RIVIAN     ┆ R1S           ┆ 2025       ┆ 412   │\n",
       "└────────────┴───────────────┴────────────┴───────┘"
      ]
     },
     "execution_count": 100,
     "metadata": {},
     "output_type": "execute_result"
    }
   ],
   "source": [
    "#In questo caso è stato filtrato il produttore e il modello per semplicità di output.\n",
    "(\n",
    "    data\n",
    "    .group_by('Make', 'Model', 'Model Year')\n",
    "    .agg(\n",
    "        Total = pl.col('Model').count()\n",
    "    )\n",
    "    .filter(pl.col('Total') >= 15)\n",
    "    .sort([pl.col('Model Year'),pl.col('Total')], descending=False)\n",
    ")"
   ]
  }
 ],
 "metadata": {
  "kernelspec": {
   "display_name": ".venv",
   "language": "python",
   "name": "python3"
  },
  "language_info": {
   "codemirror_mode": {
    "name": "ipython",
    "version": 3
   },
   "file_extension": ".py",
   "mimetype": "text/x-python",
   "name": "python",
   "nbconvert_exporter": "python",
   "pygments_lexer": "ipython3",
   "version": "3.12.7"
  }
 },
 "nbformat": 4,
 "nbformat_minor": 2
}
