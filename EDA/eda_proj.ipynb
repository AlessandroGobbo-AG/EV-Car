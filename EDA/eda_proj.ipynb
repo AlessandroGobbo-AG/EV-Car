{
 "cells": [
  {
   "cell_type": "markdown",
   "metadata": {},
   "source": [
    "## Estrazione dei dati.\n",
    "\n",
    "Data download dei dati: 10-12-2024\n",
    "\n",
    "Data ultimo upgrade dei dati: 22-11-2024\n",
    "\n",
    "Sito origine dei dati: data.wa.gov\n",
    "\n",
    "Link origine dei dati: https://catalog.data.gov/dataset/electric-vehicle-population-data"
   ]
  },
  {
   "cell_type": "code",
   "execution_count": 17,
   "metadata": {},
   "outputs": [
    {
     "data": {
      "text/html": [
       "<div><style>\n",
       ".dataframe > thead > tr,\n",
       ".dataframe > tbody > tr {\n",
       "  text-align: right;\n",
       "  white-space: pre-wrap;\n",
       "}\n",
       "</style>\n",
       "<small>shape: (9, 18)</small><table border=\"1\" class=\"dataframe\"><thead><tr><th>statistic</th><th>VIN (1-10)</th><th>County</th><th>City</th><th>State</th><th>Postal Code</th><th>Model Year</th><th>Make</th><th>Model</th><th>Electric Vehicle Type</th><th>Clean Alternative Fuel Vehicle (CAFV) Eligibility</th><th>Electric Range</th><th>Base MSRP</th><th>Legislative District</th><th>DOL Vehicle ID</th><th>Vehicle Location</th><th>Electric Utility</th><th>2020 Census Tract</th></tr><tr><td>str</td><td>str</td><td>str</td><td>str</td><td>str</td><td>f64</td><td>f64</td><td>str</td><td>str</td><td>str</td><td>str</td><td>f64</td><td>f64</td><td>f64</td><td>f64</td><td>str</td><td>str</td><td>f64</td></tr></thead><tbody><tr><td>&quot;count&quot;</td><td>&quot;216772&quot;</td><td>&quot;216767&quot;</td><td>&quot;216767&quot;</td><td>&quot;216772&quot;</td><td>216767.0</td><td>216772.0</td><td>&quot;216772&quot;</td><td>&quot;216772&quot;</td><td>&quot;216772&quot;</td><td>&quot;216772&quot;</td><td>216753.0</td><td>216753.0</td><td>216321.0</td><td>216772.0</td><td>&quot;216761&quot;</td><td>&quot;216767&quot;</td><td>216767.0</td></tr><tr><td>&quot;null_count&quot;</td><td>&quot;0&quot;</td><td>&quot;5&quot;</td><td>&quot;5&quot;</td><td>&quot;0&quot;</td><td>5.0</td><td>0.0</td><td>&quot;0&quot;</td><td>&quot;0&quot;</td><td>&quot;0&quot;</td><td>&quot;0&quot;</td><td>19.0</td><td>19.0</td><td>451.0</td><td>0.0</td><td>&quot;11&quot;</td><td>&quot;5&quot;</td><td>5.0</td></tr><tr><td>&quot;mean&quot;</td><td>null</td><td>null</td><td>null</td><td>null</td><td>98179.750714</td><td>2021.129039</td><td>null</td><td>null</td><td>null</td><td>null</td><td>49.428386</td><td>870.987045</td><td>28.920114</td><td>2.3045e8</td><td>null</td><td>null</td><td>5.2982e10</td></tr><tr><td>&quot;std&quot;</td><td>null</td><td>null</td><td>null</td><td>null</td><td>2458.320323</td><td>2.983918</td><td>null</td><td>null</td><td>null</td><td>null</td><td>86.224511</td><td>7544.671592</td><td>14.907934</td><td>7.0450e7</td><td>null</td><td>null</td><td>1.5147e9</td></tr><tr><td>&quot;min&quot;</td><td>&quot;1C4JJXN60P&quot;</td><td>&quot;Ada&quot;</td><td>&quot;Aberdeen&quot;</td><td>&quot;AE&quot;</td><td>1731.0</td><td>1999.0</td><td>&quot;ACURA&quot;</td><td>&quot;330E&quot;</td><td>&quot;Battery&nbsp;Electric&nbsp;Vehicle&nbsp;(BEV)&quot;</td><td>&quot;Clean&nbsp;Alternative&nbsp;Fuel&nbsp;Vehicle…</td><td>0.0</td><td>0.0</td><td>1.0</td><td>4385.0</td><td>&quot;POINT&nbsp;(-100.50078&nbsp;31.4168)&quot;</td><td>&quot;AVISTA&nbsp;CORP&quot;</td><td>1.0010e9</td></tr><tr><td>&quot;25%&quot;</td><td>null</td><td>null</td><td>null</td><td>null</td><td>98052.0</td><td>2020.0</td><td>null</td><td>null</td><td>null</td><td>null</td><td>0.0</td><td>0.0</td><td>17.0</td><td>1.96232816e8</td><td>null</td><td>null</td><td>5.3033e10</td></tr><tr><td>&quot;50%&quot;</td><td>null</td><td>null</td><td>null</td><td>null</td><td>98125.0</td><td>2022.0</td><td>null</td><td>null</td><td>null</td><td>null</td><td>0.0</td><td>0.0</td><td>32.0</td><td>2.44032309e8</td><td>null</td><td>null</td><td>5.3033e10</td></tr><tr><td>&quot;75%&quot;</td><td>null</td><td>null</td><td>null</td><td>null</td><td>98374.0</td><td>2023.0</td><td>null</td><td>null</td><td>null</td><td>null</td><td>42.0</td><td>0.0</td><td>42.0</td><td>2.64906967e8</td><td>null</td><td>null</td><td>5.3053e10</td></tr><tr><td>&quot;max&quot;</td><td>&quot;ZHWUC1ZM1R&quot;</td><td>&quot;Yuba&quot;</td><td>&quot;Zillah&quot;</td><td>&quot;WY&quot;</td><td>99577.0</td><td>2025.0</td><td>&quot;WHEEGO&nbsp;ELECTRIC&nbsp;CARS&quot;</td><td>&quot;ZDX&quot;</td><td>&quot;Plug-in&nbsp;Hybrid&nbsp;Electric&nbsp;Vehicl…</td><td>&quot;Not&nbsp;eligible&nbsp;due&nbsp;to&nbsp;low&nbsp;batter…</td><td>337.0</td><td>845000.0</td><td>49.0</td><td>4.79254772e8</td><td>&quot;POINT&nbsp;(-98.72277&nbsp;29.44539)&quot;</td><td>&quot;PUGET&nbsp;SOUND&nbsp;ENERGY&nbsp;INC||PUD&nbsp;NO…</td><td>5.6021e10</td></tr></tbody></table></div>"
      ],
      "text/plain": [
       "shape: (9, 18)\n",
       "┌────────────┬────────────┬────────┬──────────┬───┬────────────┬───────────┬───────────┬───────────┐\n",
       "│ statistic  ┆ VIN (1-10) ┆ County ┆ City     ┆ … ┆ DOL        ┆ Vehicle   ┆ Electric  ┆ 2020      │\n",
       "│ ---        ┆ ---        ┆ ---    ┆ ---      ┆   ┆ Vehicle ID ┆ Location  ┆ Utility   ┆ Census    │\n",
       "│ str        ┆ str        ┆ str    ┆ str      ┆   ┆ ---        ┆ ---       ┆ ---       ┆ Tract     │\n",
       "│            ┆            ┆        ┆          ┆   ┆ f64        ┆ str       ┆ str       ┆ ---       │\n",
       "│            ┆            ┆        ┆          ┆   ┆            ┆           ┆           ┆ f64       │\n",
       "╞════════════╪════════════╪════════╪══════════╪═══╪════════════╪═══════════╪═══════════╪═══════════╡\n",
       "│ count      ┆ 216772     ┆ 216767 ┆ 216767   ┆ … ┆ 216772.0   ┆ 216761    ┆ 216767    ┆ 216767.0  │\n",
       "│ null_count ┆ 0          ┆ 5      ┆ 5        ┆ … ┆ 0.0        ┆ 11        ┆ 5         ┆ 5.0       │\n",
       "│ mean       ┆ null       ┆ null   ┆ null     ┆ … ┆ 2.3045e8   ┆ null      ┆ null      ┆ 5.2982e10 │\n",
       "│ std        ┆ null       ┆ null   ┆ null     ┆ … ┆ 7.0450e7   ┆ null      ┆ null      ┆ 1.5147e9  │\n",
       "│ min        ┆ 1C4JJXN60P ┆ Ada    ┆ Aberdeen ┆ … ┆ 4385.0     ┆ POINT (-1 ┆ AVISTA    ┆ 1.0010e9  │\n",
       "│            ┆            ┆        ┆          ┆   ┆            ┆ 00.50078  ┆ CORP      ┆           │\n",
       "│            ┆            ┆        ┆          ┆   ┆            ┆ 31.4168)  ┆           ┆           │\n",
       "│ 25%        ┆ null       ┆ null   ┆ null     ┆ … ┆ 1.96232816 ┆ null      ┆ null      ┆ 5.3033e10 │\n",
       "│            ┆            ┆        ┆          ┆   ┆ e8         ┆           ┆           ┆           │\n",
       "│ 50%        ┆ null       ┆ null   ┆ null     ┆ … ┆ 2.44032309 ┆ null      ┆ null      ┆ 5.3033e10 │\n",
       "│            ┆            ┆        ┆          ┆   ┆ e8         ┆           ┆           ┆           │\n",
       "│ 75%        ┆ null       ┆ null   ┆ null     ┆ … ┆ 2.64906967 ┆ null      ┆ null      ┆ 5.3053e10 │\n",
       "│            ┆            ┆        ┆          ┆   ┆ e8         ┆           ┆           ┆           │\n",
       "│ max        ┆ ZHWUC1ZM1R ┆ Yuba   ┆ Zillah   ┆ … ┆ 4.79254772 ┆ POINT (-9 ┆ PUGET     ┆ 5.6021e10 │\n",
       "│            ┆            ┆        ┆          ┆   ┆ e8         ┆ 8.72277   ┆ SOUND     ┆           │\n",
       "│            ┆            ┆        ┆          ┆   ┆            ┆ 29.44539) ┆ ENERGY    ┆           │\n",
       "│            ┆            ┆        ┆          ┆   ┆            ┆           ┆ INC||PUD  ┆           │\n",
       "│            ┆            ┆        ┆          ┆   ┆            ┆           ┆ NO…       ┆           │\n",
       "└────────────┴────────────┴────────┴──────────┴───┴────────────┴───────────┴───────────┴───────────┘"
      ]
     },
     "execution_count": 17,
     "metadata": {},
     "output_type": "execute_result"
    }
   ],
   "source": [
    "import polars as pl\n",
    "from pathlib import Path\n",
    "\n",
    "data_dir = Path('DATA')\n",
    "data_file = \"..\"/ data_dir / \"Electric_Vehicle_Population_Data.csv\"\n",
    "\n",
    "data = pl.read_csv(data_file)\n",
    "\n",
    "#Breve visualizzazione dei dati\n",
    "data.head()\n",
    "data.describe()"
   ]
  },
  {
   "cell_type": "markdown",
   "metadata": {},
   "source": [
    "## Manipolazione dei dati\n",
    "\n",
    "A seguito di un'analisi preliminare si nota che alcune colonne non risultano utili per l'analisi.\n",
    "\n",
    "# Lista colonne da eliminare\n",
    "\n",
    "-VIN (1-10)\n",
    "-Postal Code\n",
    "-Base MSRP\n",
    "-Legislative District\n",
    "-DOL Vehicle ID\n",
    "-Electric Utility\n",
    "-2020 Census Tract\n",
    "-Clean Alternative Fuel Vehicle (CAFV) Eligibility\n",
    "\n",
    "# Lista colonne che verranno utilizzate con la relativa descrizione\n",
    "\n",
    "*La descrizione è in lingua inglese perchè è la descrizione data dal sito: data.gov*\n",
    "\n",
    "- **Country**: This is the geographic region of a state that a vehicle's owner is listed to reside within. Vehicles registered in Washington state may be located in other states.\n",
    "-  **City**: The city in which the registered owner resides.\n",
    "- **State**: This is the geographic region of the country associated with the record. These addresses may be located in other states.\n",
    "- **Model Year**: The model year of the vehicle.\n",
    "- **Make**: The manufacturer of the vehicle.\n",
    "- **Model**: The model of the vehicle.\n",
    "- **Electric Vehicle Type**: This distinguishes the vehicle as all electric or a plug-in hybrid.\n",
    "- **Electric Range**: Describes how far a vehicle can travel purely on its electric charge.\n",
    "- **Vehicle Location**: The center of the ZIP Code for the registered vehicle.\n",
    "- **Base MSRP**: This is the lowest Manufacturer's Suggested Retail Price (MSRP) for any trim level of the model in question.\n",
    "\n",
    "**Nota Bene**\n",
    "I dato arrivano al 2025 a causa di alcuni preordini."
   ]
  },
  {
   "cell_type": "code",
   "execution_count": 18,
   "metadata": {},
   "outputs": [
    {
     "data": {
      "text/html": [
       "<div><style>\n",
       ".dataframe > thead > tr,\n",
       ".dataframe > tbody > tr {\n",
       "  text-align: right;\n",
       "  white-space: pre-wrap;\n",
       "}\n",
       "</style>\n",
       "<small>shape: (9, 11)</small><table border=\"1\" class=\"dataframe\"><thead><tr><th>statistic</th><th>County</th><th>City</th><th>State</th><th>Model Year</th><th>Make</th><th>Model</th><th>Electric Vehicle Type</th><th>Electric Range</th><th>Base MSRP</th><th>Vehicle Location</th></tr><tr><td>str</td><td>str</td><td>str</td><td>str</td><td>f64</td><td>str</td><td>str</td><td>str</td><td>f64</td><td>f64</td><td>str</td></tr></thead><tbody><tr><td>&quot;count&quot;</td><td>&quot;216767&quot;</td><td>&quot;216767&quot;</td><td>&quot;216772&quot;</td><td>216772.0</td><td>&quot;216772&quot;</td><td>&quot;216772&quot;</td><td>&quot;216772&quot;</td><td>216753.0</td><td>216753.0</td><td>&quot;216761&quot;</td></tr><tr><td>&quot;null_count&quot;</td><td>&quot;5&quot;</td><td>&quot;5&quot;</td><td>&quot;0&quot;</td><td>0.0</td><td>&quot;0&quot;</td><td>&quot;0&quot;</td><td>&quot;0&quot;</td><td>19.0</td><td>19.0</td><td>&quot;11&quot;</td></tr><tr><td>&quot;mean&quot;</td><td>null</td><td>null</td><td>null</td><td>2021.129039</td><td>null</td><td>null</td><td>null</td><td>49.428386</td><td>870.987045</td><td>null</td></tr><tr><td>&quot;std&quot;</td><td>null</td><td>null</td><td>null</td><td>2.983918</td><td>null</td><td>null</td><td>null</td><td>86.224511</td><td>7544.671592</td><td>null</td></tr><tr><td>&quot;min&quot;</td><td>&quot;Ada&quot;</td><td>&quot;Aberdeen&quot;</td><td>&quot;AE&quot;</td><td>1999.0</td><td>&quot;ACURA&quot;</td><td>&quot;330E&quot;</td><td>&quot;Battery&nbsp;Electric&nbsp;Vehicle&nbsp;(BEV)&quot;</td><td>0.0</td><td>0.0</td><td>&quot;POINT&nbsp;(-100.50078&nbsp;31.4168)&quot;</td></tr><tr><td>&quot;25%&quot;</td><td>null</td><td>null</td><td>null</td><td>2020.0</td><td>null</td><td>null</td><td>null</td><td>0.0</td><td>0.0</td><td>null</td></tr><tr><td>&quot;50%&quot;</td><td>null</td><td>null</td><td>null</td><td>2022.0</td><td>null</td><td>null</td><td>null</td><td>0.0</td><td>0.0</td><td>null</td></tr><tr><td>&quot;75%&quot;</td><td>null</td><td>null</td><td>null</td><td>2023.0</td><td>null</td><td>null</td><td>null</td><td>42.0</td><td>0.0</td><td>null</td></tr><tr><td>&quot;max&quot;</td><td>&quot;Yuba&quot;</td><td>&quot;Zillah&quot;</td><td>&quot;WY&quot;</td><td>2025.0</td><td>&quot;WHEEGO&nbsp;ELECTRIC&nbsp;CARS&quot;</td><td>&quot;ZDX&quot;</td><td>&quot;Plug-in&nbsp;Hybrid&nbsp;Electric&nbsp;Vehicl…</td><td>337.0</td><td>845000.0</td><td>&quot;POINT&nbsp;(-98.72277&nbsp;29.44539)&quot;</td></tr></tbody></table></div>"
      ],
      "text/plain": [
       "shape: (9, 11)\n",
       "┌────────────┬────────┬──────────┬────────┬───┬─────────────┬────────────┬────────────┬────────────┐\n",
       "│ statistic  ┆ County ┆ City     ┆ State  ┆ … ┆ Electric    ┆ Electric   ┆ Base MSRP  ┆ Vehicle    │\n",
       "│ ---        ┆ ---    ┆ ---      ┆ ---    ┆   ┆ Vehicle     ┆ Range      ┆ ---        ┆ Location   │\n",
       "│ str        ┆ str    ┆ str      ┆ str    ┆   ┆ Type        ┆ ---        ┆ f64        ┆ ---        │\n",
       "│            ┆        ┆          ┆        ┆   ┆ ---         ┆ f64        ┆            ┆ str        │\n",
       "│            ┆        ┆          ┆        ┆   ┆ str         ┆            ┆            ┆            │\n",
       "╞════════════╪════════╪══════════╪════════╪═══╪═════════════╪════════════╪════════════╪════════════╡\n",
       "│ count      ┆ 216767 ┆ 216767   ┆ 216772 ┆ … ┆ 216772      ┆ 216753.0   ┆ 216753.0   ┆ 216761     │\n",
       "│ null_count ┆ 5      ┆ 5        ┆ 0      ┆ … ┆ 0           ┆ 19.0       ┆ 19.0       ┆ 11         │\n",
       "│ mean       ┆ null   ┆ null     ┆ null   ┆ … ┆ null        ┆ 49.428386  ┆ 870.987045 ┆ null       │\n",
       "│ std        ┆ null   ┆ null     ┆ null   ┆ … ┆ null        ┆ 86.224511  ┆ 7544.67159 ┆ null       │\n",
       "│            ┆        ┆          ┆        ┆   ┆             ┆            ┆ 2          ┆            │\n",
       "│ min        ┆ Ada    ┆ Aberdeen ┆ AE     ┆ … ┆ Battery     ┆ 0.0        ┆ 0.0        ┆ POINT (-10 │\n",
       "│            ┆        ┆          ┆        ┆   ┆ Electric    ┆            ┆            ┆ 0.50078    │\n",
       "│            ┆        ┆          ┆        ┆   ┆ Vehicle     ┆            ┆            ┆ 31.4168)   │\n",
       "│            ┆        ┆          ┆        ┆   ┆ (BEV)       ┆            ┆            ┆            │\n",
       "│ 25%        ┆ null   ┆ null     ┆ null   ┆ … ┆ null        ┆ 0.0        ┆ 0.0        ┆ null       │\n",
       "│ 50%        ┆ null   ┆ null     ┆ null   ┆ … ┆ null        ┆ 0.0        ┆ 0.0        ┆ null       │\n",
       "│ 75%        ┆ null   ┆ null     ┆ null   ┆ … ┆ null        ┆ 42.0       ┆ 0.0        ┆ null       │\n",
       "│ max        ┆ Yuba   ┆ Zillah   ┆ WY     ┆ … ┆ Plug-in     ┆ 337.0      ┆ 845000.0   ┆ POINT      │\n",
       "│            ┆        ┆          ┆        ┆   ┆ Hybrid      ┆            ┆            ┆ (-98.72277 │\n",
       "│            ┆        ┆          ┆        ┆   ┆ Electric    ┆            ┆            ┆ 29.44539)  │\n",
       "│            ┆        ┆          ┆        ┆   ┆ Vehicl…     ┆            ┆            ┆            │\n",
       "└────────────┴────────┴──────────┴────────┴───┴─────────────┴────────────┴────────────┴────────────┘"
      ]
     },
     "execution_count": 18,
     "metadata": {},
     "output_type": "execute_result"
    }
   ],
   "source": [
    "data = data.select(pl.exclude(['VIN (1-10)','Postal Code','Legislative District','DOL Vehicle ID','Electric Utility','2020 Census Tract','Clean Alternative Fuel Vehicle (CAFV) Eligibility']))\n",
    "data.describe()\n",
    "\n"
   ]
  },
  {
   "cell_type": "code",
   "execution_count": 19,
   "metadata": {},
   "outputs": [],
   "source": [
    "data = data.drop_nulls()"
   ]
  },
  {
   "cell_type": "markdown",
   "metadata": {},
   "source": [
    "## Obiettivi dell'analisi\n",
    "\n",
    "Gli obiettivi sono quelli di eseguire un'analisi completa sul dataset cercando di mostrare graficamente le informazioni che riguardano la vendita di auto elettriche, in base a determinate categorie. \n",
    "\n",
    "Per semplicità quando si analizzano entrambe le tipologie di vetture verrà usato il termine 'auto', invece se si fa riferimento solo ad una categoria delle due verranno usati i termini 'BEV' o 'PHEV'.\n",
    "\n",
    "# Vendita annuale di auto BEV/PHEV"
   ]
  },
  {
   "cell_type": "code",
   "execution_count": 20,
   "metadata": {},
   "outputs": [
    {
     "data": {
      "text/html": [
       "<div><style>\n",
       ".dataframe > thead > tr,\n",
       ".dataframe > tbody > tr {\n",
       "  text-align: right;\n",
       "  white-space: pre-wrap;\n",
       "}\n",
       "</style>\n",
       "<small>shape: (21, 2)</small><table border=\"1\" class=\"dataframe\"><thead><tr><th>Model Year</th><th>tot_per_year</th></tr><tr><td>i64</td><td>u32</td></tr></thead><tbody><tr><td>1999</td><td>2</td></tr><tr><td>2000</td><td>7</td></tr><tr><td>2002</td><td>2</td></tr><tr><td>2003</td><td>1</td></tr><tr><td>2008</td><td>23</td></tr><tr><td>&hellip;</td><td>&hellip;</td></tr><tr><td>2021</td><td>20074</td></tr><tr><td>2022</td><td>28592</td></tr><tr><td>2023</td><td>60292</td></tr><tr><td>2024</td><td>40102</td></tr><tr><td>2025</td><td>1428</td></tr></tbody></table></div>"
      ],
      "text/plain": [
       "shape: (21, 2)\n",
       "┌────────────┬──────────────┐\n",
       "│ Model Year ┆ tot_per_year │\n",
       "│ ---        ┆ ---          │\n",
       "│ i64        ┆ u32          │\n",
       "╞════════════╪══════════════╡\n",
       "│ 1999       ┆ 2            │\n",
       "│ 2000       ┆ 7            │\n",
       "│ 2002       ┆ 2            │\n",
       "│ 2003       ┆ 1            │\n",
       "│ 2008       ┆ 23           │\n",
       "│ …          ┆ …            │\n",
       "│ 2021       ┆ 20074        │\n",
       "│ 2022       ┆ 28592        │\n",
       "│ 2023       ┆ 60292        │\n",
       "│ 2024       ┆ 40102        │\n",
       "│ 2025       ┆ 1428         │\n",
       "└────────────┴──────────────┘"
      ]
     },
     "execution_count": 20,
     "metadata": {},
     "output_type": "execute_result"
    }
   ],
   "source": [
    "\n",
    "(\n",
    "    data\n",
    "    .group_by('Model Year')\n",
    "    .agg(\n",
    "        tot_per_year = pl.col('Model Year').count()\n",
    "    )\n",
    "    .sort(pl.col('Model Year'))\n",
    ")"
   ]
  },
  {
   "cell_type": "markdown",
   "metadata": {},
   "source": [
    "Si nota come nei primi anni il numero di auto vendute è molto basso, quindi per semplicità si prenderanno i dati a partire dal 2011."
   ]
  },
  {
   "cell_type": "code",
   "execution_count": 21,
   "metadata": {},
   "outputs": [],
   "source": [
    "data = (\n",
    "    data\n",
    "    .filter(pl.col('Model Year')>2010)\n",
    ")\n",
    "# salvataggio dei dati nel file data.csv \n",
    "data.write_csv( \"..\"/ data_dir / \"data.csv\")"
   ]
  },
  {
   "cell_type": "markdown",
   "metadata": {},
   "source": [
    "## Vendita di auto per marca"
   ]
  },
  {
   "cell_type": "code",
   "execution_count": 22,
   "metadata": {},
   "outputs": [
    {
     "data": {
      "text/html": [
       "<div><style>\n",
       ".dataframe > thead > tr,\n",
       ".dataframe > tbody > tr {\n",
       "  text-align: right;\n",
       "  white-space: pre-wrap;\n",
       "}\n",
       "</style>\n",
       "<small>shape: (42, 2)</small><table border=\"1\" class=\"dataframe\"><thead><tr><th>Make</th><th>Vendita_per_marca</th></tr><tr><td>str</td><td>u32</td></tr></thead><tbody><tr><td>&quot;TESLA&quot;</td><td>93883</td></tr><tr><td>&quot;CHEVROLET&quot;</td><td>15862</td></tr><tr><td>&quot;NISSAN&quot;</td><td>15011</td></tr><tr><td>&quot;FORD&quot;</td><td>11477</td></tr><tr><td>&quot;KIA&quot;</td><td>10089</td></tr><tr><td>&hellip;</td><td>&hellip;</td></tr><tr><td>&quot;TH!NK&quot;</td><td>5</td></tr><tr><td>&quot;AZURE&nbsp;DYNAMICS&quot;</td><td>4</td></tr><tr><td>&quot;ROLLS-ROYCE&quot;</td><td>3</td></tr><tr><td>&quot;RAM&quot;</td><td>2</td></tr><tr><td>&quot;VINFAST&quot;</td><td>1</td></tr></tbody></table></div>"
      ],
      "text/plain": [
       "shape: (42, 2)\n",
       "┌────────────────┬───────────────────┐\n",
       "│ Make           ┆ Vendita_per_marca │\n",
       "│ ---            ┆ ---               │\n",
       "│ str            ┆ u32               │\n",
       "╞════════════════╪═══════════════════╡\n",
       "│ TESLA          ┆ 93883             │\n",
       "│ CHEVROLET      ┆ 15862             │\n",
       "│ NISSAN         ┆ 15011             │\n",
       "│ FORD           ┆ 11477             │\n",
       "│ KIA            ┆ 10089             │\n",
       "│ …              ┆ …                 │\n",
       "│ TH!NK          ┆ 5                 │\n",
       "│ AZURE DYNAMICS ┆ 4                 │\n",
       "│ ROLLS-ROYCE    ┆ 3                 │\n",
       "│ RAM            ┆ 2                 │\n",
       "│ VINFAST        ┆ 1                 │\n",
       "└────────────────┴───────────────────┘"
      ]
     },
     "execution_count": 22,
     "metadata": {},
     "output_type": "execute_result"
    }
   ],
   "source": [
    "(\n",
    "    data\n",
    "    .group_by('Make')\n",
    "    .agg(\n",
    "        Vendita_per_marca = pl.col('Make').count()\n",
    "    )\n",
    "    .sort('Vendita_per_marca', descending = True)\n",
    ")"
   ]
  },
  {
   "cell_type": "markdown",
   "metadata": {},
   "source": [
    "Si nota che alcuni marchi hanno un numero di vendite quasi pari a 0, quindi guardo la percentuale totale di auto vendute per ogni produttore. \n",
    "\n",
    "Per semplicità di analisi grafica, si vedranno solo le auto che hanno una percentuale di auto vendute nel dataset inferiore al 0.5%."
   ]
  },
  {
   "cell_type": "code",
   "execution_count": 23,
   "metadata": {},
   "outputs": [
    {
     "data": {
      "text/html": [
       "\n",
       "<style>\n",
       "  #altair-viz-c45c222b05cc4a839ce4d6e2cf4b9211.vega-embed {\n",
       "    width: 100%;\n",
       "    display: flex;\n",
       "  }\n",
       "\n",
       "  #altair-viz-c45c222b05cc4a839ce4d6e2cf4b9211.vega-embed details,\n",
       "  #altair-viz-c45c222b05cc4a839ce4d6e2cf4b9211.vega-embed details summary {\n",
       "    position: relative;\n",
       "  }\n",
       "</style>\n",
       "<div id=\"altair-viz-c45c222b05cc4a839ce4d6e2cf4b9211\"></div>\n",
       "<script type=\"text/javascript\">\n",
       "  var VEGA_DEBUG = (typeof VEGA_DEBUG == \"undefined\") ? {} : VEGA_DEBUG;\n",
       "  (function(spec, embedOpt){\n",
       "    let outputDiv = document.currentScript.previousElementSibling;\n",
       "    if (outputDiv.id !== \"altair-viz-c45c222b05cc4a839ce4d6e2cf4b9211\") {\n",
       "      outputDiv = document.getElementById(\"altair-viz-c45c222b05cc4a839ce4d6e2cf4b9211\");\n",
       "    }\n",
       "    const paths = {\n",
       "      \"vega\": \"https://cdn.jsdelivr.net/npm/vega@5?noext\",\n",
       "      \"vega-lib\": \"https://cdn.jsdelivr.net/npm/vega-lib?noext\",\n",
       "      \"vega-lite\": \"https://cdn.jsdelivr.net/npm/vega-lite@5.20.1?noext\",\n",
       "      \"vega-embed\": \"https://cdn.jsdelivr.net/npm/vega-embed@6?noext\",\n",
       "    };\n",
       "\n",
       "    function maybeLoadScript(lib, version) {\n",
       "      var key = `${lib.replace(\"-\", \"\")}_version`;\n",
       "      return (VEGA_DEBUG[key] == version) ?\n",
       "        Promise.resolve(paths[lib]) :\n",
       "        new Promise(function(resolve, reject) {\n",
       "          var s = document.createElement('script');\n",
       "          document.getElementsByTagName(\"head\")[0].appendChild(s);\n",
       "          s.async = true;\n",
       "          s.onload = () => {\n",
       "            VEGA_DEBUG[key] = version;\n",
       "            return resolve(paths[lib]);\n",
       "          };\n",
       "          s.onerror = () => reject(`Error loading script: ${paths[lib]}`);\n",
       "          s.src = paths[lib];\n",
       "        });\n",
       "    }\n",
       "\n",
       "    function showError(err) {\n",
       "      outputDiv.innerHTML = `<div class=\"error\" style=\"color:red;\">${err}</div>`;\n",
       "      throw err;\n",
       "    }\n",
       "\n",
       "    function displayChart(vegaEmbed) {\n",
       "      vegaEmbed(outputDiv, spec, embedOpt)\n",
       "        .catch(err => showError(`Javascript Error: ${err.message}<br>This usually means there's a typo in your chart specification. See the javascript console for the full traceback.`));\n",
       "    }\n",
       "\n",
       "    if(typeof define === \"function\" && define.amd) {\n",
       "      requirejs.config({paths});\n",
       "      require([\"vega-embed\"], displayChart, err => showError(`Error loading script: ${err.message}`));\n",
       "    } else {\n",
       "      maybeLoadScript(\"vega\", \"5\")\n",
       "        .then(() => maybeLoadScript(\"vega-lite\", \"5.20.1\"))\n",
       "        .then(() => maybeLoadScript(\"vega-embed\", \"6\"))\n",
       "        .catch(showError)\n",
       "        .then(() => displayChart(vegaEmbed));\n",
       "    }\n",
       "  })({\"config\": {\"view\": {\"continuousWidth\": 300, \"continuousHeight\": 300}}, \"data\": {\"name\": \"data-84cefa3fd18d943cc562483dcc1d512b\"}, \"mark\": {\"type\": \"bar\"}, \"encoding\": {\"color\": {\"field\": \"Vendita_per_marca\", \"scale\": {\"scheme\": \"oranges\"}, \"type\": \"quantitative\"}, \"x\": {\"field\": \"Vendita_per_marca\", \"type\": \"quantitative\"}, \"y\": {\"field\": \"Make\", \"sort\": \"-x\", \"type\": \"nominal\"}}, \"$schema\": \"https://vega.github.io/schema/vega-lite/v5.20.1.json\", \"datasets\": {\"data-84cefa3fd18d943cc562483dcc1d512b\": [{\"Make\": \"TH!NK\", \"Vendita_per_marca\": 0.002}, {\"Make\": \"ACURA\", \"Vendita_per_marca\": 0.046}, {\"Make\": \"LUCID\", \"Vendita_per_marca\": 0.146}, {\"Make\": \"FIAT\", \"Vendita_per_marca\": 0.375}, {\"Make\": \"AZURE DYNAMICS\", \"Vendita_per_marca\": 0.002}, {\"Make\": \"LAND ROVER\", \"Vendita_per_marca\": 0.042}, {\"Make\": \"MAZDA\", \"Vendita_per_marca\": 0.379}, {\"Make\": \"VINFAST\", \"Vendita_per_marca\": 0.0}, {\"Make\": \"MITSUBISHI\", \"Vendita_per_marca\": 0.482}, {\"Make\": \"ROLLS-ROYCE\", \"Vendita_per_marca\": 0.001}, {\"Make\": \"DODGE\", \"Vendita_per_marca\": 0.324}, {\"Make\": \"SMART\", \"Vendita_per_marca\": 0.113}, {\"Make\": \"GENESIS\", \"Vendita_per_marca\": 0.137}, {\"Make\": \"LEXUS\", \"Vendita_per_marca\": 0.385}, {\"Make\": \"GMC\", \"Vendita_per_marca\": 0.096}, {\"Make\": \"BENTLEY\", \"Vendita_per_marca\": 0.002}, {\"Make\": \"FISKER\", \"Vendita_per_marca\": 0.086}, {\"Make\": \"LINCOLN\", \"Vendita_per_marca\": 0.148}, {\"Make\": \"ALFA ROMEO\", \"Vendita_per_marca\": 0.042}, {\"Make\": \"RAM\", \"Vendita_per_marca\": 0.001}, {\"Make\": \"JAGUAR\", \"Vendita_per_marca\": 0.109}, {\"Make\": \"MINI\", \"Vendita_per_marca\": 0.483}, {\"Make\": \"CADILLAC\", \"Vendita_per_marca\": 0.424}]}}, {\"mode\": \"vega-lite\"});\n",
       "</script>"
      ],
      "text/plain": [
       "alt.Chart(...)"
      ]
     },
     "execution_count": 23,
     "metadata": {},
     "output_type": "execute_result"
    }
   ],
   "source": [
    "import altair as alt\n",
    "\n",
    "data_test = (\n",
    "        data\n",
    "        .group_by('Make')\n",
    "        .agg(\n",
    "            Vendita_per_marca = (pl.col('Make').count() / len(data)*100).round(3)\n",
    "        )\n",
    "        .filter(pl.col('Vendita_per_marca') < .5)\n",
    "    )\n",
    "    \n",
    "base = (\n",
    "    alt.Chart(data_test)\n",
    "    .encode(\n",
    "        x='Vendita_per_marca:Q',\n",
    "        y=alt.Y('Make:N', sort='-x'),\n",
    "        color=alt.Color('Vendita_per_marca:Q', scale=alt.Scale(scheme='oranges'))\n",
    "    )\n",
    ")\n",
    "\n",
    "base.mark_bar()"
   ]
  },
  {
   "cell_type": "markdown",
   "metadata": {},
   "source": [
    "Dal grafico notiamo come ci sia una differenza signficativa tra un gruppo di auto e un altro. Quindi scelgo come soglia di esclusione dall'analisi per marca il numero 0.25%. "
   ]
  },
  {
   "cell_type": "code",
   "execution_count": 24,
   "metadata": {},
   "outputs": [
    {
     "data": {
      "text/html": [
       "<div><style>\n",
       ".dataframe > thead > tr,\n",
       ".dataframe > tbody > tr {\n",
       "  text-align: right;\n",
       "  white-space: pre-wrap;\n",
       "}\n",
       "</style>\n",
       "<small>shape: (16, 2)</small><table border=\"1\" class=\"dataframe\"><thead><tr><th>Make</th><th>Vendita_per_marca</th></tr><tr><td>str</td><td>f64</td></tr></thead><tbody><tr><td>&quot;LINCOLN&quot;</td><td>0.148</td></tr><tr><td>&quot;LUCID&quot;</td><td>0.146</td></tr><tr><td>&quot;GENESIS&quot;</td><td>0.137</td></tr><tr><td>&quot;SMART&quot;</td><td>0.113</td></tr><tr><td>&quot;JAGUAR&quot;</td><td>0.109</td></tr><tr><td>&hellip;</td><td>&hellip;</td></tr><tr><td>&quot;TH!NK&quot;</td><td>0.002</td></tr><tr><td>&quot;AZURE&nbsp;DYNAMICS&quot;</td><td>0.002</td></tr><tr><td>&quot;RAM&quot;</td><td>0.001</td></tr><tr><td>&quot;ROLLS-ROYCE&quot;</td><td>0.001</td></tr><tr><td>&quot;VINFAST&quot;</td><td>0.0</td></tr></tbody></table></div>"
      ],
      "text/plain": [
       "shape: (16, 2)\n",
       "┌────────────────┬───────────────────┐\n",
       "│ Make           ┆ Vendita_per_marca │\n",
       "│ ---            ┆ ---               │\n",
       "│ str            ┆ f64               │\n",
       "╞════════════════╪═══════════════════╡\n",
       "│ LINCOLN        ┆ 0.148             │\n",
       "│ LUCID          ┆ 0.146             │\n",
       "│ GENESIS        ┆ 0.137             │\n",
       "│ SMART          ┆ 0.113             │\n",
       "│ JAGUAR         ┆ 0.109             │\n",
       "│ …              ┆ …                 │\n",
       "│ TH!NK          ┆ 0.002             │\n",
       "│ AZURE DYNAMICS ┆ 0.002             │\n",
       "│ RAM            ┆ 0.001             │\n",
       "│ ROLLS-ROYCE    ┆ 0.001             │\n",
       "│ VINFAST        ┆ 0.0               │\n",
       "└────────────────┴───────────────────┘"
      ]
     },
     "execution_count": 24,
     "metadata": {},
     "output_type": "execute_result"
    }
   ],
   "source": [
    "(\n",
    "    data\n",
    "    .group_by('Make')\n",
    "    .agg(\n",
    "        Vendita_per_marca = (pl.col('Make').count() / len(data)*100).round(3)\n",
    "    )\n",
    "    .filter(pl.col('Vendita_per_marca') < .25)\n",
    "    .sort('Vendita_per_marca', descending = True)\n",
    ")"
   ]
  },
  {
   "cell_type": "markdown",
   "metadata": {},
   "source": [
    "## Vendita di auto per contea"
   ]
  },
  {
   "cell_type": "code",
   "execution_count": 25,
   "metadata": {},
   "outputs": [
    {
     "data": {
      "text/html": [
       "<div><style>\n",
       ".dataframe > thead > tr,\n",
       ".dataframe > tbody > tr {\n",
       "  text-align: right;\n",
       "  white-space: pre-wrap;\n",
       "}\n",
       "</style>\n",
       "<small>shape: (205, 2)</small><table border=\"1\" class=\"dataframe\"><thead><tr><th>County</th><th>Total</th></tr><tr><td>str</td><td>u32</td></tr></thead><tbody><tr><td>&quot;King&quot;</td><td>110122</td></tr><tr><td>&quot;Snohomish&quot;</td><td>26195</td></tr><tr><td>&quot;Pierce&quot;</td><td>17392</td></tr><tr><td>&quot;Clark&quot;</td><td>12937</td></tr><tr><td>&quot;Thurston&quot;</td><td>7936</td></tr><tr><td>&hellip;</td><td>&hellip;</td></tr><tr><td>&quot;Wasco&quot;</td><td>1</td></tr><tr><td>&quot;Clackamas&quot;</td><td>1</td></tr><tr><td>&quot;Spotsylvania&quot;</td><td>1</td></tr><tr><td>&quot;Palm&nbsp;Beach&quot;</td><td>1</td></tr><tr><td>&quot;Mercer&quot;</td><td>1</td></tr></tbody></table></div>"
      ],
      "text/plain": [
       "shape: (205, 2)\n",
       "┌──────────────┬────────┐\n",
       "│ County       ┆ Total  │\n",
       "│ ---          ┆ ---    │\n",
       "│ str          ┆ u32    │\n",
       "╞══════════════╪════════╡\n",
       "│ King         ┆ 110122 │\n",
       "│ Snohomish    ┆ 26195  │\n",
       "│ Pierce       ┆ 17392  │\n",
       "│ Clark        ┆ 12937  │\n",
       "│ Thurston     ┆ 7936   │\n",
       "│ …            ┆ …      │\n",
       "│ Wasco        ┆ 1      │\n",
       "│ Clackamas    ┆ 1      │\n",
       "│ Spotsylvania ┆ 1      │\n",
       "│ Palm Beach   ┆ 1      │\n",
       "│ Mercer       ┆ 1      │\n",
       "└──────────────┴────────┘"
      ]
     },
     "execution_count": 25,
     "metadata": {},
     "output_type": "execute_result"
    }
   ],
   "source": [
    "Total_County = (\n",
    "    data\n",
    "    .group_by('County')\n",
    "    .agg(\n",
    "        Total = pl.col('County').count()\n",
    "    )\n",
    "    .sort('Total', descending= True)\n",
    ")\n",
    "\n",
    "Total_County"
   ]
  },
  {
   "cell_type": "markdown",
   "metadata": {},
   "source": [
    "Risulta utile verificare la percentuale di auto immatricolate in base alla contea, così da avere un'idea più chiara di come si distribuiscono le auto rispetto al territorio."
   ]
  },
  {
   "cell_type": "code",
   "execution_count": 26,
   "metadata": {},
   "outputs": [
    {
     "data": {
      "text/html": [
       "<div><style>\n",
       ".dataframe > thead > tr,\n",
       ".dataframe > tbody > tr {\n",
       "  text-align: right;\n",
       "  white-space: pre-wrap;\n",
       "}\n",
       "</style>\n",
       "<small>shape: (205, 2)</small><table border=\"1\" class=\"dataframe\"><thead><tr><th>County</th><th>Total</th></tr><tr><td>str</td><td>f64</td></tr></thead><tbody><tr><td>&quot;King&quot;</td><td>50.822</td></tr><tr><td>&quot;Snohomish&quot;</td><td>12.089</td></tr><tr><td>&quot;Pierce&quot;</td><td>8.026</td></tr><tr><td>&quot;Clark&quot;</td><td>5.97</td></tr><tr><td>&quot;Thurston&quot;</td><td>3.662</td></tr><tr><td>&hellip;</td><td>&hellip;</td></tr><tr><td>&quot;Lane&quot;</td><td>0.0</td></tr><tr><td>&quot;Atlantic&quot;</td><td>0.0</td></tr><tr><td>&quot;Houston&quot;</td><td>0.0</td></tr><tr><td>&quot;Tooele&quot;</td><td>0.0</td></tr><tr><td>&quot;Rockingham&quot;</td><td>0.0</td></tr></tbody></table></div>"
      ],
      "text/plain": [
       "shape: (205, 2)\n",
       "┌────────────┬────────┐\n",
       "│ County     ┆ Total  │\n",
       "│ ---        ┆ ---    │\n",
       "│ str        ┆ f64    │\n",
       "╞════════════╪════════╡\n",
       "│ King       ┆ 50.822 │\n",
       "│ Snohomish  ┆ 12.089 │\n",
       "│ Pierce     ┆ 8.026  │\n",
       "│ Clark      ┆ 5.97   │\n",
       "│ Thurston   ┆ 3.662  │\n",
       "│ …          ┆ …      │\n",
       "│ Lane       ┆ 0.0    │\n",
       "│ Atlantic   ┆ 0.0    │\n",
       "│ Houston    ┆ 0.0    │\n",
       "│ Tooele     ┆ 0.0    │\n",
       "│ Rockingham ┆ 0.0    │\n",
       "└────────────┴────────┘"
      ]
     },
     "execution_count": 26,
     "metadata": {},
     "output_type": "execute_result"
    }
   ],
   "source": [
    "num_car = len(data)\n",
    "\n",
    "perc_county = (\n",
    "    data\n",
    "    .group_by('County')\n",
    "    .agg(\n",
    "        Total = (pl.col('County').count()/num_car*100).round(3)\n",
    "    )\n",
    "    .sort('Total', descending= True)\n",
    ")\n",
    "\n",
    "perc_county"
   ]
  },
  {
   "cell_type": "markdown",
   "metadata": {},
   "source": [
    "Analizzando la combinazione tra contea e numero di auto vendute per contea, si nota come ci siano enormi differenze tra le contee. Si nota come le contee vicine a Seattle e Portland(si intendono le contee confinanti con lo stato dell'Oregon) abbiano un numero di auto vendute significativo rispetto alle altre contee. \n",
    "\n",
    "A causa di questo, in seguito si andrà ad analizzare questo dato in base alla localizzazione geografica e non alla contea."
   ]
  },
  {
   "cell_type": "markdown",
   "metadata": {},
   "source": [
    "## Vendita di auto in base alla localizzazione\n",
    "\n",
    "Per eseguire questa analisi, verifichiamo i dati che sono presenti nella colonna *Vehicle Location*. \n",
    "\n",
    "Questi dati poi verranno usati per creare una mappa 3d in cui si vede dove sono state immatricolate le auto nello stato di Washington."
   ]
  },
  {
   "cell_type": "code",
   "execution_count": 27,
   "metadata": {},
   "outputs": [
    {
     "name": "stdout",
     "output_type": "stream",
     "text": [
      "Tipologia del dato :shape: (1, 1)\n",
      "┌─────────────────────────────┐\n",
      "│ Vehicle Location            │\n",
      "│ ---                         │\n",
      "│ str                         │\n",
      "╞═════════════════════════════╡\n",
      "│ POINT (-122.36498 47.72238) │\n",
      "└─────────────────────────────┘\n",
      "Lunghezza della lista coord_list: 216683\n",
      "Tipologia e dato di coord_list\n",
      "Tipo: <class 'tuple'> Dato:(-122.36498, 47.72238)\n",
      "Tipo: <class 'tuple'> Dato:(-122.30207, 47.64085)\n",
      "Tipo: <class 'tuple'> Dato:(-122.54729, 47.42602)\n",
      "Tipo: <class 'tuple'> Dato:(-122.89166, 47.03956)\n",
      "Tipo: <class 'tuple'> Dato:(-122.87741, 47.05997)\n"
     ]
    }
   ],
   "source": [
    "import re\n",
    "import pandas as pd\n",
    "\n",
    "data_point = (\n",
    "    data\n",
    "    .select(pl.col('Vehicle Location'))\n",
    ")\n",
    "\n",
    "#Si nota che è di tipo str\n",
    "print(f'Tipologia del dato :{data_point[0]}')\n",
    "\n",
    "#Creiamo una lista contenente tuple  ('longitue','latitude'): (float, float)\n",
    "coord_list = []\n",
    "for row in data_point.rows():\n",
    "    if row[0] is not None:\n",
    "        numb = re.findall(r'-?\\d+\\.\\d+|-?\\d+', row[0])\n",
    "        coord = (float(numb[0]), float(numb[1]))\n",
    "        coord_list.append(coord)\n",
    "\n",
    "#verifichiamo la lunghezza della lista\n",
    "print(f'Lunghezza della lista coord_list: {len(coord_list)}')\n",
    "\n",
    "#verifichiamo i primi 5 elementi di coord_list\n",
    "\n",
    "print('Tipologia e dato di coord_list')\n",
    "for i in range(5):\n",
    "    print(f'Tipo: {type(coord_list[i])} Dato:{coord_list[i]}')"
   ]
  },
  {
   "cell_type": "markdown",
   "metadata": {},
   "source": [
    "## Vendita di auto in base a produttore e anno"
   ]
  },
  {
   "cell_type": "code",
   "execution_count": 28,
   "metadata": {},
   "outputs": [
    {
     "data": {
      "text/html": [
       "<div><style>\n",
       ".dataframe > thead > tr,\n",
       ".dataframe > tbody > tr {\n",
       "  text-align: right;\n",
       "  white-space: pre-wrap;\n",
       "}\n",
       "</style>\n",
       "<small>shape: (267, 3)</small><table border=\"1\" class=\"dataframe\"><thead><tr><th>Make</th><th>Model Year</th><th>Vendita_per_marca</th></tr><tr><td>str</td><td>i64</td><td>u32</td></tr></thead><tbody><tr><td>&quot;TOYOTA&quot;</td><td>2018</td><td>677</td></tr><tr><td>&quot;TOYOTA&quot;</td><td>2014</td><td>227</td></tr><tr><td>&quot;KIA&quot;</td><td>2023</td><td>2566</td></tr><tr><td>&quot;RIVIAN&quot;</td><td>2022</td><td>1298</td></tr><tr><td>&quot;NISSAN&quot;</td><td>2019</td><td>1366</td></tr><tr><td>&hellip;</td><td>&hellip;</td><td>&hellip;</td></tr><tr><td>&quot;KIA&quot;</td><td>2025</td><td>109</td></tr><tr><td>&quot;TESLA&quot;</td><td>2019</td><td>4562</td></tr><tr><td>&quot;MINI&quot;</td><td>2024</td><td>247</td></tr><tr><td>&quot;FIAT&quot;</td><td>2016</td><td>137</td></tr><tr><td>&quot;PORSCHE&quot;</td><td>2016</td><td>74</td></tr></tbody></table></div>"
      ],
      "text/plain": [
       "shape: (267, 3)\n",
       "┌─────────┬────────────┬───────────────────┐\n",
       "│ Make    ┆ Model Year ┆ Vendita_per_marca │\n",
       "│ ---     ┆ ---        ┆ ---               │\n",
       "│ str     ┆ i64        ┆ u32               │\n",
       "╞═════════╪════════════╪═══════════════════╡\n",
       "│ TOYOTA  ┆ 2018       ┆ 677               │\n",
       "│ TOYOTA  ┆ 2014       ┆ 227               │\n",
       "│ KIA     ┆ 2023       ┆ 2566              │\n",
       "│ RIVIAN  ┆ 2022       ┆ 1298              │\n",
       "│ NISSAN  ┆ 2019       ┆ 1366              │\n",
       "│ …       ┆ …          ┆ …                 │\n",
       "│ KIA     ┆ 2025       ┆ 109               │\n",
       "│ TESLA   ┆ 2019       ┆ 4562              │\n",
       "│ MINI    ┆ 2024       ┆ 247               │\n",
       "│ FIAT    ┆ 2016       ┆ 137               │\n",
       "│ PORSCHE ┆ 2016       ┆ 74                │\n",
       "└─────────┴────────────┴───────────────────┘"
      ]
     },
     "execution_count": 28,
     "metadata": {},
     "output_type": "execute_result"
    }
   ],
   "source": [
    "(\n",
    "    data\n",
    "    .group_by('Make', 'Model Year')\n",
    "    .agg(\n",
    "        Vendita_per_marca = pl.col('Make').count()\n",
    "    )\n",
    ")"
   ]
  },
  {
   "cell_type": "markdown",
   "metadata": {},
   "source": [
    "## Vendita di auto in base a tipologia di motore e produttore"
   ]
  },
  {
   "cell_type": "code",
   "execution_count": 29,
   "metadata": {},
   "outputs": [
    {
     "data": {
      "text/html": [
       "<div><style>\n",
       ".dataframe > thead > tr,\n",
       ".dataframe > tbody > tr {\n",
       "  text-align: right;\n",
       "  white-space: pre-wrap;\n",
       "}\n",
       "</style>\n",
       "<small>shape: (60, 3)</small><table border=\"1\" class=\"dataframe\"><thead><tr><th>Make</th><th>Electric Vehicle Type</th><th>Engine</th></tr><tr><td>str</td><td>str</td><td>u32</td></tr></thead><tbody><tr><td>&quot;HONDA&quot;</td><td>&quot;Plug-in&nbsp;Hybrid&nbsp;Electric&nbsp;Vehicl…</td><td>870</td></tr><tr><td>&quot;CADILLAC&quot;</td><td>&quot;Plug-in&nbsp;Hybrid&nbsp;Electric&nbsp;Vehicl…</td><td>95</td></tr><tr><td>&quot;BMW&quot;</td><td>&quot;Battery&nbsp;Electric&nbsp;Vehicle&nbsp;(BEV)&quot;</td><td>3387</td></tr><tr><td>&quot;PORSCHE&quot;</td><td>&quot;Battery&nbsp;Electric&nbsp;Vehicle&nbsp;(BEV)&quot;</td><td>744</td></tr><tr><td>&quot;HYUNDAI&quot;</td><td>&quot;Battery&nbsp;Electric&nbsp;Vehicle&nbsp;(BEV)&quot;</td><td>5385</td></tr><tr><td>&hellip;</td><td>&hellip;</td><td>&hellip;</td></tr><tr><td>&quot;FIAT&quot;</td><td>&quot;Battery&nbsp;Electric&nbsp;Vehicle&nbsp;(BEV)&quot;</td><td>813</td></tr><tr><td>&quot;CHEVROLET&quot;</td><td>&quot;Plug-in&nbsp;Hybrid&nbsp;Electric&nbsp;Vehicl…</td><td>4809</td></tr><tr><td>&quot;FORD&quot;</td><td>&quot;Plug-in&nbsp;Hybrid&nbsp;Electric&nbsp;Vehicl…</td><td>3708</td></tr><tr><td>&quot;TOYOTA&quot;</td><td>&quot;Battery&nbsp;Electric&nbsp;Vehicle&nbsp;(BEV)&quot;</td><td>1115</td></tr><tr><td>&quot;LINCOLN&quot;</td><td>&quot;Plug-in&nbsp;Hybrid&nbsp;Electric&nbsp;Vehicl…</td><td>320</td></tr></tbody></table></div>"
      ],
      "text/plain": [
       "shape: (60, 3)\n",
       "┌───────────┬─────────────────────────────────┬────────┐\n",
       "│ Make      ┆ Electric Vehicle Type           ┆ Engine │\n",
       "│ ---       ┆ ---                             ┆ ---    │\n",
       "│ str       ┆ str                             ┆ u32    │\n",
       "╞═══════════╪═════════════════════════════════╪════════╡\n",
       "│ HONDA     ┆ Plug-in Hybrid Electric Vehicl… ┆ 870    │\n",
       "│ CADILLAC  ┆ Plug-in Hybrid Electric Vehicl… ┆ 95     │\n",
       "│ BMW       ┆ Battery Electric Vehicle (BEV)  ┆ 3387   │\n",
       "│ PORSCHE   ┆ Battery Electric Vehicle (BEV)  ┆ 744    │\n",
       "│ HYUNDAI   ┆ Battery Electric Vehicle (BEV)  ┆ 5385   │\n",
       "│ …         ┆ …                               ┆ …      │\n",
       "│ FIAT      ┆ Battery Electric Vehicle (BEV)  ┆ 813    │\n",
       "│ CHEVROLET ┆ Plug-in Hybrid Electric Vehicl… ┆ 4809   │\n",
       "│ FORD      ┆ Plug-in Hybrid Electric Vehicl… ┆ 3708   │\n",
       "│ TOYOTA    ┆ Battery Electric Vehicle (BEV)  ┆ 1115   │\n",
       "│ LINCOLN   ┆ Plug-in Hybrid Electric Vehicl… ┆ 320    │\n",
       "└───────────┴─────────────────────────────────┴────────┘"
      ]
     },
     "execution_count": 29,
     "metadata": {},
     "output_type": "execute_result"
    }
   ],
   "source": [
    "(\n",
    "    data\n",
    "    .group_by('Make', 'Electric Vehicle Type')\n",
    "    .agg(\n",
    "        Engine = pl.col('Electric Vehicle Type').count()\n",
    "    )\n",
    ")"
   ]
  },
  {
   "cell_type": "markdown",
   "metadata": {},
   "source": [
    "## Ventita annuale di auto in base al modello e marca\n",
    "\n",
    "Per semplificare il layout del grafico a seguito di un'analisi è stato deciso di eliminare i modelli dei produttori che hanno venduto meno di 15 auto all'anno."
   ]
  },
  {
   "cell_type": "code",
   "execution_count": 30,
   "metadata": {},
   "outputs": [
    {
     "data": {
      "text/html": [
       "<div><style>\n",
       ".dataframe > thead > tr,\n",
       ".dataframe > tbody > tr {\n",
       "  text-align: right;\n",
       "  white-space: pre-wrap;\n",
       "}\n",
       "</style>\n",
       "<small>shape: (432, 4)</small><table border=\"1\" class=\"dataframe\"><thead><tr><th>Make</th><th>Model</th><th>Model Year</th><th>Total</th></tr><tr><td>str</td><td>str</td><td>i64</td><td>u32</td></tr></thead><tbody><tr><td>&quot;CHEVROLET&quot;</td><td>&quot;VOLT&quot;</td><td>2011</td><td>73</td></tr><tr><td>&quot;NISSAN&quot;</td><td>&quot;LEAF&quot;</td><td>2011</td><td>610</td></tr><tr><td>&quot;MITSUBISHI&quot;</td><td>&quot;I-MIEV&quot;</td><td>2012</td><td>40</td></tr><tr><td>&quot;TESLA&quot;</td><td>&quot;MODEL&nbsp;S&quot;</td><td>2012</td><td>128</td></tr><tr><td>&quot;TOYOTA&quot;</td><td>&quot;PRIUS&nbsp;PLUG-IN&quot;</td><td>2012</td><td>368</td></tr><tr><td>&hellip;</td><td>&hellip;</td><td>&hellip;</td><td>&hellip;</td></tr><tr><td>&quot;VOLVO&quot;</td><td>&quot;XC60&quot;</td><td>2025</td><td>95</td></tr><tr><td>&quot;BMW&quot;</td><td>&quot;IX&quot;</td><td>2025</td><td>112</td></tr><tr><td>&quot;NISSAN&quot;</td><td>&quot;LEAF&quot;</td><td>2025</td><td>139</td></tr><tr><td>&quot;BMW&quot;</td><td>&quot;X5&quot;</td><td>2025</td><td>189</td></tr><tr><td>&quot;RIVIAN&quot;</td><td>&quot;R1S&quot;</td><td>2025</td><td>412</td></tr></tbody></table></div>"
      ],
      "text/plain": [
       "shape: (432, 4)\n",
       "┌────────────┬───────────────┬────────────┬───────┐\n",
       "│ Make       ┆ Model         ┆ Model Year ┆ Total │\n",
       "│ ---        ┆ ---           ┆ ---        ┆ ---   │\n",
       "│ str        ┆ str           ┆ i64        ┆ u32   │\n",
       "╞════════════╪═══════════════╪════════════╪═══════╡\n",
       "│ CHEVROLET  ┆ VOLT          ┆ 2011       ┆ 73    │\n",
       "│ NISSAN     ┆ LEAF          ┆ 2011       ┆ 610   │\n",
       "│ MITSUBISHI ┆ I-MIEV        ┆ 2012       ┆ 40    │\n",
       "│ TESLA      ┆ MODEL S       ┆ 2012       ┆ 128   │\n",
       "│ TOYOTA     ┆ PRIUS PLUG-IN ┆ 2012       ┆ 368   │\n",
       "│ …          ┆ …             ┆ …          ┆ …     │\n",
       "│ VOLVO      ┆ XC60          ┆ 2025       ┆ 95    │\n",
       "│ BMW        ┆ IX            ┆ 2025       ┆ 112   │\n",
       "│ NISSAN     ┆ LEAF          ┆ 2025       ┆ 139   │\n",
       "│ BMW        ┆ X5            ┆ 2025       ┆ 189   │\n",
       "│ RIVIAN     ┆ R1S           ┆ 2025       ┆ 412   │\n",
       "└────────────┴───────────────┴────────────┴───────┘"
      ]
     },
     "execution_count": 30,
     "metadata": {},
     "output_type": "execute_result"
    }
   ],
   "source": [
    "(\n",
    "    data\n",
    "    .group_by('Make', 'Model', 'Model Year')\n",
    "    .agg(\n",
    "        Total = pl.col('Model').count()\n",
    "    )\n",
    "    .filter(pl.col('Total') >= 15)\n",
    "    .sort([pl.col('Model Year'),pl.col('Total')], descending=False)\n",
    ")"
   ]
  },
  {
   "cell_type": "markdown",
   "metadata": {},
   "source": [
    "## Analisi su prestazioni e costi delle auto \n",
    "Analisi esplorativa su prestazioni e costi. \n",
    "\n",
    "Si vede inizialmente se tutti i dati del dataset dispongono delle informazioni su prestazioni e costi"
   ]
  },
  {
   "cell_type": "code",
   "execution_count": 31,
   "metadata": {},
   "outputs": [
    {
     "data": {
      "text/html": [
       "<div><style>\n",
       ".dataframe > thead > tr,\n",
       ".dataframe > tbody > tr {\n",
       "  text-align: right;\n",
       "  white-space: pre-wrap;\n",
       "}\n",
       "</style>\n",
       "<small>shape: (9, 11)</small><table border=\"1\" class=\"dataframe\"><thead><tr><th>statistic</th><th>County</th><th>City</th><th>State</th><th>Model Year</th><th>Make</th><th>Model</th><th>Electric Vehicle Type</th><th>Electric Range</th><th>Base MSRP</th><th>Vehicle Location</th></tr><tr><td>str</td><td>str</td><td>str</td><td>str</td><td>f64</td><td>str</td><td>str</td><td>str</td><td>f64</td><td>f64</td><td>str</td></tr></thead><tbody><tr><td>&quot;count&quot;</td><td>&quot;216683&quot;</td><td>&quot;216683&quot;</td><td>&quot;216683&quot;</td><td>216683.0</td><td>&quot;216683&quot;</td><td>&quot;216683&quot;</td><td>&quot;216683&quot;</td><td>216683.0</td><td>216683.0</td><td>&quot;216683&quot;</td></tr><tr><td>&quot;null_count&quot;</td><td>&quot;0&quot;</td><td>&quot;0&quot;</td><td>&quot;0&quot;</td><td>0.0</td><td>&quot;0&quot;</td><td>&quot;0&quot;</td><td>&quot;0&quot;</td><td>0.0</td><td>0.0</td><td>&quot;0&quot;</td></tr><tr><td>&quot;mean&quot;</td><td>null</td><td>null</td><td>null</td><td>2021.132636</td><td>null</td><td>null</td><td>null</td><td>49.391009</td><td>849.617044</td><td>null</td></tr><tr><td>&quot;std&quot;</td><td>null</td><td>null</td><td>null</td><td>2.974965</td><td>null</td><td>null</td><td>null</td><td>86.198317</td><td>7399.818083</td><td>null</td></tr><tr><td>&quot;min&quot;</td><td>&quot;Ada&quot;</td><td>&quot;Aberdeen&quot;</td><td>&quot;AK&quot;</td><td>2011.0</td><td>&quot;ACURA&quot;</td><td>&quot;330E&quot;</td><td>&quot;Battery&nbsp;Electric&nbsp;Vehicle&nbsp;(BEV)&quot;</td><td>0.0</td><td>0.0</td><td>&quot;POINT&nbsp;(-100.50078&nbsp;31.4168)&quot;</td></tr><tr><td>&quot;25%&quot;</td><td>null</td><td>null</td><td>null</td><td>2020.0</td><td>null</td><td>null</td><td>null</td><td>0.0</td><td>0.0</td><td>null</td></tr><tr><td>&quot;50%&quot;</td><td>null</td><td>null</td><td>null</td><td>2022.0</td><td>null</td><td>null</td><td>null</td><td>0.0</td><td>0.0</td><td>null</td></tr><tr><td>&quot;75%&quot;</td><td>null</td><td>null</td><td>null</td><td>2023.0</td><td>null</td><td>null</td><td>null</td><td>42.0</td><td>0.0</td><td>null</td></tr><tr><td>&quot;max&quot;</td><td>&quot;Yuba&quot;</td><td>&quot;Zillah&quot;</td><td>&quot;WY&quot;</td><td>2025.0</td><td>&quot;VOLVO&quot;</td><td>&quot;ZDX&quot;</td><td>&quot;Plug-in&nbsp;Hybrid&nbsp;Electric&nbsp;Vehicl…</td><td>337.0</td><td>845000.0</td><td>&quot;POINT&nbsp;(-98.72277&nbsp;29.44539)&quot;</td></tr></tbody></table></div>"
      ],
      "text/plain": [
       "shape: (9, 11)\n",
       "┌────────────┬────────┬──────────┬────────┬───┬─────────────┬────────────┬────────────┬────────────┐\n",
       "│ statistic  ┆ County ┆ City     ┆ State  ┆ … ┆ Electric    ┆ Electric   ┆ Base MSRP  ┆ Vehicle    │\n",
       "│ ---        ┆ ---    ┆ ---      ┆ ---    ┆   ┆ Vehicle     ┆ Range      ┆ ---        ┆ Location   │\n",
       "│ str        ┆ str    ┆ str      ┆ str    ┆   ┆ Type        ┆ ---        ┆ f64        ┆ ---        │\n",
       "│            ┆        ┆          ┆        ┆   ┆ ---         ┆ f64        ┆            ┆ str        │\n",
       "│            ┆        ┆          ┆        ┆   ┆ str         ┆            ┆            ┆            │\n",
       "╞════════════╪════════╪══════════╪════════╪═══╪═════════════╪════════════╪════════════╪════════════╡\n",
       "│ count      ┆ 216683 ┆ 216683   ┆ 216683 ┆ … ┆ 216683      ┆ 216683.0   ┆ 216683.0   ┆ 216683     │\n",
       "│ null_count ┆ 0      ┆ 0        ┆ 0      ┆ … ┆ 0           ┆ 0.0        ┆ 0.0        ┆ 0          │\n",
       "│ mean       ┆ null   ┆ null     ┆ null   ┆ … ┆ null        ┆ 49.391009  ┆ 849.617044 ┆ null       │\n",
       "│ std        ┆ null   ┆ null     ┆ null   ┆ … ┆ null        ┆ 86.198317  ┆ 7399.81808 ┆ null       │\n",
       "│            ┆        ┆          ┆        ┆   ┆             ┆            ┆ 3          ┆            │\n",
       "│ min        ┆ Ada    ┆ Aberdeen ┆ AK     ┆ … ┆ Battery     ┆ 0.0        ┆ 0.0        ┆ POINT (-10 │\n",
       "│            ┆        ┆          ┆        ┆   ┆ Electric    ┆            ┆            ┆ 0.50078    │\n",
       "│            ┆        ┆          ┆        ┆   ┆ Vehicle     ┆            ┆            ┆ 31.4168)   │\n",
       "│            ┆        ┆          ┆        ┆   ┆ (BEV)       ┆            ┆            ┆            │\n",
       "│ 25%        ┆ null   ┆ null     ┆ null   ┆ … ┆ null        ┆ 0.0        ┆ 0.0        ┆ null       │\n",
       "│ 50%        ┆ null   ┆ null     ┆ null   ┆ … ┆ null        ┆ 0.0        ┆ 0.0        ┆ null       │\n",
       "│ 75%        ┆ null   ┆ null     ┆ null   ┆ … ┆ null        ┆ 42.0       ┆ 0.0        ┆ null       │\n",
       "│ max        ┆ Yuba   ┆ Zillah   ┆ WY     ┆ … ┆ Plug-in     ┆ 337.0      ┆ 845000.0   ┆ POINT      │\n",
       "│            ┆        ┆          ┆        ┆   ┆ Hybrid      ┆            ┆            ┆ (-98.72277 │\n",
       "│            ┆        ┆          ┆        ┆   ┆ Electric    ┆            ┆            ┆ 29.44539)  │\n",
       "│            ┆        ┆          ┆        ┆   ┆ Vehicl…     ┆            ┆            ┆            │\n",
       "└────────────┴────────┴──────────┴────────┴───┴─────────────┴────────────┴────────────┴────────────┘"
      ]
     },
     "execution_count": 31,
     "metadata": {},
     "output_type": "execute_result"
    }
   ],
   "source": [
    "data.describe()"
   ]
  },
  {
   "cell_type": "markdown",
   "metadata": {},
   "source": [
    "Le colonne interessanti da analizzare sono: \n",
    "- Electric Vehicle Type\n",
    "- Electric Range\n",
    "- Base MSRP\n",
    "\n",
    "# Analisi Electric Vehicle Type"
   ]
  },
  {
   "cell_type": "code",
   "execution_count": 55,
   "metadata": {},
   "outputs": [
    {
     "data": {
      "text/html": [
       "<div><style>\n",
       ".dataframe > thead > tr,\n",
       ".dataframe > tbody > tr {\n",
       "  text-align: right;\n",
       "  white-space: pre-wrap;\n",
       "}\n",
       "</style>\n",
       "<small>shape: (9, 11)</small><table border=\"1\" class=\"dataframe\"><thead><tr><th>statistic</th><th>County</th><th>City</th><th>State</th><th>Model Year</th><th>Make</th><th>Model</th><th>Electric Vehicle Type</th><th>Electric Range</th><th>Base MSRP</th><th>Vehicle Location</th></tr><tr><td>str</td><td>str</td><td>str</td><td>str</td><td>f64</td><td>str</td><td>str</td><td>str</td><td>f64</td><td>f64</td><td>str</td></tr></thead><tbody><tr><td>&quot;count&quot;</td><td>&quot;92587&quot;</td><td>&quot;92587&quot;</td><td>&quot;92587&quot;</td><td>92587.0</td><td>&quot;92587&quot;</td><td>&quot;92587&quot;</td><td>&quot;92587&quot;</td><td>92587.0</td><td>92587.0</td><td>&quot;92587&quot;</td></tr><tr><td>&quot;null_count&quot;</td><td>&quot;0&quot;</td><td>&quot;0&quot;</td><td>&quot;0&quot;</td><td>0.0</td><td>&quot;0&quot;</td><td>&quot;0&quot;</td><td>&quot;0&quot;</td><td>0.0</td><td>0.0</td><td>&quot;0&quot;</td></tr><tr><td>&quot;mean&quot;</td><td>null</td><td>null</td><td>null</td><td>2018.869453</td><td>null</td><td>null</td><td>null</td><td>115.590655</td><td>1988.373854</td><td>null</td></tr><tr><td>&quot;std&quot;</td><td>null</td><td>null</td><td>null</td><td>3.240357</td><td>null</td><td>null</td><td>null</td><td>98.67561</td><td>11219.89275</td><td>null</td></tr><tr><td>&quot;min&quot;</td><td>&quot;Adams&quot;</td><td>&quot;Aberdeen&quot;</td><td>&quot;AL&quot;</td><td>2011.0</td><td>&quot;ALFA&nbsp;ROMEO&quot;</td><td>&quot;330E&quot;</td><td>&quot;Battery&nbsp;Electric&nbsp;Vehicle&nbsp;(BEV)&quot;</td><td>6.0</td><td>0.0</td><td>&quot;POINT&nbsp;(-100.50078&nbsp;31.4168)&quot;</td></tr><tr><td>&quot;25%&quot;</td><td>null</td><td>null</td><td>null</td><td>2017.0</td><td>null</td><td>null</td><td>null</td><td>30.0</td><td>0.0</td><td>null</td></tr><tr><td>&quot;50%&quot;</td><td>null</td><td>null</td><td>null</td><td>2019.0</td><td>null</td><td>null</td><td>null</td><td>73.0</td><td>0.0</td><td>null</td></tr><tr><td>&quot;75%&quot;</td><td>null</td><td>null</td><td>null</td><td>2021.0</td><td>null</td><td>null</td><td>null</td><td>215.0</td><td>0.0</td><td>null</td></tr><tr><td>&quot;max&quot;</td><td>&quot;Yakima&quot;</td><td>&quot;Zillah&quot;</td><td>&quot;WI&quot;</td><td>2025.0</td><td>&quot;VOLVO&quot;</td><td>&quot;XM&quot;</td><td>&quot;Plug-in&nbsp;Hybrid&nbsp;Electric&nbsp;Vehicl…</td><td>337.0</td><td>845000.0</td><td>&quot;POINT&nbsp;(-98.52212&nbsp;29.61445)&quot;</td></tr></tbody></table></div>"
      ],
      "text/plain": [
       "shape: (9, 11)\n",
       "┌────────────┬────────┬──────────┬───────┬───┬─────────────┬─────────────┬────────────┬────────────┐\n",
       "│ statistic  ┆ County ┆ City     ┆ State ┆ … ┆ Electric    ┆ Electric    ┆ Base MSRP  ┆ Vehicle    │\n",
       "│ ---        ┆ ---    ┆ ---      ┆ ---   ┆   ┆ Vehicle     ┆ Range       ┆ ---        ┆ Location   │\n",
       "│ str        ┆ str    ┆ str      ┆ str   ┆   ┆ Type        ┆ ---         ┆ f64        ┆ ---        │\n",
       "│            ┆        ┆          ┆       ┆   ┆ ---         ┆ f64         ┆            ┆ str        │\n",
       "│            ┆        ┆          ┆       ┆   ┆ str         ┆             ┆            ┆            │\n",
       "╞════════════╪════════╪══════════╪═══════╪═══╪═════════════╪═════════════╪════════════╪════════════╡\n",
       "│ count      ┆ 92587  ┆ 92587    ┆ 92587 ┆ … ┆ 92587       ┆ 92587.0     ┆ 92587.0    ┆ 92587      │\n",
       "│ null_count ┆ 0      ┆ 0        ┆ 0     ┆ … ┆ 0           ┆ 0.0         ┆ 0.0        ┆ 0          │\n",
       "│ mean       ┆ null   ┆ null     ┆ null  ┆ … ┆ null        ┆ 115.590655  ┆ 1988.37385 ┆ null       │\n",
       "│            ┆        ┆          ┆       ┆   ┆             ┆             ┆ 4          ┆            │\n",
       "│ std        ┆ null   ┆ null     ┆ null  ┆ … ┆ null        ┆ 98.67561    ┆ 11219.8927 ┆ null       │\n",
       "│            ┆        ┆          ┆       ┆   ┆             ┆             ┆ 5          ┆            │\n",
       "│ min        ┆ Adams  ┆ Aberdeen ┆ AL    ┆ … ┆ Battery     ┆ 6.0         ┆ 0.0        ┆ POINT (-10 │\n",
       "│            ┆        ┆          ┆       ┆   ┆ Electric    ┆             ┆            ┆ 0.50078    │\n",
       "│            ┆        ┆          ┆       ┆   ┆ Vehicle     ┆             ┆            ┆ 31.4168)   │\n",
       "│            ┆        ┆          ┆       ┆   ┆ (BEV)       ┆             ┆            ┆            │\n",
       "│ 25%        ┆ null   ┆ null     ┆ null  ┆ … ┆ null        ┆ 30.0        ┆ 0.0        ┆ null       │\n",
       "│ 50%        ┆ null   ┆ null     ┆ null  ┆ … ┆ null        ┆ 73.0        ┆ 0.0        ┆ null       │\n",
       "│ 75%        ┆ null   ┆ null     ┆ null  ┆ … ┆ null        ┆ 215.0       ┆ 0.0        ┆ null       │\n",
       "│ max        ┆ Yakima ┆ Zillah   ┆ WI    ┆ … ┆ Plug-in     ┆ 337.0       ┆ 845000.0   ┆ POINT      │\n",
       "│            ┆        ┆          ┆       ┆   ┆ Hybrid      ┆             ┆            ┆ (-98.52212 │\n",
       "│            ┆        ┆          ┆       ┆   ┆ Electric    ┆             ┆            ┆ 29.61445)  │\n",
       "│            ┆        ┆          ┆       ┆   ┆ Vehicl…     ┆             ┆            ┆            │\n",
       "└────────────┴────────┴──────────┴───────┴───┴─────────────┴─────────────┴────────────┴────────────┘"
      ]
     },
     "execution_count": 55,
     "metadata": {},
     "output_type": "execute_result"
    }
   ],
   "source": [
    "data_ER = (\n",
    "    data\n",
    "    .filter(pl.col('Electric Range') > 0)\n",
    ")\n",
    "\n",
    "data_ER.describe()"
   ]
  },
  {
   "cell_type": "markdown",
   "metadata": {},
   "source": [
    "Si nota che solo **92587** solo le righe che hanno il dato Electric Range maggiore di 0. Per eseguire l'analisi si consideranno solo i record che hanno dati positivi. \n",
    "\n",
    "# Distribuzione Electric Range per tipologia di motore"
   ]
  },
  {
   "cell_type": "code",
   "execution_count": 137,
   "metadata": {},
   "outputs": [],
   "source": [
    "data_ER_EN = (\n",
    "    data\n",
    "    .select('Electric Vehicle Type', 'Electric Range')\n",
    "    .filter(pl.col('Electric Range') > 0)\n",
    ")\n",
    "\n",
    "data_ER_EN = (\n",
    "    data_ER_EN\n",
    "    .group_by('Electric Vehicle Type', 'Electric Range')\n",
    "    .agg(\n",
    "        Count = pl.col('Electric Range').count()\n",
    "    )\n",
    "    .sort(pl.col('Electric Range'))\n",
    ")\n",
    "\n",
    "data_ER_EN = data_ER_EN.with_columns(\n",
    "        pl.col('Electric Vehicle Type').replace({\n",
    "            'Plug-in Hybrid Electric Vehicle (PHEV)': 'PHEV',\n",
    "            'Battery Electric Vehicle (BEV)': 'BEV'\n",
    "        })\n",
    "    )"
   ]
  },
  {
   "cell_type": "code",
   "execution_count": 138,
   "metadata": {},
   "outputs": [
    {
     "data": {
      "text/html": [
       "\n",
       "<style>\n",
       "  #altair-viz-28237ae0631f47a99b5d50f05c6ca39f.vega-embed {\n",
       "    width: 100%;\n",
       "    display: flex;\n",
       "  }\n",
       "\n",
       "  #altair-viz-28237ae0631f47a99b5d50f05c6ca39f.vega-embed details,\n",
       "  #altair-viz-28237ae0631f47a99b5d50f05c6ca39f.vega-embed details summary {\n",
       "    position: relative;\n",
       "  }\n",
       "</style>\n",
       "<div id=\"altair-viz-28237ae0631f47a99b5d50f05c6ca39f\"></div>\n",
       "<script type=\"text/javascript\">\n",
       "  var VEGA_DEBUG = (typeof VEGA_DEBUG == \"undefined\") ? {} : VEGA_DEBUG;\n",
       "  (function(spec, embedOpt){\n",
       "    let outputDiv = document.currentScript.previousElementSibling;\n",
       "    if (outputDiv.id !== \"altair-viz-28237ae0631f47a99b5d50f05c6ca39f\") {\n",
       "      outputDiv = document.getElementById(\"altair-viz-28237ae0631f47a99b5d50f05c6ca39f\");\n",
       "    }\n",
       "    const paths = {\n",
       "      \"vega\": \"https://cdn.jsdelivr.net/npm/vega@5?noext\",\n",
       "      \"vega-lib\": \"https://cdn.jsdelivr.net/npm/vega-lib?noext\",\n",
       "      \"vega-lite\": \"https://cdn.jsdelivr.net/npm/vega-lite@5.20.1?noext\",\n",
       "      \"vega-embed\": \"https://cdn.jsdelivr.net/npm/vega-embed@6?noext\",\n",
       "    };\n",
       "\n",
       "    function maybeLoadScript(lib, version) {\n",
       "      var key = `${lib.replace(\"-\", \"\")}_version`;\n",
       "      return (VEGA_DEBUG[key] == version) ?\n",
       "        Promise.resolve(paths[lib]) :\n",
       "        new Promise(function(resolve, reject) {\n",
       "          var s = document.createElement('script');\n",
       "          document.getElementsByTagName(\"head\")[0].appendChild(s);\n",
       "          s.async = true;\n",
       "          s.onload = () => {\n",
       "            VEGA_DEBUG[key] = version;\n",
       "            return resolve(paths[lib]);\n",
       "          };\n",
       "          s.onerror = () => reject(`Error loading script: ${paths[lib]}`);\n",
       "          s.src = paths[lib];\n",
       "        });\n",
       "    }\n",
       "\n",
       "    function showError(err) {\n",
       "      outputDiv.innerHTML = `<div class=\"error\" style=\"color:red;\">${err}</div>`;\n",
       "      throw err;\n",
       "    }\n",
       "\n",
       "    function displayChart(vegaEmbed) {\n",
       "      vegaEmbed(outputDiv, spec, embedOpt)\n",
       "        .catch(err => showError(`Javascript Error: ${err.message}<br>This usually means there's a typo in your chart specification. See the javascript console for the full traceback.`));\n",
       "    }\n",
       "\n",
       "    if(typeof define === \"function\" && define.amd) {\n",
       "      requirejs.config({paths});\n",
       "      require([\"vega-embed\"], displayChart, err => showError(`Error loading script: ${err.message}`));\n",
       "    } else {\n",
       "      maybeLoadScript(\"vega\", \"5\")\n",
       "        .then(() => maybeLoadScript(\"vega-lite\", \"5.20.1\"))\n",
       "        .then(() => maybeLoadScript(\"vega-embed\", \"6\"))\n",
       "        .catch(showError)\n",
       "        .then(() => displayChart(vegaEmbed));\n",
       "    }\n",
       "  })({\"config\": {\"view\": {\"continuousWidth\": 300, \"continuousHeight\": 300}}, \"data\": {\"name\": \"data-fd8d8ad707f72f11de1ac3e59ef9aab5\"}, \"mark\": {\"type\": \"bar\", \"cornerRadiusTopLeft\": 3, \"cornerRadiusTopRight\": 3}, \"encoding\": {\"color\": {\"field\": \"Electric Vehicle Type\", \"scale\": {\"scheme\": \"oranges\"}, \"type\": \"nominal\"}, \"x\": {\"field\": \"Electric Range\", \"type\": \"quantitative\"}, \"y\": {\"field\": \"Count\", \"type\": \"quantitative\"}}, \"$schema\": \"https://vega.github.io/schema/vega-lite/v5.20.1.json\", \"datasets\": {\"data-fd8d8ad707f72f11de1ac3e59ef9aab5\": [{\"Electric Vehicle Type\": \"PHEV\", \"Electric Range\": 6, \"Count\": 948}, {\"Electric Vehicle Type\": \"PHEV\", \"Electric Range\": 8, \"Count\": 38}, {\"Electric Vehicle Type\": \"PHEV\", \"Electric Range\": 9, \"Count\": 22}, {\"Electric Vehicle Type\": \"PHEV\", \"Electric Range\": 10, \"Count\": 167}, {\"Electric Vehicle Type\": \"PHEV\", \"Electric Range\": 11, \"Count\": 4}, {\"Electric Vehicle Type\": \"PHEV\", \"Electric Range\": 12, \"Count\": 169}, {\"Electric Vehicle Type\": \"PHEV\", \"Electric Range\": 13, \"Count\": 364}, {\"Electric Vehicle Type\": \"PHEV\", \"Electric Range\": 14, \"Count\": 1101}, {\"Electric Vehicle Type\": \"PHEV\", \"Electric Range\": 15, \"Count\": 94}, {\"Electric Vehicle Type\": \"PHEV\", \"Electric Range\": 16, \"Count\": 782}, {\"Electric Vehicle Type\": \"PHEV\", \"Electric Range\": 17, \"Count\": 816}, {\"Electric Vehicle Type\": \"PHEV\", \"Electric Range\": 18, \"Count\": 1501}, {\"Electric Vehicle Type\": \"PHEV\", \"Electric Range\": 19, \"Count\": 2435}, {\"Electric Vehicle Type\": \"PHEV\", \"Electric Range\": 20, \"Count\": 698}, {\"Electric Vehicle Type\": \"PHEV\", \"Electric Range\": 21, \"Count\": 4373}, {\"Electric Vehicle Type\": \"PHEV\", \"Electric Range\": 22, \"Count\": 934}, {\"Electric Vehicle Type\": \"PHEV\", \"Electric Range\": 23, \"Count\": 511}, {\"Electric Vehicle Type\": \"PHEV\", \"Electric Range\": 24, \"Count\": 112}, {\"Electric Vehicle Type\": \"PHEV\", \"Electric Range\": 25, \"Count\": 4508}, {\"Electric Vehicle Type\": \"PHEV\", \"Electric Range\": 26, \"Count\": 1772}, {\"Electric Vehicle Type\": \"PHEV\", \"Electric Range\": 27, \"Count\": 74}, {\"Electric Vehicle Type\": \"PHEV\", \"Electric Range\": 28, \"Count\": 152}, {\"Electric Vehicle Type\": \"PHEV\", \"Electric Range\": 29, \"Count\": 238}, {\"Electric Vehicle Type\": \"BEV\", \"Electric Range\": 29, \"Count\": 9}, {\"Electric Vehicle Type\": \"PHEV\", \"Electric Range\": 30, \"Count\": 1736}, {\"Electric Vehicle Type\": \"PHEV\", \"Electric Range\": 31, \"Count\": 110}, {\"Electric Vehicle Type\": \"PHEV\", \"Electric Range\": 32, \"Count\": 5109}, {\"Electric Vehicle Type\": \"PHEV\", \"Electric Range\": 33, \"Count\": 1655}, {\"Electric Vehicle Type\": \"PHEV\", \"Electric Range\": 34, \"Count\": 889}, {\"Electric Vehicle Type\": \"PHEV\", \"Electric Range\": 35, \"Count\": 1509}, {\"Electric Vehicle Type\": \"PHEV\", \"Electric Range\": 36, \"Count\": 8}, {\"Electric Vehicle Type\": \"PHEV\", \"Electric Range\": 37, \"Count\": 685}, {\"Electric Vehicle Type\": \"PHEV\", \"Electric Range\": 38, \"Count\": 2533}, {\"Electric Vehicle Type\": \"PHEV\", \"Electric Range\": 39, \"Count\": 963}, {\"Electric Vehicle Type\": \"PHEV\", \"Electric Range\": 40, \"Count\": 204}, {\"Electric Vehicle Type\": \"PHEV\", \"Electric Range\": 41, \"Count\": 162}, {\"Electric Vehicle Type\": \"PHEV\", \"Electric Range\": 42, \"Count\": 3292}, {\"Electric Vehicle Type\": \"PHEV\", \"Electric Range\": 43, \"Count\": 5}, {\"Electric Vehicle Type\": \"PHEV\", \"Electric Range\": 46, \"Count\": 6}, {\"Electric Vehicle Type\": \"PHEV\", \"Electric Range\": 47, \"Count\": 850}, {\"Electric Vehicle Type\": \"PHEV\", \"Electric Range\": 48, \"Count\": 151}, {\"Electric Vehicle Type\": \"PHEV\", \"Electric Range\": 51, \"Count\": 4}, {\"Electric Vehicle Type\": \"PHEV\", \"Electric Range\": 53, \"Count\": 2484}, {\"Electric Vehicle Type\": \"PHEV\", \"Electric Range\": 55, \"Count\": 5}, {\"Electric Vehicle Type\": \"BEV\", \"Electric Range\": 56, \"Count\": 4}, {\"Electric Vehicle Type\": \"PHEV\", \"Electric Range\": 56, \"Count\": 25}, {\"Electric Vehicle Type\": \"BEV\", \"Electric Range\": 57, \"Count\": 2}, {\"Electric Vehicle Type\": \"BEV\", \"Electric Range\": 58, \"Count\": 145}, {\"Electric Vehicle Type\": \"PHEV\", \"Electric Range\": 58, \"Count\": 13}, {\"Electric Vehicle Type\": \"PHEV\", \"Electric Range\": 59, \"Count\": 17}, {\"Electric Vehicle Type\": \"BEV\", \"Electric Range\": 59, \"Count\": 1}, {\"Electric Vehicle Type\": \"PHEV\", \"Electric Range\": 60, \"Count\": 8}, {\"Electric Vehicle Type\": \"BEV\", \"Electric Range\": 62, \"Count\": 57}, {\"Electric Vehicle Type\": \"BEV\", \"Electric Range\": 68, \"Count\": 96}, {\"Electric Vehicle Type\": \"PHEV\", \"Electric Range\": 72, \"Count\": 697}, {\"Electric Vehicle Type\": \"BEV\", \"Electric Range\": 73, \"Count\": 1123}, {\"Electric Vehicle Type\": \"BEV\", \"Electric Range\": 75, \"Count\": 1811}, {\"Electric Vehicle Type\": \"BEV\", \"Electric Range\": 76, \"Count\": 196}, {\"Electric Vehicle Type\": \"BEV\", \"Electric Range\": 81, \"Count\": 358}, {\"Electric Vehicle Type\": \"BEV\", \"Electric Range\": 82, \"Count\": 243}, {\"Electric Vehicle Type\": \"BEV\", \"Electric Range\": 83, \"Count\": 455}, {\"Electric Vehicle Type\": \"BEV\", \"Electric Range\": 84, \"Count\": 3813}, {\"Electric Vehicle Type\": \"BEV\", \"Electric Range\": 87, \"Count\": 505}, {\"Electric Vehicle Type\": \"BEV\", \"Electric Range\": 93, \"Count\": 523}, {\"Electric Vehicle Type\": \"PHEV\", \"Electric Range\": 97, \"Count\": 429}, {\"Electric Vehicle Type\": \"BEV\", \"Electric Range\": 100, \"Count\": 36}, {\"Electric Vehicle Type\": \"BEV\", \"Electric Range\": 103, \"Count\": 53}, {\"Electric Vehicle Type\": \"BEV\", \"Electric Range\": 107, \"Count\": 869}, {\"Electric Vehicle Type\": \"BEV\", \"Electric Range\": 110, \"Count\": 118}, {\"Electric Vehicle Type\": \"BEV\", \"Electric Range\": 111, \"Count\": 71}, {\"Electric Vehicle Type\": \"BEV\", \"Electric Range\": 114, \"Count\": 102}, {\"Electric Vehicle Type\": \"BEV\", \"Electric Range\": 124, \"Count\": 36}, {\"Electric Vehicle Type\": \"BEV\", \"Electric Range\": 125, \"Count\": 626}, {\"Electric Vehicle Type\": \"PHEV\", \"Electric Range\": 126, \"Count\": 190}, {\"Electric Vehicle Type\": \"BEV\", \"Electric Range\": 149, \"Count\": 365}, {\"Electric Vehicle Type\": \"BEV\", \"Electric Range\": 150, \"Count\": 1366}, {\"Electric Vehicle Type\": \"BEV\", \"Electric Range\": 151, \"Count\": 1195}, {\"Electric Vehicle Type\": \"BEV\", \"Electric Range\": 153, \"Count\": 107}, {\"Electric Vehicle Type\": \"PHEV\", \"Electric Range\": 153, \"Count\": 9}, {\"Electric Vehicle Type\": \"BEV\", \"Electric Range\": 170, \"Count\": 81}, {\"Electric Vehicle Type\": \"BEV\", \"Electric Range\": 192, \"Count\": 93}, {\"Electric Vehicle Type\": \"BEV\", \"Electric Range\": 200, \"Count\": 1314}, {\"Electric Vehicle Type\": \"BEV\", \"Electric Range\": 203, \"Count\": 139}, {\"Electric Vehicle Type\": \"BEV\", \"Electric Range\": 204, \"Count\": 512}, {\"Electric Vehicle Type\": \"BEV\", \"Electric Range\": 208, \"Count\": 2356}, {\"Electric Vehicle Type\": \"BEV\", \"Electric Range\": 210, \"Count\": 1865}, {\"Electric Vehicle Type\": \"BEV\", \"Electric Range\": 215, \"Count\": 6372}, {\"Electric Vehicle Type\": \"BEV\", \"Electric Range\": 218, \"Count\": 73}, {\"Electric Vehicle Type\": \"BEV\", \"Electric Range\": 220, \"Count\": 3953}, {\"Electric Vehicle Type\": \"BEV\", \"Electric Range\": 222, \"Count\": 136}, {\"Electric Vehicle Type\": \"BEV\", \"Electric Range\": 233, \"Count\": 143}, {\"Electric Vehicle Type\": \"BEV\", \"Electric Range\": 234, \"Count\": 204}, {\"Electric Vehicle Type\": \"BEV\", \"Electric Range\": 238, \"Count\": 4014}, {\"Electric Vehicle Type\": \"BEV\", \"Electric Range\": 239, \"Count\": 894}, {\"Electric Vehicle Type\": \"BEV\", \"Electric Range\": 245, \"Count\": 7}, {\"Electric Vehicle Type\": \"BEV\", \"Electric Range\": 249, \"Count\": 914}, {\"Electric Vehicle Type\": \"BEV\", \"Electric Range\": 258, \"Count\": 234}, {\"Electric Vehicle Type\": \"BEV\", \"Electric Range\": 259, \"Count\": 1580}, {\"Electric Vehicle Type\": \"BEV\", \"Electric Range\": 265, \"Count\": 128}, {\"Electric Vehicle Type\": \"BEV\", \"Electric Range\": 266, \"Count\": 1432}, {\"Electric Vehicle Type\": \"BEV\", \"Electric Range\": 270, \"Count\": 271}, {\"Electric Vehicle Type\": \"BEV\", \"Electric Range\": 289, \"Count\": 641}, {\"Electric Vehicle Type\": \"BEV\", \"Electric Range\": 291, \"Count\": 2263}, {\"Electric Vehicle Type\": \"BEV\", \"Electric Range\": 293, \"Count\": 464}, {\"Electric Vehicle Type\": \"BEV\", \"Electric Range\": 308, \"Count\": 508}, {\"Electric Vehicle Type\": \"BEV\", \"Electric Range\": 322, \"Count\": 1736}, {\"Electric Vehicle Type\": \"BEV\", \"Electric Range\": 330, \"Count\": 330}, {\"Electric Vehicle Type\": \"BEV\", \"Electric Range\": 337, \"Count\": 84}]}}, {\"mode\": \"vega-lite\"});\n",
       "</script>"
      ],
      "text/plain": [
       "alt.Chart(...)"
      ]
     },
     "execution_count": 138,
     "metadata": {},
     "output_type": "execute_result"
    }
   ],
   "source": [
    "base = (\n",
    "    alt.Chart(data_ER_EN)\n",
    "    .encode(\n",
    "        x = ('Electric Range:Q'),\n",
    "        y = alt.Y('Count:Q'),\n",
    "        color= alt.Color('Electric Vehicle Type:N', scale=alt.Scale(scheme='oranges'))\n",
    "    )\n",
    ")\n",
    "\n",
    "base.mark_bar(cornerRadiusTopLeft=3, cornerRadiusTopRight=3)"
   ]
  },
  {
   "cell_type": "markdown",
   "metadata": {},
   "source": [
    "Come facilmente ipotizzabile, le auto di tipologia PHEV hanno un'autonomia in solo elettrico minore rispetto alle auto BEV. \n",
    "\n",
    "# Autonomia in elettrico rispetto al produttore"
   ]
  },
  {
   "cell_type": "code",
   "execution_count": 139,
   "metadata": {},
   "outputs": [
    {
     "name": "stdout",
     "output_type": "stream",
     "text": [
      "shape: (92_587, 3)\n",
      "┌───────────┬────────────────┬───────────────────────┐\n",
      "│ Make      ┆ Electric Range ┆ Electric Vehicle Type │\n",
      "│ ---       ┆ ---            ┆ ---                   │\n",
      "│ str       ┆ i64            ┆ str                   │\n",
      "╞═══════════╪════════════════╪═══════════════════════╡\n",
      "│ NISSAN    ┆ 75             ┆ BEV                   │\n",
      "│ TESLA     ┆ 270            ┆ BEV                   │\n",
      "│ TOYOTA    ┆ 25             ┆ PHEV                  │\n",
      "│ FORD      ┆ 19             ┆ PHEV                  │\n",
      "│ TESLA     ┆ 266            ┆ BEV                   │\n",
      "│ …         ┆ …              ┆ …                     │\n",
      "│ CHRYSLER  ┆ 32             ┆ PHEV                  │\n",
      "│ CHEVROLET ┆ 259            ┆ BEV                   │\n",
      "│ CHEVROLET ┆ 38             ┆ PHEV                  │\n",
      "│ KIA       ┆ 33             ┆ PHEV                  │\n",
      "│ CHEVROLET ┆ 38             ┆ PHEV                  │\n",
      "└───────────┴────────────────┴───────────────────────┘\n"
     ]
    }
   ],
   "source": [
    "data_range_prod = (\n",
    "    data\n",
    "    .select('Make', 'Electric Range', 'Electric Vehicle Type')\n",
    "    .filter(pl.col('Electric Range') > 0 )\n",
    ")\n",
    "data_range_prod = data_range_prod.with_columns(\n",
    "        pl.col('Electric Vehicle Type').replace({\n",
    "            'Plug-in Hybrid Electric Vehicle (PHEV)': 'PHEV',\n",
    "            'Battery Electric Vehicle (BEV)': 'BEV'\n",
    "        })\n",
    "    )\n",
    "print(data_range_prod)"
   ]
  },
  {
   "cell_type": "code",
   "execution_count": 140,
   "metadata": {},
   "outputs": [
    {
     "name": "stdout",
     "output_type": "stream",
     "text": [
      "shape: (178, 3)\n",
      "┌────────────┬────────────────┬───────┐\n",
      "│ Make       ┆ Electric Range ┆ Count │\n",
      "│ ---        ┆ ---            ┆ ---   │\n",
      "│ str        ┆ i64            ┆ u32   │\n",
      "╞════════════╪════════════════╪═══════╡\n",
      "│ ALFA ROMEO ┆ 33             ┆ 90    │\n",
      "│ AUDI       ┆ 20             ┆ 226   │\n",
      "│ AUDI       ┆ 218            ┆ 73    │\n",
      "│ AUDI       ┆ 204            ┆ 512   │\n",
      "│ AUDI       ┆ 19             ┆ 11    │\n",
      "│ …          ┆ …              ┆ …     │\n",
      "│ VOLVO      ┆ 21             ┆ 30    │\n",
      "│ VOLVO      ┆ 32             ┆ 608   │\n",
      "│ VOLVO      ┆ 13             ┆ 111   │\n",
      "│ VOLVO      ┆ 41             ┆ 162   │\n",
      "│ VOLVO      ┆ 38             ┆ 8     │\n",
      "└────────────┴────────────────┴───────┘\n"
     ]
    }
   ],
   "source": [
    "data_violin_graph=(\n",
    "    data_range_prod\n",
    "    .group_by('Make','Electric Range', )\n",
    "    .agg(\n",
    "        Count = pl.col('Electric Range').count()\n",
    "    )\n",
    "    .sort('Make')\n",
    ")\n",
    "\n",
    "print(data_violin_graph)"
   ]
  },
  {
   "cell_type": "markdown",
   "metadata": {},
   "source": [
    "Per creare dei grafici con una buona quantità di dati eseguaiamo un controllo sul numero di dati disponibili"
   ]
  },
  {
   "cell_type": "code",
   "execution_count": 141,
   "metadata": {},
   "outputs": [
    {
     "data": {
      "text/html": [
       "\n",
       "<style>\n",
       "  #altair-viz-dbe3fbc2f98348b6a902db4bce0297bf.vega-embed {\n",
       "    width: 100%;\n",
       "    display: flex;\n",
       "  }\n",
       "\n",
       "  #altair-viz-dbe3fbc2f98348b6a902db4bce0297bf.vega-embed details,\n",
       "  #altair-viz-dbe3fbc2f98348b6a902db4bce0297bf.vega-embed details summary {\n",
       "    position: relative;\n",
       "  }\n",
       "</style>\n",
       "<div id=\"altair-viz-dbe3fbc2f98348b6a902db4bce0297bf\"></div>\n",
       "<script type=\"text/javascript\">\n",
       "  var VEGA_DEBUG = (typeof VEGA_DEBUG == \"undefined\") ? {} : VEGA_DEBUG;\n",
       "  (function(spec, embedOpt){\n",
       "    let outputDiv = document.currentScript.previousElementSibling;\n",
       "    if (outputDiv.id !== \"altair-viz-dbe3fbc2f98348b6a902db4bce0297bf\") {\n",
       "      outputDiv = document.getElementById(\"altair-viz-dbe3fbc2f98348b6a902db4bce0297bf\");\n",
       "    }\n",
       "    const paths = {\n",
       "      \"vega\": \"https://cdn.jsdelivr.net/npm/vega@5?noext\",\n",
       "      \"vega-lib\": \"https://cdn.jsdelivr.net/npm/vega-lib?noext\",\n",
       "      \"vega-lite\": \"https://cdn.jsdelivr.net/npm/vega-lite@5.20.1?noext\",\n",
       "      \"vega-embed\": \"https://cdn.jsdelivr.net/npm/vega-embed@6?noext\",\n",
       "    };\n",
       "\n",
       "    function maybeLoadScript(lib, version) {\n",
       "      var key = `${lib.replace(\"-\", \"\")}_version`;\n",
       "      return (VEGA_DEBUG[key] == version) ?\n",
       "        Promise.resolve(paths[lib]) :\n",
       "        new Promise(function(resolve, reject) {\n",
       "          var s = document.createElement('script');\n",
       "          document.getElementsByTagName(\"head\")[0].appendChild(s);\n",
       "          s.async = true;\n",
       "          s.onload = () => {\n",
       "            VEGA_DEBUG[key] = version;\n",
       "            return resolve(paths[lib]);\n",
       "          };\n",
       "          s.onerror = () => reject(`Error loading script: ${paths[lib]}`);\n",
       "          s.src = paths[lib];\n",
       "        });\n",
       "    }\n",
       "\n",
       "    function showError(err) {\n",
       "      outputDiv.innerHTML = `<div class=\"error\" style=\"color:red;\">${err}</div>`;\n",
       "      throw err;\n",
       "    }\n",
       "\n",
       "    function displayChart(vegaEmbed) {\n",
       "      vegaEmbed(outputDiv, spec, embedOpt)\n",
       "        .catch(err => showError(`Javascript Error: ${err.message}<br>This usually means there's a typo in your chart specification. See the javascript console for the full traceback.`));\n",
       "    }\n",
       "\n",
       "    if(typeof define === \"function\" && define.amd) {\n",
       "      requirejs.config({paths});\n",
       "      require([\"vega-embed\"], displayChart, err => showError(`Error loading script: ${err.message}`));\n",
       "    } else {\n",
       "      maybeLoadScript(\"vega\", \"5\")\n",
       "        .then(() => maybeLoadScript(\"vega-lite\", \"5.20.1\"))\n",
       "        .then(() => maybeLoadScript(\"vega-embed\", \"6\"))\n",
       "        .catch(showError)\n",
       "        .then(() => displayChart(vegaEmbed));\n",
       "    }\n",
       "  })({\"config\": {\"view\": {\"continuousWidth\": 300, \"continuousHeight\": 300}}, \"data\": {\"name\": \"data-0ccc78750c4051e61329b96a7b0265e0\"}, \"mark\": {\"type\": \"bar\"}, \"encoding\": {\"color\": {\"field\": \"Count\", \"scale\": {\"scheme\": \"oranges\"}, \"type\": \"quantitative\"}, \"x\": {\"field\": \"Count\", \"type\": \"quantitative\"}, \"y\": {\"field\": \"Make\", \"sort\": \"-x\", \"type\": \"nominal\"}}, \"$schema\": \"https://vega.github.io/schema/vega-lite/v5.20.1.json\", \"datasets\": {\"data-0ccc78750c4051e61329b96a7b0265e0\": [{\"Make\": \"AZURE DYNAMICS\", \"Count\": 0.004320260943761004}, {\"Make\": \"TH!NK\", \"Count\": 0.005400326179701254}, {\"Make\": \"BENTLEY\", \"Count\": 0.005400326179701254}, {\"Make\": \"FISKER\", \"Count\": 0.012960782831283012}, {\"Make\": \"SUBARU\", \"Count\": 0.07128430557205655}, {\"Make\": \"LAND ROVER\", \"Count\": 0.09720587123462257}, {\"Make\": \"ALFA ROMEO\", \"Count\": 0.09720587123462257}, {\"Make\": \"CADILLAC\", \"Count\": 0.10260619741432384}, {\"Make\": \"POLESTAR\", \"Count\": 0.15444932873945588}, {\"Make\": \"JAGUAR\", \"Count\": 0.22033330813181115}, {\"Make\": \"SMART\", \"Count\": 0.26245585233348095}, {\"Make\": \"LINCOLN\", \"Count\": 0.3456208755008803}, {\"Make\": \"MINI\", \"Count\": 0.36506204974780476}, {\"Make\": \"LEXUS\", \"Count\": 0.47846889952153115}, {\"Make\": \"MERCEDES-BENZ\", \"Count\": 0.55947379221705}, {\"Make\": \"DODGE\", \"Count\": 0.7571257303941158}, {\"Make\": \"PORSCHE\", \"Count\": 0.8370505578536944}, {\"Make\": \"FIAT\", \"Count\": 0.8402907535615153}, {\"Make\": \"MAZDA\", \"Count\": 0.8748528411116032}, {\"Make\": \"HONDA\", \"Count\": 0.9396567552680183}, {\"Make\": \"MITSUBISHI\", \"Count\": 1.1286681715575622}, {\"Make\": \"VOLKSWAGEN\", \"Count\": 1.1675505200514111}, {\"Make\": \"HYUNDAI\", \"Count\": 1.3803233715316408}, {\"Make\": \"AUDI\", \"Count\": 2.6245585233348097}, {\"Make\": \"VOLVO\", \"Count\": 3.8417920442394724}, {\"Make\": \"CHRYSLER\", \"Count\": 4.101007700865133}, {\"Make\": \"FORD\", \"Count\": 4.250056703424887}, {\"Make\": \"KIA\", \"Count\": 4.729605668182359}]}}, {\"mode\": \"vega-lite\"});\n",
       "</script>"
      ],
      "text/plain": [
       "alt.Chart(...)"
      ]
     },
     "execution_count": 141,
     "metadata": {},
     "output_type": "execute_result"
    }
   ],
   "source": [
    "data_test_violin = (\n",
    "    data_range_prod\n",
    "    .group_by('Make')\n",
    "    .agg(\n",
    "        Count = pl.col('Make').count()/data_range_prod.height*100\n",
    "    )\n",
    "    .filter(pl.col('Count') < 5)\n",
    "    .sort(pl.col('Count'))\n",
    ")\n",
    "\n",
    "base = (\n",
    "    alt.Chart(data_test_violin)\n",
    "    .encode(\n",
    "        x='Count:Q',\n",
    "        y=alt.Y('Make:N', sort='-x'),\n",
    "        color=alt.Color('Count:Q', scale=alt.Scale(scheme='oranges'))\n",
    "    )\n",
    ")\n",
    "\n",
    "base.mark_bar()\n",
    "\n",
    "#print(data_test_violin)"
   ]
  },
  {
   "cell_type": "markdown",
   "metadata": {},
   "source": [
    "Scegliamo di eliminare i produttori che hanno venduto meno di MERCEDES-BENZ."
   ]
  },
  {
   "cell_type": "code",
   "execution_count": 142,
   "metadata": {},
   "outputs": [
    {
     "data": {
      "text/html": [
       "<div><style>\n",
       ".dataframe > thead > tr,\n",
       ".dataframe > tbody > tr {\n",
       "  text-align: right;\n",
       "  white-space: pre-wrap;\n",
       "}\n",
       "</style>\n",
       "<small>shape: (92_587, 3)</small><table border=\"1\" class=\"dataframe\"><thead><tr><th>Make</th><th>Electric Range</th><th>Electric Vehicle Type</th></tr><tr><td>str</td><td>i64</td><td>str</td></tr></thead><tbody><tr><td>&quot;NISSAN&quot;</td><td>75</td><td>&quot;BEV&quot;</td></tr><tr><td>&quot;TESLA&quot;</td><td>270</td><td>&quot;BEV&quot;</td></tr><tr><td>&quot;TOYOTA&quot;</td><td>25</td><td>&quot;PHEV&quot;</td></tr><tr><td>&quot;FORD&quot;</td><td>19</td><td>&quot;PHEV&quot;</td></tr><tr><td>&quot;TESLA&quot;</td><td>266</td><td>&quot;BEV&quot;</td></tr><tr><td>&hellip;</td><td>&hellip;</td><td>&hellip;</td></tr><tr><td>&quot;CHRYSLER&quot;</td><td>32</td><td>&quot;PHEV&quot;</td></tr><tr><td>&quot;CHEVROLET&quot;</td><td>259</td><td>&quot;BEV&quot;</td></tr><tr><td>&quot;CHEVROLET&quot;</td><td>38</td><td>&quot;PHEV&quot;</td></tr><tr><td>&quot;KIA&quot;</td><td>33</td><td>&quot;PHEV&quot;</td></tr><tr><td>&quot;CHEVROLET&quot;</td><td>38</td><td>&quot;PHEV&quot;</td></tr></tbody></table></div>"
      ],
      "text/plain": [
       "shape: (92_587, 3)\n",
       "┌───────────┬────────────────┬───────────────────────┐\n",
       "│ Make      ┆ Electric Range ┆ Electric Vehicle Type │\n",
       "│ ---       ┆ ---            ┆ ---                   │\n",
       "│ str       ┆ i64            ┆ str                   │\n",
       "╞═══════════╪════════════════╪═══════════════════════╡\n",
       "│ NISSAN    ┆ 75             ┆ BEV                   │\n",
       "│ TESLA     ┆ 270            ┆ BEV                   │\n",
       "│ TOYOTA    ┆ 25             ┆ PHEV                  │\n",
       "│ FORD      ┆ 19             ┆ PHEV                  │\n",
       "│ TESLA     ┆ 266            ┆ BEV                   │\n",
       "│ …         ┆ …              ┆ …                     │\n",
       "│ CHRYSLER  ┆ 32             ┆ PHEV                  │\n",
       "│ CHEVROLET ┆ 259            ┆ BEV                   │\n",
       "│ CHEVROLET ┆ 38             ┆ PHEV                  │\n",
       "│ KIA       ┆ 33             ┆ PHEV                  │\n",
       "│ CHEVROLET ┆ 38             ┆ PHEV                  │\n",
       "└───────────┴────────────────┴───────────────────────┘"
      ]
     },
     "execution_count": 142,
     "metadata": {},
     "output_type": "execute_result"
    }
   ],
   "source": [
    "data_range_prod"
   ]
  },
  {
   "cell_type": "code",
   "execution_count": 143,
   "metadata": {},
   "outputs": [
    {
     "data": {
      "text/plain": [
       "['AUDI',\n",
       " 'BMW',\n",
       " 'CHEVROLET',\n",
       " 'CHRYSLER',\n",
       " 'DODGE',\n",
       " 'FIAT',\n",
       " 'FORD',\n",
       " 'HONDA',\n",
       " 'HYUNDAI',\n",
       " 'JEEP',\n",
       " 'KIA',\n",
       " 'MAZDA',\n",
       " 'MERCEDES-BENZ',\n",
       " 'MITSUBISHI',\n",
       " 'NISSAN',\n",
       " 'PORSCHE',\n",
       " 'TESLA',\n",
       " 'TOYOTA',\n",
       " 'VOLKSWAGEN',\n",
       " 'VOLVO']"
      ]
     },
     "execution_count": 143,
     "metadata": {},
     "output_type": "execute_result"
    }
   ],
   "source": [
    "make_list = (\n",
    "    data_range_prod\n",
    "    .group_by('Make')\n",
    "    .agg(\n",
    "        Count = pl.col('Make').count()/data_range_prod.height*100\n",
    "    )\n",
    "    .filter(pl.col('Count') > 0.5)\n",
    ")\n",
    "\n",
    "\n",
    "make_list = make_list['Make'].unique().sort().to_list()\n",
    "\n",
    "make_list\n"
   ]
  },
  {
   "cell_type": "code",
   "execution_count": null,
   "metadata": {},
   "outputs": [
    {
     "data": {
      "text/html": [
       "<div><style>\n",
       ".dataframe > thead > tr,\n",
       ".dataframe > tbody > tr {\n",
       "  text-align: right;\n",
       "  white-space: pre-wrap;\n",
       "}\n",
       "</style>\n",
       "<small>shape: (9, 4)</small><table border=\"1\" class=\"dataframe\"><thead><tr><th>statistic</th><th>Make</th><th>Electric Range</th><th>Count</th></tr><tr><td>str</td><td>str</td><td>f64</td><td>f64</td></tr></thead><tbody><tr><td>&quot;count&quot;</td><td>&quot;148&quot;</td><td>148.0</td><td>148.0</td></tr><tr><td>&quot;null_count&quot;</td><td>&quot;0&quot;</td><td>0.0</td><td>0.0</td></tr><tr><td>&quot;mean&quot;</td><td>null</td><td>82.925676</td><td>611.682432</td></tr><tr><td>&quot;std&quot;</td><td>null</td><td>89.470026</td><td>940.312873</td></tr><tr><td>&quot;min&quot;</td><td>&quot;AUDI&quot;</td><td>6.0</td><td>1.0</td></tr><tr><td>&quot;25%&quot;</td><td>null</td><td>21.0</td><td>71.0</td></tr><tr><td>&quot;50%&quot;</td><td>null</td><td>37.0</td><td>234.0</td></tr><tr><td>&quot;75%&quot;</td><td>null</td><td>111.0</td><td>697.0</td></tr><tr><td>&quot;max&quot;</td><td>&quot;VOLVO&quot;</td><td>337.0</td><td>6097.0</td></tr></tbody></table></div>"
      ],
      "text/plain": [
       "shape: (9, 4)\n",
       "┌────────────┬───────┬────────────────┬────────────┐\n",
       "│ statistic  ┆ Make  ┆ Electric Range ┆ Count      │\n",
       "│ ---        ┆ ---   ┆ ---            ┆ ---        │\n",
       "│ str        ┆ str   ┆ f64            ┆ f64        │\n",
       "╞════════════╪═══════╪════════════════╪════════════╡\n",
       "│ count      ┆ 148   ┆ 148.0          ┆ 148.0      │\n",
       "│ null_count ┆ 0     ┆ 0.0            ┆ 0.0        │\n",
       "│ mean       ┆ null  ┆ 82.925676      ┆ 611.682432 │\n",
       "│ std        ┆ null  ┆ 89.470026      ┆ 940.312873 │\n",
       "│ min        ┆ AUDI  ┆ 6.0            ┆ 1.0        │\n",
       "│ 25%        ┆ null  ┆ 21.0           ┆ 71.0       │\n",
       "│ 50%        ┆ null  ┆ 37.0           ┆ 234.0      │\n",
       "│ 75%        ┆ null  ┆ 111.0          ┆ 697.0      │\n",
       "│ max        ┆ VOLVO ┆ 337.0          ┆ 6097.0     │\n",
       "└────────────┴───────┴────────────────┴────────────┘"
      ]
     },
     "execution_count": 144,
     "metadata": {},
     "output_type": "execute_result"
    }
   ],
   "source": [
    "data_violin_graph = (\n",
    "    data_violin_graph\n",
    "    .filter(pl.col('Make').is_in())\n",
    ")\n",
    "\n",
    "data_violin_graph.describe()"
   ]
  },
  {
   "cell_type": "code",
   "execution_count": 145,
   "metadata": {},
   "outputs": [
    {
     "data": {
      "text/html": [
       "\n",
       "<style>\n",
       "  #altair-viz-e56fbe5a82d64fc3ab269a86acce50f8.vega-embed {\n",
       "    width: 100%;\n",
       "    display: flex;\n",
       "  }\n",
       "\n",
       "  #altair-viz-e56fbe5a82d64fc3ab269a86acce50f8.vega-embed details,\n",
       "  #altair-viz-e56fbe5a82d64fc3ab269a86acce50f8.vega-embed details summary {\n",
       "    position: relative;\n",
       "  }\n",
       "</style>\n",
       "<div id=\"altair-viz-e56fbe5a82d64fc3ab269a86acce50f8\"></div>\n",
       "<script type=\"text/javascript\">\n",
       "  var VEGA_DEBUG = (typeof VEGA_DEBUG == \"undefined\") ? {} : VEGA_DEBUG;\n",
       "  (function(spec, embedOpt){\n",
       "    let outputDiv = document.currentScript.previousElementSibling;\n",
       "    if (outputDiv.id !== \"altair-viz-e56fbe5a82d64fc3ab269a86acce50f8\") {\n",
       "      outputDiv = document.getElementById(\"altair-viz-e56fbe5a82d64fc3ab269a86acce50f8\");\n",
       "    }\n",
       "    const paths = {\n",
       "      \"vega\": \"https://cdn.jsdelivr.net/npm/vega@5?noext\",\n",
       "      \"vega-lib\": \"https://cdn.jsdelivr.net/npm/vega-lib?noext\",\n",
       "      \"vega-lite\": \"https://cdn.jsdelivr.net/npm/vega-lite@5.20.1?noext\",\n",
       "      \"vega-embed\": \"https://cdn.jsdelivr.net/npm/vega-embed@6?noext\",\n",
       "    };\n",
       "\n",
       "    function maybeLoadScript(lib, version) {\n",
       "      var key = `${lib.replace(\"-\", \"\")}_version`;\n",
       "      return (VEGA_DEBUG[key] == version) ?\n",
       "        Promise.resolve(paths[lib]) :\n",
       "        new Promise(function(resolve, reject) {\n",
       "          var s = document.createElement('script');\n",
       "          document.getElementsByTagName(\"head\")[0].appendChild(s);\n",
       "          s.async = true;\n",
       "          s.onload = () => {\n",
       "            VEGA_DEBUG[key] = version;\n",
       "            return resolve(paths[lib]);\n",
       "          };\n",
       "          s.onerror = () => reject(`Error loading script: ${paths[lib]}`);\n",
       "          s.src = paths[lib];\n",
       "        });\n",
       "    }\n",
       "\n",
       "    function showError(err) {\n",
       "      outputDiv.innerHTML = `<div class=\"error\" style=\"color:red;\">${err}</div>`;\n",
       "      throw err;\n",
       "    }\n",
       "\n",
       "    function displayChart(vegaEmbed) {\n",
       "      vegaEmbed(outputDiv, spec, embedOpt)\n",
       "        .catch(err => showError(`Javascript Error: ${err.message}<br>This usually means there's a typo in your chart specification. See the javascript console for the full traceback.`));\n",
       "    }\n",
       "\n",
       "    if(typeof define === \"function\" && define.amd) {\n",
       "      requirejs.config({paths});\n",
       "      require([\"vega-embed\"], displayChart, err => showError(`Error loading script: ${err.message}`));\n",
       "    } else {\n",
       "      maybeLoadScript(\"vega\", \"5\")\n",
       "        .then(() => maybeLoadScript(\"vega-lite\", \"5.20.1\"))\n",
       "        .then(() => maybeLoadScript(\"vega-embed\", \"6\"))\n",
       "        .catch(showError)\n",
       "        .then(() => displayChart(vegaEmbed));\n",
       "    }\n",
       "  })({\"config\": {\"view\": {\"continuousWidth\": 300, \"continuousHeight\": 300, \"stroke\": null}}, \"data\": {\"name\": \"data-c869206897de6184a1c9b451436ed504\"}, \"mark\": {\"type\": \"area\", \"orient\": \"horizontal\"}, \"encoding\": {\"color\": {\"field\": \"Make\", \"type\": \"nominal\"}, \"column\": {\"field\": \"Make\", \"header\": {\"titleOrient\": \"bottom\", \"labelOrient\": \"bottom\", \"labelPadding\": 0}, \"spacing\": 0, \"type\": \"nominal\"}, \"x\": {\"axis\": {\"labels\": false, \"values\": [0], \"grid\": false, \"ticks\": true}, \"field\": \"Count\", \"impute\": null, \"stack\": \"center\", \"title\": null, \"type\": \"quantitative\"}, \"y\": {\"field\": \"Electric Range\", \"type\": \"quantitative\"}}, \"$schema\": \"https://vega.github.io/schema/vega-lite/v5.20.1.json\", \"datasets\": {\"data-c869206897de6184a1c9b451436ed504\": [{\"Make\": \"AUDI\", \"Electric Range\": 20, \"Count\": 226}, {\"Make\": \"AUDI\", \"Electric Range\": 218, \"Count\": 73}, {\"Make\": \"AUDI\", \"Electric Range\": 204, \"Count\": 512}, {\"Make\": \"AUDI\", \"Electric Range\": 19, \"Count\": 11}, {\"Make\": \"AUDI\", \"Electric Range\": 23, \"Count\": 510}, {\"Make\": \"AUDI\", \"Electric Range\": 16, \"Count\": 567}, {\"Make\": \"AUDI\", \"Electric Range\": 24, \"Count\": 11}, {\"Make\": \"AUDI\", \"Electric Range\": 18, \"Count\": 329}, {\"Make\": \"AUDI\", \"Electric Range\": 17, \"Count\": 3}, {\"Make\": \"AUDI\", \"Electric Range\": 22, \"Count\": 52}, {\"Make\": \"AUDI\", \"Electric Range\": 222, \"Count\": 136}, {\"Make\": \"BMW\", \"Electric Range\": 13, \"Count\": 175}, {\"Make\": \"BMW\", \"Electric Range\": 18, \"Count\": 131}, {\"Make\": \"BMW\", \"Electric Range\": 14, \"Count\": 729}, {\"Make\": \"BMW\", \"Electric Range\": 126, \"Count\": 190}, {\"Make\": \"BMW\", \"Electric Range\": 20, \"Count\": 209}, {\"Make\": \"BMW\", \"Electric Range\": 16, \"Count\": 124}, {\"Make\": \"BMW\", \"Electric Range\": 31, \"Count\": 17}, {\"Make\": \"BMW\", \"Electric Range\": 15, \"Count\": 57}, {\"Make\": \"BMW\", \"Electric Range\": 153, \"Count\": 116}, {\"Make\": \"BMW\", \"Electric Range\": 40, \"Count\": 189}, {\"Make\": \"BMW\", \"Electric Range\": 17, \"Count\": 356}, {\"Make\": \"BMW\", \"Electric Range\": 39, \"Count\": 474}, {\"Make\": \"BMW\", \"Electric Range\": 21, \"Count\": 18}, {\"Make\": \"BMW\", \"Electric Range\": 81, \"Count\": 358}, {\"Make\": \"BMW\", \"Electric Range\": 114, \"Count\": 102}, {\"Make\": \"BMW\", \"Electric Range\": 36, \"Count\": 3}, {\"Make\": \"BMW\", \"Electric Range\": 30, \"Count\": 1505}, {\"Make\": \"BMW\", \"Electric Range\": 97, \"Count\": 429}, {\"Make\": \"BMW\", \"Electric Range\": 72, \"Count\": 697}, {\"Make\": \"BMW\", \"Electric Range\": 22, \"Count\": 120}, {\"Make\": \"CHEVROLET\", \"Electric Range\": 38, \"Count\": 1796}, {\"Make\": \"CHEVROLET\", \"Electric Range\": 238, \"Count\": 3124}, {\"Make\": \"CHEVROLET\", \"Electric Range\": 82, \"Count\": 243}, {\"Make\": \"CHEVROLET\", \"Electric Range\": 35, \"Count\": 529}, {\"Make\": \"CHEVROLET\", \"Electric Range\": 259, \"Count\": 1580}, {\"Make\": \"CHEVROLET\", \"Electric Range\": 53, \"Count\": 2484}, {\"Make\": \"CHRYSLER\", \"Electric Range\": 32, \"Count\": 3153}, {\"Make\": \"CHRYSLER\", \"Electric Range\": 33, \"Count\": 644}, {\"Make\": \"DODGE\", \"Electric Range\": 32, \"Count\": 701}, {\"Make\": \"FIAT\", \"Electric Range\": 84, \"Count\": 362}, {\"Make\": \"FIAT\", \"Electric Range\": 87, \"Count\": 416}, {\"Make\": \"FORD\", \"Electric Range\": 19, \"Count\": 2246}, {\"Make\": \"FORD\", \"Electric Range\": 100, \"Count\": 31}, {\"Make\": \"FORD\", \"Electric Range\": 76, \"Count\": 196}, {\"Make\": \"FORD\", \"Electric Range\": 21, \"Count\": 492}, {\"Make\": \"FORD\", \"Electric Range\": 38, \"Count\": 286}, {\"Make\": \"FORD\", \"Electric Range\": 26, \"Count\": 229}, {\"Make\": \"FORD\", \"Electric Range\": 37, \"Count\": 192}, {\"Make\": \"FORD\", \"Electric Range\": 20, \"Count\": 263}, {\"Make\": \"HONDA\", \"Electric Range\": 47, \"Count\": 850}, {\"Make\": \"HONDA\", \"Electric Range\": 13, \"Count\": 12}, {\"Make\": \"HONDA\", \"Electric Range\": 48, \"Count\": 8}, {\"Make\": \"HYUNDAI\", \"Electric Range\": 30, \"Count\": 165}, {\"Make\": \"HYUNDAI\", \"Electric Range\": 29, \"Count\": 162}, {\"Make\": \"HYUNDAI\", \"Electric Range\": 31, \"Count\": 79}, {\"Make\": \"HYUNDAI\", \"Electric Range\": 27, \"Count\": 74}, {\"Make\": \"HYUNDAI\", \"Electric Range\": 170, \"Count\": 81}, {\"Make\": \"HYUNDAI\", \"Electric Range\": 258, \"Count\": 234}, {\"Make\": \"HYUNDAI\", \"Electric Range\": 28, \"Count\": 6}, {\"Make\": \"HYUNDAI\", \"Electric Range\": 33, \"Count\": 441}, {\"Make\": \"HYUNDAI\", \"Electric Range\": 124, \"Count\": 36}, {\"Make\": \"JEEP\", \"Electric Range\": 21, \"Count\": 3642}, {\"Make\": \"JEEP\", \"Electric Range\": 25, \"Count\": 1813}, {\"Make\": \"JEEP\", \"Electric Range\": 22, \"Count\": 180}, {\"Make\": \"KIA\", \"Electric Range\": 111, \"Count\": 71}, {\"Make\": \"KIA\", \"Electric Range\": 30, \"Count\": 66}, {\"Make\": \"KIA\", \"Electric Range\": 26, \"Count\": 733}, {\"Make\": \"KIA\", \"Electric Range\": 239, \"Count\": 894}, {\"Make\": \"KIA\", \"Electric Range\": 28, \"Count\": 14}, {\"Make\": \"KIA\", \"Electric Range\": 34, \"Count\": 889}, {\"Make\": \"KIA\", \"Electric Range\": 29, \"Count\": 85}, {\"Make\": \"KIA\", \"Electric Range\": 33, \"Count\": 457}, {\"Make\": \"KIA\", \"Electric Range\": 93, \"Count\": 523}, {\"Make\": \"KIA\", \"Electric Range\": 32, \"Count\": 647}, {\"Make\": \"MAZDA\", \"Electric Range\": 26, \"Count\": 810}, {\"Make\": \"MERCEDES-BENZ\", \"Electric Range\": 11, \"Count\": 4}, {\"Make\": \"MERCEDES-BENZ\", \"Electric Range\": 87, \"Count\": 89}, {\"Make\": \"MERCEDES-BENZ\", \"Electric Range\": 12, \"Count\": 7}, {\"Make\": \"MERCEDES-BENZ\", \"Electric Range\": 46, \"Count\": 6}, {\"Make\": \"MERCEDES-BENZ\", \"Electric Range\": 22, \"Count\": 38}, {\"Make\": \"MERCEDES-BENZ\", \"Electric Range\": 48, \"Count\": 143}, {\"Make\": \"MERCEDES-BENZ\", \"Electric Range\": 9, \"Count\": 22}, {\"Make\": \"MERCEDES-BENZ\", \"Electric Range\": 10, \"Count\": 167}, {\"Make\": \"MERCEDES-BENZ\", \"Electric Range\": 14, \"Count\": 4}, {\"Make\": \"MERCEDES-BENZ\", \"Electric Range\": 8, \"Count\": 38}, {\"Make\": \"MITSUBISHI\", \"Electric Range\": 38, \"Count\": 443}, {\"Make\": \"MITSUBISHI\", \"Electric Range\": 22, \"Count\": 443}, {\"Make\": \"MITSUBISHI\", \"Electric Range\": 59, \"Count\": 1}, {\"Make\": \"MITSUBISHI\", \"Electric Range\": 24, \"Count\": 101}, {\"Make\": \"MITSUBISHI\", \"Electric Range\": 62, \"Count\": 57}, {\"Make\": \"NISSAN\", \"Electric Range\": 215, \"Count\": 275}, {\"Make\": \"NISSAN\", \"Electric Range\": 151, \"Count\": 1195}, {\"Make\": \"NISSAN\", \"Electric Range\": 149, \"Count\": 365}, {\"Make\": \"NISSAN\", \"Electric Range\": 107, \"Count\": 869}, {\"Make\": \"NISSAN\", \"Electric Range\": 84, \"Count\": 3451}, {\"Make\": \"NISSAN\", \"Electric Range\": 150, \"Count\": 1366}, {\"Make\": \"NISSAN\", \"Electric Range\": 73, \"Count\": 1123}, {\"Make\": \"NISSAN\", \"Electric Range\": 75, \"Count\": 1811}, {\"Make\": \"PORSCHE\", \"Electric Range\": 13, \"Count\": 66}, {\"Make\": \"PORSCHE\", \"Electric Range\": 17, \"Count\": 20}, {\"Make\": \"PORSCHE\", \"Electric Range\": 14, \"Count\": 258}, {\"Make\": \"PORSCHE\", \"Electric Range\": 43, \"Count\": 5}, {\"Make\": \"PORSCHE\", \"Electric Range\": 18, \"Count\": 25}, {\"Make\": \"PORSCHE\", \"Electric Range\": 55, \"Count\": 5}, {\"Make\": \"PORSCHE\", \"Electric Range\": 16, \"Count\": 91}, {\"Make\": \"PORSCHE\", \"Electric Range\": 56, \"Count\": 25}, {\"Make\": \"PORSCHE\", \"Electric Range\": 12, \"Count\": 4}, {\"Make\": \"PORSCHE\", \"Electric Range\": 15, \"Count\": 37}, {\"Make\": \"PORSCHE\", \"Electric Range\": 203, \"Count\": 139}, {\"Make\": \"PORSCHE\", \"Electric Range\": 19, \"Count\": 7}, {\"Make\": \"PORSCHE\", \"Electric Range\": 192, \"Count\": 93}, {\"Make\": \"TESLA\", \"Electric Range\": 210, \"Count\": 1865}, {\"Make\": \"TESLA\", \"Electric Range\": 322, \"Count\": 1736}, {\"Make\": \"TESLA\", \"Electric Range\": 238, \"Count\": 890}, {\"Make\": \"TESLA\", \"Electric Range\": 208, \"Count\": 2356}, {\"Make\": \"TESLA\", \"Electric Range\": 249, \"Count\": 914}, {\"Make\": \"TESLA\", \"Electric Range\": 293, \"Count\": 464}, {\"Make\": \"TESLA\", \"Electric Range\": 215, \"Count\": 6097}, {\"Make\": \"TESLA\", \"Electric Range\": 270, \"Count\": 271}, {\"Make\": \"TESLA\", \"Electric Range\": 245, \"Count\": 7}, {\"Make\": \"TESLA\", \"Electric Range\": 308, \"Count\": 508}, {\"Make\": \"TESLA\", \"Electric Range\": 266, \"Count\": 1432}, {\"Make\": \"TESLA\", \"Electric Range\": 265, \"Count\": 128}, {\"Make\": \"TESLA\", \"Electric Range\": 330, \"Count\": 330}, {\"Make\": \"TESLA\", \"Electric Range\": 200, \"Count\": 1314}, {\"Make\": \"TESLA\", \"Electric Range\": 291, \"Count\": 2263}, {\"Make\": \"TESLA\", \"Electric Range\": 289, \"Count\": 641}, {\"Make\": \"TESLA\", \"Electric Range\": 337, \"Count\": 84}, {\"Make\": \"TESLA\", \"Electric Range\": 220, \"Count\": 3953}, {\"Make\": \"TOYOTA\", \"Electric Range\": 25, \"Count\": 2695}, {\"Make\": \"TOYOTA\", \"Electric Range\": 6, \"Count\": 948}, {\"Make\": \"TOYOTA\", \"Electric Range\": 103, \"Count\": 53}, {\"Make\": \"TOYOTA\", \"Electric Range\": 39, \"Count\": 489}, {\"Make\": \"TOYOTA\", \"Electric Range\": 42, \"Count\": 3292}, {\"Make\": \"VOLKSWAGEN\", \"Electric Range\": 83, \"Count\": 455}, {\"Make\": \"VOLKSWAGEN\", \"Electric Range\": 125, \"Count\": 626}, {\"Make\": \"VOLVO\", \"Electric Range\": 22, \"Count\": 101}, {\"Make\": \"VOLVO\", \"Electric Range\": 17, \"Count\": 308}, {\"Make\": \"VOLVO\", \"Electric Range\": 35, \"Count\": 980}, {\"Make\": \"VOLVO\", \"Electric Range\": 18, \"Count\": 1016}, {\"Make\": \"VOLVO\", \"Electric Range\": 14, \"Count\": 110}, {\"Make\": \"VOLVO\", \"Electric Range\": 19, \"Count\": 123}, {\"Make\": \"VOLVO\", \"Electric Range\": 21, \"Count\": 30}, {\"Make\": \"VOLVO\", \"Electric Range\": 32, \"Count\": 608}, {\"Make\": \"VOLVO\", \"Electric Range\": 13, \"Count\": 111}, {\"Make\": \"VOLVO\", \"Electric Range\": 41, \"Count\": 162}, {\"Make\": \"VOLVO\", \"Electric Range\": 38, \"Count\": 8}]}}, {\"mode\": \"vega-lite\"});\n",
       "</script>"
      ],
      "text/plain": [
       "alt.Chart(...)"
      ]
     },
     "execution_count": 145,
     "metadata": {},
     "output_type": "execute_result"
    }
   ],
   "source": [
    "\n",
    "\n",
    "alt.data_transformers.disable_max_rows()\n",
    "\n",
    "base = (\n",
    "    alt.Chart(data_violin_graph)\n",
    "    .encode(\n",
    "        alt.X('Count:Q')\n",
    "            .stack('center')\n",
    "            .impute(None)\n",
    "            .title(None)\n",
    "            .axis(labels = False, values = [0], grid = False, ticks = True),\n",
    "        alt.Y('Electric Range:Q'),    \n",
    "        alt.Color('Make:N'),\n",
    "        alt.Column('Make:N')\n",
    "            .spacing(0)\n",
    "            .header(titleOrient='bottom', labelOrient='bottom', labelPadding=0)\n",
    "    )\n",
    "    .configure_view(\n",
    "        stroke = None\n",
    "    )\n",
    ")\n",
    "\n",
    "base.mark_area(orient='horizontal')"
   ]
  },
  {
   "cell_type": "markdown",
   "metadata": {},
   "source": [
    "Con questa visualizzazione non si ha una visuale chiara dei dati. \n",
    "Proviamo con un tipo diverso di grafico"
   ]
  },
  {
   "cell_type": "code",
   "execution_count": 179,
   "metadata": {},
   "outputs": [
    {
     "data": {
      "text/html": [
       "\n",
       "<style>\n",
       "  #altair-viz-7b9e9dd47c6444a6bf0ab42c30b388c8.vega-embed {\n",
       "    width: 100%;\n",
       "    display: flex;\n",
       "  }\n",
       "\n",
       "  #altair-viz-7b9e9dd47c6444a6bf0ab42c30b388c8.vega-embed details,\n",
       "  #altair-viz-7b9e9dd47c6444a6bf0ab42c30b388c8.vega-embed details summary {\n",
       "    position: relative;\n",
       "  }\n",
       "</style>\n",
       "<div id=\"altair-viz-7b9e9dd47c6444a6bf0ab42c30b388c8\"></div>\n",
       "<script type=\"text/javascript\">\n",
       "  var VEGA_DEBUG = (typeof VEGA_DEBUG == \"undefined\") ? {} : VEGA_DEBUG;\n",
       "  (function(spec, embedOpt){\n",
       "    let outputDiv = document.currentScript.previousElementSibling;\n",
       "    if (outputDiv.id !== \"altair-viz-7b9e9dd47c6444a6bf0ab42c30b388c8\") {\n",
       "      outputDiv = document.getElementById(\"altair-viz-7b9e9dd47c6444a6bf0ab42c30b388c8\");\n",
       "    }\n",
       "    const paths = {\n",
       "      \"vega\": \"https://cdn.jsdelivr.net/npm/vega@5?noext\",\n",
       "      \"vega-lib\": \"https://cdn.jsdelivr.net/npm/vega-lib?noext\",\n",
       "      \"vega-lite\": \"https://cdn.jsdelivr.net/npm/vega-lite@5.20.1?noext\",\n",
       "      \"vega-embed\": \"https://cdn.jsdelivr.net/npm/vega-embed@6?noext\",\n",
       "    };\n",
       "\n",
       "    function maybeLoadScript(lib, version) {\n",
       "      var key = `${lib.replace(\"-\", \"\")}_version`;\n",
       "      return (VEGA_DEBUG[key] == version) ?\n",
       "        Promise.resolve(paths[lib]) :\n",
       "        new Promise(function(resolve, reject) {\n",
       "          var s = document.createElement('script');\n",
       "          document.getElementsByTagName(\"head\")[0].appendChild(s);\n",
       "          s.async = true;\n",
       "          s.onload = () => {\n",
       "            VEGA_DEBUG[key] = version;\n",
       "            return resolve(paths[lib]);\n",
       "          };\n",
       "          s.onerror = () => reject(`Error loading script: ${paths[lib]}`);\n",
       "          s.src = paths[lib];\n",
       "        });\n",
       "    }\n",
       "\n",
       "    function showError(err) {\n",
       "      outputDiv.innerHTML = `<div class=\"error\" style=\"color:red;\">${err}</div>`;\n",
       "      throw err;\n",
       "    }\n",
       "\n",
       "    function displayChart(vegaEmbed) {\n",
       "      vegaEmbed(outputDiv, spec, embedOpt)\n",
       "        .catch(err => showError(`Javascript Error: ${err.message}<br>This usually means there's a typo in your chart specification. See the javascript console for the full traceback.`));\n",
       "    }\n",
       "\n",
       "    if(typeof define === \"function\" && define.amd) {\n",
       "      requirejs.config({paths});\n",
       "      require([\"vega-embed\"], displayChart, err => showError(`Error loading script: ${err.message}`));\n",
       "    } else {\n",
       "      maybeLoadScript(\"vega\", \"5\")\n",
       "        .then(() => maybeLoadScript(\"vega-lite\", \"5.20.1\"))\n",
       "        .then(() => maybeLoadScript(\"vega-embed\", \"6\"))\n",
       "        .catch(showError)\n",
       "        .then(() => displayChart(vegaEmbed));\n",
       "    }\n",
       "  })({\"config\": {\"view\": {\"continuousWidth\": 300, \"continuousHeight\": 300}}, \"layer\": [{\"mark\": {\"type\": \"bar\", \"cornerRadius\": 10, \"height\": 10}, \"encoding\": {\"x\": {\"aggregate\": \"min\", \"field\": \"Electric Range\", \"scale\": {\"domain\": [-15, 350]}, \"title\": \"Electric Range\", \"type\": \"quantitative\"}, \"x2\": {\"aggregate\": \"max\", \"field\": \"Electric Range\"}, \"y\": {\"field\": \"Make\", \"sort\": \"-x\", \"title\": null, \"type\": \"nominal\"}}}, {\"mark\": {\"type\": \"text\", \"align\": \"right\", \"dx\": -5}, \"encoding\": {\"text\": {\"aggregate\": \"min\", \"field\": \"Electric Range\", \"type\": \"quantitative\"}, \"x\": {\"aggregate\": \"min\", \"field\": \"Electric Range\", \"type\": \"quantitative\"}, \"y\": {\"field\": \"Make\", \"type\": \"nominal\"}}}, {\"mark\": {\"type\": \"text\", \"align\": \"left\", \"dx\": 5}, \"encoding\": {\"text\": {\"aggregate\": \"max\", \"field\": \"Electric Range\", \"type\": \"quantitative\"}, \"x\": {\"aggregate\": \"max\", \"field\": \"Electric Range\", \"type\": \"quantitative\"}, \"y\": {\"field\": \"Make\", \"type\": \"nominal\"}}}], \"data\": {\"name\": \"data-87af143e4e60c8df54d735e185161c61\"}, \"title\": {\"text\": \"Electric Range\"}, \"$schema\": \"https://vega.github.io/schema/vega-lite/v5.20.1.json\", \"datasets\": {\"data-87af143e4e60c8df54d735e185161c61\": [{\"Make\": \"AUDI\", \"Electric Range\": 20, \"Count\": 226}, {\"Make\": \"AUDI\", \"Electric Range\": 218, \"Count\": 73}, {\"Make\": \"AUDI\", \"Electric Range\": 204, \"Count\": 512}, {\"Make\": \"AUDI\", \"Electric Range\": 19, \"Count\": 11}, {\"Make\": \"AUDI\", \"Electric Range\": 23, \"Count\": 510}, {\"Make\": \"AUDI\", \"Electric Range\": 16, \"Count\": 567}, {\"Make\": \"AUDI\", \"Electric Range\": 24, \"Count\": 11}, {\"Make\": \"AUDI\", \"Electric Range\": 18, \"Count\": 329}, {\"Make\": \"AUDI\", \"Electric Range\": 17, \"Count\": 3}, {\"Make\": \"AUDI\", \"Electric Range\": 22, \"Count\": 52}, {\"Make\": \"AUDI\", \"Electric Range\": 222, \"Count\": 136}, {\"Make\": \"BMW\", \"Electric Range\": 13, \"Count\": 175}, {\"Make\": \"BMW\", \"Electric Range\": 18, \"Count\": 131}, {\"Make\": \"BMW\", \"Electric Range\": 14, \"Count\": 729}, {\"Make\": \"BMW\", \"Electric Range\": 126, \"Count\": 190}, {\"Make\": \"BMW\", \"Electric Range\": 20, \"Count\": 209}, {\"Make\": \"BMW\", \"Electric Range\": 16, \"Count\": 124}, {\"Make\": \"BMW\", \"Electric Range\": 31, \"Count\": 17}, {\"Make\": \"BMW\", \"Electric Range\": 15, \"Count\": 57}, {\"Make\": \"BMW\", \"Electric Range\": 153, \"Count\": 116}, {\"Make\": \"BMW\", \"Electric Range\": 40, \"Count\": 189}, {\"Make\": \"BMW\", \"Electric Range\": 17, \"Count\": 356}, {\"Make\": \"BMW\", \"Electric Range\": 39, \"Count\": 474}, {\"Make\": \"BMW\", \"Electric Range\": 21, \"Count\": 18}, {\"Make\": \"BMW\", \"Electric Range\": 81, \"Count\": 358}, {\"Make\": \"BMW\", \"Electric Range\": 114, \"Count\": 102}, {\"Make\": \"BMW\", \"Electric Range\": 36, \"Count\": 3}, {\"Make\": \"BMW\", \"Electric Range\": 30, \"Count\": 1505}, {\"Make\": \"BMW\", \"Electric Range\": 97, \"Count\": 429}, {\"Make\": \"BMW\", \"Electric Range\": 72, \"Count\": 697}, {\"Make\": \"BMW\", \"Electric Range\": 22, \"Count\": 120}, {\"Make\": \"CHEVROLET\", \"Electric Range\": 38, \"Count\": 1796}, {\"Make\": \"CHEVROLET\", \"Electric Range\": 238, \"Count\": 3124}, {\"Make\": \"CHEVROLET\", \"Electric Range\": 82, \"Count\": 243}, {\"Make\": \"CHEVROLET\", \"Electric Range\": 35, \"Count\": 529}, {\"Make\": \"CHEVROLET\", \"Electric Range\": 259, \"Count\": 1580}, {\"Make\": \"CHEVROLET\", \"Electric Range\": 53, \"Count\": 2484}, {\"Make\": \"FORD\", \"Electric Range\": 19, \"Count\": 2246}, {\"Make\": \"FORD\", \"Electric Range\": 100, \"Count\": 31}, {\"Make\": \"FORD\", \"Electric Range\": 76, \"Count\": 196}, {\"Make\": \"FORD\", \"Electric Range\": 21, \"Count\": 492}, {\"Make\": \"FORD\", \"Electric Range\": 38, \"Count\": 286}, {\"Make\": \"FORD\", \"Electric Range\": 26, \"Count\": 229}, {\"Make\": \"FORD\", \"Electric Range\": 37, \"Count\": 192}, {\"Make\": \"FORD\", \"Electric Range\": 20, \"Count\": 263}, {\"Make\": \"HONDA\", \"Electric Range\": 47, \"Count\": 850}, {\"Make\": \"HONDA\", \"Electric Range\": 13, \"Count\": 12}, {\"Make\": \"HONDA\", \"Electric Range\": 48, \"Count\": 8}, {\"Make\": \"HYUNDAI\", \"Electric Range\": 30, \"Count\": 165}, {\"Make\": \"HYUNDAI\", \"Electric Range\": 29, \"Count\": 162}, {\"Make\": \"HYUNDAI\", \"Electric Range\": 31, \"Count\": 79}, {\"Make\": \"HYUNDAI\", \"Electric Range\": 27, \"Count\": 74}, {\"Make\": \"HYUNDAI\", \"Electric Range\": 170, \"Count\": 81}, {\"Make\": \"HYUNDAI\", \"Electric Range\": 258, \"Count\": 234}, {\"Make\": \"HYUNDAI\", \"Electric Range\": 28, \"Count\": 6}, {\"Make\": \"HYUNDAI\", \"Electric Range\": 33, \"Count\": 441}, {\"Make\": \"HYUNDAI\", \"Electric Range\": 124, \"Count\": 36}, {\"Make\": \"KIA\", \"Electric Range\": 111, \"Count\": 71}, {\"Make\": \"KIA\", \"Electric Range\": 30, \"Count\": 66}, {\"Make\": \"KIA\", \"Electric Range\": 26, \"Count\": 733}, {\"Make\": \"KIA\", \"Electric Range\": 239, \"Count\": 894}, {\"Make\": \"KIA\", \"Electric Range\": 28, \"Count\": 14}, {\"Make\": \"KIA\", \"Electric Range\": 34, \"Count\": 889}, {\"Make\": \"KIA\", \"Electric Range\": 29, \"Count\": 85}, {\"Make\": \"KIA\", \"Electric Range\": 33, \"Count\": 457}, {\"Make\": \"KIA\", \"Electric Range\": 93, \"Count\": 523}, {\"Make\": \"KIA\", \"Electric Range\": 32, \"Count\": 647}, {\"Make\": \"MERCEDES-BENZ\", \"Electric Range\": 11, \"Count\": 4}, {\"Make\": \"MERCEDES-BENZ\", \"Electric Range\": 87, \"Count\": 89}, {\"Make\": \"MERCEDES-BENZ\", \"Electric Range\": 12, \"Count\": 7}, {\"Make\": \"MERCEDES-BENZ\", \"Electric Range\": 46, \"Count\": 6}, {\"Make\": \"MERCEDES-BENZ\", \"Electric Range\": 22, \"Count\": 38}, {\"Make\": \"MERCEDES-BENZ\", \"Electric Range\": 48, \"Count\": 143}, {\"Make\": \"MERCEDES-BENZ\", \"Electric Range\": 9, \"Count\": 22}, {\"Make\": \"MERCEDES-BENZ\", \"Electric Range\": 10, \"Count\": 167}, {\"Make\": \"MERCEDES-BENZ\", \"Electric Range\": 14, \"Count\": 4}, {\"Make\": \"MERCEDES-BENZ\", \"Electric Range\": 8, \"Count\": 38}, {\"Make\": \"MITSUBISHI\", \"Electric Range\": 38, \"Count\": 443}, {\"Make\": \"MITSUBISHI\", \"Electric Range\": 22, \"Count\": 443}, {\"Make\": \"MITSUBISHI\", \"Electric Range\": 59, \"Count\": 1}, {\"Make\": \"MITSUBISHI\", \"Electric Range\": 24, \"Count\": 101}, {\"Make\": \"MITSUBISHI\", \"Electric Range\": 62, \"Count\": 57}, {\"Make\": \"NISSAN\", \"Electric Range\": 215, \"Count\": 275}, {\"Make\": \"NISSAN\", \"Electric Range\": 151, \"Count\": 1195}, {\"Make\": \"NISSAN\", \"Electric Range\": 149, \"Count\": 365}, {\"Make\": \"NISSAN\", \"Electric Range\": 107, \"Count\": 869}, {\"Make\": \"NISSAN\", \"Electric Range\": 84, \"Count\": 3451}, {\"Make\": \"NISSAN\", \"Electric Range\": 150, \"Count\": 1366}, {\"Make\": \"NISSAN\", \"Electric Range\": 73, \"Count\": 1123}, {\"Make\": \"NISSAN\", \"Electric Range\": 75, \"Count\": 1811}, {\"Make\": \"PORSCHE\", \"Electric Range\": 13, \"Count\": 66}, {\"Make\": \"PORSCHE\", \"Electric Range\": 17, \"Count\": 20}, {\"Make\": \"PORSCHE\", \"Electric Range\": 14, \"Count\": 258}, {\"Make\": \"PORSCHE\", \"Electric Range\": 43, \"Count\": 5}, {\"Make\": \"PORSCHE\", \"Electric Range\": 18, \"Count\": 25}, {\"Make\": \"PORSCHE\", \"Electric Range\": 55, \"Count\": 5}, {\"Make\": \"PORSCHE\", \"Electric Range\": 16, \"Count\": 91}, {\"Make\": \"PORSCHE\", \"Electric Range\": 56, \"Count\": 25}, {\"Make\": \"PORSCHE\", \"Electric Range\": 12, \"Count\": 4}, {\"Make\": \"PORSCHE\", \"Electric Range\": 15, \"Count\": 37}, {\"Make\": \"PORSCHE\", \"Electric Range\": 203, \"Count\": 139}, {\"Make\": \"PORSCHE\", \"Electric Range\": 19, \"Count\": 7}, {\"Make\": \"PORSCHE\", \"Electric Range\": 192, \"Count\": 93}, {\"Make\": \"TESLA\", \"Electric Range\": 210, \"Count\": 1865}, {\"Make\": \"TESLA\", \"Electric Range\": 322, \"Count\": 1736}, {\"Make\": \"TESLA\", \"Electric Range\": 238, \"Count\": 890}, {\"Make\": \"TESLA\", \"Electric Range\": 208, \"Count\": 2356}, {\"Make\": \"TESLA\", \"Electric Range\": 249, \"Count\": 914}, {\"Make\": \"TESLA\", \"Electric Range\": 293, \"Count\": 464}, {\"Make\": \"TESLA\", \"Electric Range\": 215, \"Count\": 6097}, {\"Make\": \"TESLA\", \"Electric Range\": 270, \"Count\": 271}, {\"Make\": \"TESLA\", \"Electric Range\": 245, \"Count\": 7}, {\"Make\": \"TESLA\", \"Electric Range\": 308, \"Count\": 508}, {\"Make\": \"TESLA\", \"Electric Range\": 266, \"Count\": 1432}, {\"Make\": \"TESLA\", \"Electric Range\": 265, \"Count\": 128}, {\"Make\": \"TESLA\", \"Electric Range\": 330, \"Count\": 330}, {\"Make\": \"TESLA\", \"Electric Range\": 200, \"Count\": 1314}, {\"Make\": \"TESLA\", \"Electric Range\": 291, \"Count\": 2263}, {\"Make\": \"TESLA\", \"Electric Range\": 289, \"Count\": 641}, {\"Make\": \"TESLA\", \"Electric Range\": 337, \"Count\": 84}, {\"Make\": \"TESLA\", \"Electric Range\": 220, \"Count\": 3953}, {\"Make\": \"TOYOTA\", \"Electric Range\": 25, \"Count\": 2695}, {\"Make\": \"TOYOTA\", \"Electric Range\": 6, \"Count\": 948}, {\"Make\": \"TOYOTA\", \"Electric Range\": 103, \"Count\": 53}, {\"Make\": \"TOYOTA\", \"Electric Range\": 39, \"Count\": 489}, {\"Make\": \"TOYOTA\", \"Electric Range\": 42, \"Count\": 3292}, {\"Make\": \"VOLKSWAGEN\", \"Electric Range\": 83, \"Count\": 455}, {\"Make\": \"VOLKSWAGEN\", \"Electric Range\": 125, \"Count\": 626}, {\"Make\": \"VOLVO\", \"Electric Range\": 22, \"Count\": 101}, {\"Make\": \"VOLVO\", \"Electric Range\": 17, \"Count\": 308}, {\"Make\": \"VOLVO\", \"Electric Range\": 35, \"Count\": 980}, {\"Make\": \"VOLVO\", \"Electric Range\": 18, \"Count\": 1016}, {\"Make\": \"VOLVO\", \"Electric Range\": 14, \"Count\": 110}, {\"Make\": \"VOLVO\", \"Electric Range\": 19, \"Count\": 123}, {\"Make\": \"VOLVO\", \"Electric Range\": 21, \"Count\": 30}, {\"Make\": \"VOLVO\", \"Electric Range\": 32, \"Count\": 608}, {\"Make\": \"VOLVO\", \"Electric Range\": 13, \"Count\": 111}, {\"Make\": \"VOLVO\", \"Electric Range\": 41, \"Count\": 162}, {\"Make\": \"VOLVO\", \"Electric Range\": 38, \"Count\": 8}]}}, {\"mode\": \"vega-lite\"});\n",
       "</script>"
      ],
      "text/plain": [
       "alt.LayerChart(...)"
      ]
     },
     "execution_count": 179,
     "metadata": {},
     "output_type": "execute_result"
    }
   ],
   "source": [
    "bar = (\n",
    "    alt.Chart(data_violin_graph)\n",
    "    .mark_bar(cornerRadius=10, height=10)\n",
    "    .encode(\n",
    "        x = alt.X('min(Electric Range):Q').scale(domain=[-15, 350]).title('Electric Range'),\n",
    "        x2 = 'max(Electric Range):Q',\n",
    "        y = alt.Y('Make:N', sort = '-x').title(None),\n",
    "    )\n",
    ")\n",
    "\n",
    "text_min = (\n",
    "    alt.Chart(data_violin_graph)\n",
    "    .mark_text(align='right', dx = -5)\n",
    "    .encode(\n",
    "        x = 'min(Electric Range):Q',\n",
    "        y = alt.Y('Make:N'),\n",
    "        text = 'min(Electric Range):Q'\n",
    "    )\n",
    ")\n",
    "\n",
    "text_max = (\n",
    "    alt.Chart(data_violin_graph)\n",
    "    .mark_text(align='left', dx = 5)\n",
    "    .encode(\n",
    "        x = 'max(Electric Range):Q',\n",
    "        y = alt.Y('Make:N'),\n",
    "        text = 'max(Electric Range):Q'\n",
    "    )\n",
    ")\n",
    "\n",
    "(bar + text_min + text_max).properties(\n",
    "    title = alt.Title(text = 'Electric Range')\n",
    ")"
   ]
  },
  {
   "cell_type": "code",
   "execution_count": 178,
   "metadata": {},
   "outputs": [],
   "source": [
    "filtered_data = (\n",
    "    data_violin_graph\n",
    "    .group_by(\"Make\")\n",
    "    .agg([\n",
    "        pl.col(\"Electric Range\").max().alias(\"max_Electric_Range\"),\n",
    "        pl.col(\"Electric Range\").min().alias(\"min_Electric_Range\"),\n",
    "    ])\n",
    "    .filter((pl.col(\"max_Electric_Range\") - pl.col(\"min_Electric_Range\")) < 5)\n",
    ")\n",
    "\n",
    "filter_list = filtered_data['Make'].unique().sort().to_list()\n",
    "\n",
    "filter_list\n",
    "\n",
    "data_violin_graph = (\n",
    "    data_violin_graph\n",
    "    .filter(pl.col('Make').is_in(list(set(make_list) - set(filter_list))))\n",
    ")"
   ]
  }
 ],
 "metadata": {
  "kernelspec": {
   "display_name": ".venv",
   "language": "python",
   "name": "python3"
  },
  "language_info": {
   "codemirror_mode": {
    "name": "ipython",
    "version": 3
   },
   "file_extension": ".py",
   "mimetype": "text/x-python",
   "name": "python",
   "nbconvert_exporter": "python",
   "pygments_lexer": "ipython3",
   "version": "3.12.7"
  }
 },
 "nbformat": 4,
 "nbformat_minor": 2
}
