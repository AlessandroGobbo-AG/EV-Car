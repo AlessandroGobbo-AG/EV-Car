{
 "cells": [
  {
   "cell_type": "code",
   "execution_count": 2,
   "metadata": {},
   "outputs": [],
   "source": [
    "import streamlit as st\n",
    "import polars as pl\n",
    "import altair as alt\n",
    "import re\n",
    "import pydeck as pdk\n",
    "import pandas as pd\n",
    "from pathlib import Path\n",
    "\n",
    "\n",
    "data_dir = Path('DATA')\n",
    "data_file = \"..\"/ data_dir / \"Electric_Vehicle_Population_Data.csv\"\n",
    "\n",
    "data = pl.read_csv(data_file)"
   ]
  },
  {
   "cell_type": "code",
   "execution_count": 16,
   "metadata": {},
   "outputs": [
    {
     "data": {
      "text/html": [
       "<div><style>\n",
       ".dataframe > thead > tr,\n",
       ".dataframe > tbody > tr {\n",
       "  text-align: right;\n",
       "  white-space: pre-wrap;\n",
       "}\n",
       "</style>\n",
       "<small>shape: (2_775, 3)</small><table border=\"1\" class=\"dataframe\"><thead><tr><th>Make</th><th>Electric Range</th><th>Electric Vehicle Type</th></tr><tr><td>str</td><td>i64</td><td>str</td></tr></thead><tbody><tr><td>&quot;TESLA&quot;</td><td>270</td><td>&quot;Battery&nbsp;Electric&nbsp;Vehicle&nbsp;(BEV)&quot;</td></tr><tr><td>&quot;TESLA&quot;</td><td>266</td><td>&quot;Battery&nbsp;Electric&nbsp;Vehicle&nbsp;(BEV)&quot;</td></tr><tr><td>&quot;TESLA&quot;</td><td>249</td><td>&quot;Battery&nbsp;Electric&nbsp;Vehicle&nbsp;(BEV)&quot;</td></tr><tr><td>&quot;TESLA&quot;</td><td>322</td><td>&quot;Battery&nbsp;Electric&nbsp;Vehicle&nbsp;(BEV)&quot;</td></tr><tr><td>&quot;TESLA&quot;</td><td>238</td><td>&quot;Battery&nbsp;Electric&nbsp;Vehicle&nbsp;(BEV)&quot;</td></tr><tr><td>&hellip;</td><td>&hellip;</td><td>&hellip;</td></tr><tr><td>&quot;PORSCHE&quot;</td><td>203</td><td>&quot;Battery&nbsp;Electric&nbsp;Vehicle&nbsp;(BEV)&quot;</td></tr><tr><td>&quot;PORSCHE&quot;</td><td>15</td><td>&quot;Plug-in&nbsp;Hybrid&nbsp;Electric&nbsp;Vehicl…</td></tr><tr><td>&quot;PORSCHE&quot;</td><td>14</td><td>&quot;Plug-in&nbsp;Hybrid&nbsp;Electric&nbsp;Vehicl…</td></tr><tr><td>&quot;PORSCHE&quot;</td><td>16</td><td>&quot;Plug-in&nbsp;Hybrid&nbsp;Electric&nbsp;Vehicl…</td></tr><tr><td>&quot;PORSCHE&quot;</td><td>16</td><td>&quot;Plug-in&nbsp;Hybrid&nbsp;Electric&nbsp;Vehicl…</td></tr></tbody></table></div>"
      ],
      "text/plain": [
       "shape: (2_775, 3)\n",
       "┌─────────┬────────────────┬─────────────────────────────────┐\n",
       "│ Make    ┆ Electric Range ┆ Electric Vehicle Type           │\n",
       "│ ---     ┆ ---            ┆ ---                             │\n",
       "│ str     ┆ i64            ┆ str                             │\n",
       "╞═════════╪════════════════╪═════════════════════════════════╡\n",
       "│ TESLA   ┆ 270            ┆ Battery Electric Vehicle (BEV)  │\n",
       "│ TESLA   ┆ 266            ┆ Battery Electric Vehicle (BEV)  │\n",
       "│ TESLA   ┆ 249            ┆ Battery Electric Vehicle (BEV)  │\n",
       "│ TESLA   ┆ 322            ┆ Battery Electric Vehicle (BEV)  │\n",
       "│ TESLA   ┆ 238            ┆ Battery Electric Vehicle (BEV)  │\n",
       "│ …       ┆ …              ┆ …                               │\n",
       "│ PORSCHE ┆ 203            ┆ Battery Electric Vehicle (BEV)  │\n",
       "│ PORSCHE ┆ 15             ┆ Plug-in Hybrid Electric Vehicl… │\n",
       "│ PORSCHE ┆ 14             ┆ Plug-in Hybrid Electric Vehicl… │\n",
       "│ PORSCHE ┆ 16             ┆ Plug-in Hybrid Electric Vehicl… │\n",
       "│ PORSCHE ┆ 16             ┆ Plug-in Hybrid Electric Vehicl… │\n",
       "└─────────┴────────────────┴─────────────────────────────────┘"
      ]
     },
     "execution_count": 16,
     "metadata": {},
     "output_type": "execute_result"
    }
   ],
   "source": [
    "list = ['TESLA', 'NISSAN', 'PORSCHE']\n",
    "\n",
    "dataframe_list = []\n",
    "\n",
    "for i in list:\n",
    "    dataframe_list.append(\n",
    "        data\n",
    "        .select('Make', 'Electric Range', 'Electric Vehicle Type')\n",
    "        .filter(pl.col('Make') == i)\n",
    "        .filter(pl.col('Electric Range') > 0)\n",
    "        .limit(1000)\n",
    "    )\n",
    "data_total = pl.concat(dataframe_list)\n",
    "\n",
    "data_total\n",
    "\n"
   ]
  }
 ],
 "metadata": {
  "kernelspec": {
   "display_name": ".venv",
   "language": "python",
   "name": "python3"
  },
  "language_info": {
   "codemirror_mode": {
    "name": "ipython",
    "version": 3
   },
   "file_extension": ".py",
   "mimetype": "text/x-python",
   "name": "python",
   "nbconvert_exporter": "python",
   "pygments_lexer": "ipython3",
   "version": "3.12.7"
  }
 },
 "nbformat": 4,
 "nbformat_minor": 2
}
