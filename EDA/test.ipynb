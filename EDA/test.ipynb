{
 "cells": [
  {
   "cell_type": "code",
   "execution_count": 1,
   "metadata": {},
   "outputs": [],
   "source": [
    "import polars as pl"
   ]
  },
  {
   "cell_type": "code",
   "execution_count": 3,
   "metadata": {},
   "outputs": [],
   "source": [
    "data = pl.read_csv('/Users/alessandrogobbo/Documents/PROJECT_SE2/DATA/data.csv')"
   ]
  },
  {
   "cell_type": "code",
   "execution_count": 40,
   "metadata": {},
   "outputs": [],
   "source": [
    "data_test = (\n",
    "    data\n",
    "    .group_by('Make')\n",
    "    .agg(\n",
    "        Vendita = pl.col('Make').count()\n",
    "    )\n",
    "    .sort('Vendita', descending = True)\n",
    "    .select('Make')\n",
    ")\n",
    "\n",
    "data_list = data_test.rows()[0:4]"
   ]
  },
  {
   "cell_type": "code",
   "execution_count": 38,
   "metadata": {},
   "outputs": [],
   "source": [
    "\n",
    "\n",
    "data_list = data_test.rows()[0:4]\n",
    "#data_list = data_list[0:4]"
   ]
  },
  {
   "cell_type": "code",
   "execution_count": 41,
   "metadata": {},
   "outputs": [
    {
     "name": "stdout",
     "output_type": "stream",
     "text": [
      "[('TESLA',), ('CHEVROLET',), ('NISSAN',), ('FORD',)]\n"
     ]
    }
   ],
   "source": [
    "print(data_list)"
   ]
  },
  {
   "cell_type": "code",
   "execution_count": 34,
   "metadata": {},
   "outputs": [
    {
     "name": "stdout",
     "output_type": "stream",
     "text": [
      "Prova di scrittura\n",
      "TESLA\n",
      "CHEVROLET\n",
      "NISSAN\n",
      "FORD\n"
     ]
    }
   ],
   "source": [
    "\n",
    "text = f'''Prova di scrittura\\n{'\\n'.join( [ element[0] for element in data_list])}'''\n",
    "\n",
    "print(text)"
   ]
  },
  {
   "cell_type": "code",
   "execution_count": 8,
   "metadata": {},
   "outputs": [
    {
     "data": {
      "text/html": [
       "<div><style>\n",
       ".dataframe > thead > tr,\n",
       ".dataframe > tbody > tr {\n",
       "  text-align: right;\n",
       "  white-space: pre-wrap;\n",
       "}\n",
       "</style>\n",
       "<small>shape: (2, 3)</small><table border=\"1\" class=\"dataframe\"><thead><tr><th>Make</th><th>Electric Vehicle Type</th><th>Engine</th></tr><tr><td>str</td><td>str</td><td>u32</td></tr></thead><tbody><tr><td>&quot;VOLVO&quot;</td><td>&quot;Plug-in&nbsp;Hybrid&nbsp;Electric&nbsp;Vehicl…</td><td>3557</td></tr><tr><td>&quot;VOLVO&quot;</td><td>&quot;Battery&nbsp;Electric&nbsp;Vehicle&nbsp;(BEV)&quot;</td><td>1735</td></tr></tbody></table></div>"
      ],
      "text/plain": [
       "shape: (2, 3)\n",
       "┌───────┬─────────────────────────────────┬────────┐\n",
       "│ Make  ┆ Electric Vehicle Type           ┆ Engine │\n",
       "│ ---   ┆ ---                             ┆ ---    │\n",
       "│ str   ┆ str                             ┆ u32    │\n",
       "╞═══════╪═════════════════════════════════╪════════╡\n",
       "│ VOLVO ┆ Plug-in Hybrid Electric Vehicl… ┆ 3557   │\n",
       "│ VOLVO ┆ Battery Electric Vehicle (BEV)  ┆ 1735   │\n",
       "└───────┴─────────────────────────────────┴────────┘"
      ]
     },
     "execution_count": 8,
     "metadata": {},
     "output_type": "execute_result"
    }
   ],
   "source": [
    "data_type_engine = (\n",
    "    data\n",
    "    .group_by('Make', 'Electric Vehicle Type')\n",
    "    .agg(\n",
    "        Engine = pl.col('Electric Vehicle Type').count()\n",
    "    )\n",
    "    .filter(\n",
    "        pl.col('Make') == 'VOLVO'\n",
    "    )\n",
    ")\n",
    "\n",
    "data_type_engine.head()"
   ]
  },
  {
   "cell_type": "code",
   "execution_count": 10,
   "metadata": {},
   "outputs": [
    {
     "data": {
      "text/html": [
       "<div><style>\n",
       ".dataframe > thead > tr,\n",
       ".dataframe > tbody > tr {\n",
       "  text-align: right;\n",
       "  white-space: pre-wrap;\n",
       "}\n",
       "</style>\n",
       "<small>shape: (6, 3)</small><table border=\"1\" class=\"dataframe\"><thead><tr><th>Make</th><th>Model</th><th>Vendita_per_modello</th></tr><tr><td>str</td><td>str</td><td>u32</td></tr></thead><tbody><tr><td>&quot;TESLA&quot;</td><td>&quot;MODEL&nbsp;S&quot;</td><td>7858</td></tr><tr><td>&quot;TESLA&quot;</td><td>&quot;MODEL&nbsp;Y&quot;</td><td>45231</td></tr><tr><td>&quot;TESLA&quot;</td><td>&quot;ROADSTER&quot;</td><td>51</td></tr><tr><td>&quot;TESLA&quot;</td><td>&quot;MODEL&nbsp;X&quot;</td><td>6302</td></tr><tr><td>&quot;TESLA&quot;</td><td>&quot;CYBERTRUCK&quot;</td><td>859</td></tr><tr><td>&quot;TESLA&quot;</td><td>&quot;MODEL&nbsp;3&quot;</td><td>33630</td></tr></tbody></table></div>"
      ],
      "text/plain": [
       "shape: (6, 3)\n",
       "┌───────┬────────────┬─────────────────────┐\n",
       "│ Make  ┆ Model      ┆ Vendita_per_modello │\n",
       "│ ---   ┆ ---        ┆ ---                 │\n",
       "│ str   ┆ str        ┆ u32                 │\n",
       "╞═══════╪════════════╪═════════════════════╡\n",
       "│ TESLA ┆ MODEL S    ┆ 7858                │\n",
       "│ TESLA ┆ MODEL Y    ┆ 45231               │\n",
       "│ TESLA ┆ ROADSTER   ┆ 51                  │\n",
       "│ TESLA ┆ MODEL X    ┆ 6302                │\n",
       "│ TESLA ┆ CYBERTRUCK ┆ 859                 │\n",
       "│ TESLA ┆ MODEL 3    ┆ 33630               │\n",
       "└───────┴────────────┴─────────────────────┘"
      ]
     },
     "execution_count": 10,
     "metadata": {},
     "output_type": "execute_result"
    }
   ],
   "source": [
    "data_model = (\n",
    "        data\n",
    "        .group_by('Make', 'Model')\n",
    "        .agg(\n",
    "            Vendita_per_modello = pl.col('Model').count(),         \n",
    "        )\n",
    "        .filter(pl.col('Make') == 'TESLA')\n",
    "    )\n",
    "\n",
    "data_model"
   ]
  }
 ],
 "metadata": {
  "kernelspec": {
   "display_name": ".venv",
   "language": "python",
   "name": "python3"
  },
  "language_info": {
   "codemirror_mode": {
    "name": "ipython",
    "version": 3
   },
   "file_extension": ".py",
   "mimetype": "text/x-python",
   "name": "python",
   "nbconvert_exporter": "python",
   "pygments_lexer": "ipython3",
   "version": "3.12.7"
  }
 },
 "nbformat": 4,
 "nbformat_minor": 2
}
