{
 "cells": [
  {
   "cell_type": "code",
   "execution_count": 21,
   "metadata": {},
   "outputs": [
    {
     "name": "stdout",
     "output_type": "stream",
     "text": [
      "Path to dataset files: /Users/alessandrogobbo/.cache/kagglehub/datasets/ratikkakkar/electric-vehicle-population-data/versions/1\n"
     ]
    }
   ],
   "source": [
    "import kagglehub\n",
    "\n",
    "# Download latest version\n",
    "path = kagglehub.dataset_download(\"ratikkakkar/electric-vehicle-population-data\")\n",
    "\n",
    "print(\"Path to dataset files:\", path)"
   ]
  },
  {
   "cell_type": "code",
   "execution_count": 22,
   "metadata": {},
   "outputs": [],
   "source": [
    "import polars as pl\n",
    "data = pl.read_csv(path+'/Electric_Vehicle_Population_Data.csv')"
   ]
  },
  {
   "cell_type": "code",
   "execution_count": null,
   "metadata": {},
   "outputs": [],
   "source": [
    "data.head()"
   ]
  },
  {
   "cell_type": "code",
   "execution_count": null,
   "metadata": {},
   "outputs": [],
   "source": [
    "data.describe()"
   ]
  },
  {
   "cell_type": "markdown",
   "metadata": {},
   "source": [
    "Elimino alcune colonne che non sono utili per l'analisi che sto eseguendo."
   ]
  },
  {
   "cell_type": "code",
   "execution_count": 23,
   "metadata": {},
   "outputs": [],
   "source": [
    "data = data.select(pl.exclude(['VIN (1-10)','Postal Code','Base MSRP','Legislative District','DOL Vehicle ID','Electric Utility','2020 Census Tract']))"
   ]
  },
  {
   "cell_type": "code",
   "execution_count": null,
   "metadata": {},
   "outputs": [],
   "source": [
    "data.head()"
   ]
  },
  {
   "cell_type": "markdown",
   "metadata": {},
   "source": [
    "Una volta eliminato le colonne che non risultavano utili al nostro fine, cominciamo ad eseguire delle analisi univariate."
   ]
  },
  {
   "cell_type": "code",
   "execution_count": null,
   "metadata": {},
   "outputs": [],
   "source": [
    "data.get_column('Clean Alternative Fuel Vehicle (CAFV) Eligibility').unique()"
   ]
  },
  {
   "cell_type": "code",
   "execution_count": null,
   "metadata": {},
   "outputs": [],
   "source": [
    "print(list(data.columns))"
   ]
  },
  {
   "cell_type": "markdown",
   "metadata": {},
   "source": [
    "A seguito di una veloce analisi noto che la colonna 'Clean Alternative Fuel Vehicle (CAFV) Eligibility' non mi è utile per questa analisi."
   ]
  },
  {
   "cell_type": "code",
   "execution_count": 24,
   "metadata": {},
   "outputs": [],
   "source": [
    "data = data.select(pl.exclude('Clean Alternative Fuel Vehicle (CAFV) Eligibility'))"
   ]
  },
  {
   "cell_type": "code",
   "execution_count": null,
   "metadata": {},
   "outputs": [],
   "source": []
  },
  {
   "cell_type": "code",
   "execution_count": null,
   "metadata": {},
   "outputs": [],
   "source": [
    "data.head()"
   ]
  },
  {
   "cell_type": "markdown",
   "metadata": {},
   "source": [
    "Ora che ho selezionato le colonne che mi sono utili allo scopo, posso cominciare l'analisi univariata.\n",
    "# ANALISI DELLE VARIABILI"
   ]
  },
  {
   "cell_type": "code",
   "execution_count": null,
   "metadata": {},
   "outputs": [],
   "source": [
    "#Numero di vendite in base all'anno \n",
    "(\n",
    "    data\n",
    "    .group_by('Model Year')\n",
    "    .agg(\n",
    "        tot_per_year = pl.col('Model Year').sum()\n",
    "    )\n",
    "    .sort(pl.col('Model Year'), descending=False)\n",
    ")"
   ]
  },
  {
   "cell_type": "code",
   "execution_count": null,
   "metadata": {},
   "outputs": [],
   "source": [
    "#Numero di vendite in base all'anno e marca\n",
    "(\n",
    "    data\n",
    "    .group_by('Model Year', 'Make')\n",
    "    .agg(\n",
    "        tot_per_year = pl.col('Model Year').sum()\n",
    "    )\n",
    "    .sort(pl.col('Model Year'))\n",
    ")"
   ]
  },
  {
   "cell_type": "code",
   "execution_count": null,
   "metadata": {},
   "outputs": [],
   "source": [
    "#Distribuzione del range di elettrico \n",
    "(\n",
    "    data\n",
    "    .group_by('Model Year', 'Make')\n",
    "    .agg(\n",
    "        max_range = pl.col('Electric Range').max(),\n",
    "        min_range = pl.col('Electric Range').min(),\n",
    "        mean_range = pl.col('Electric Range').mean()\n",
    "    )\n",
    "    .sort(pl.col('Model Year'))\n",
    ")"
   ]
  },
  {
   "cell_type": "markdown",
   "metadata": {},
   "source": [
    "Noto che alcune auto hanno valori nulli sul range di elettrico, quindi verranno succesivamente rimossi \n",
    "dal dataset quando si vorrà eseguire l'analisi dell'autonomia dell'elettrico."
   ]
  },
  {
   "cell_type": "code",
   "execution_count": null,
   "metadata": {},
   "outputs": [],
   "source": [
    "#Distribuzione del range di elettrico \n",
    "(\n",
    "    data\n",
    "    .group_by('Model Year', 'Make')\n",
    "    .agg(\n",
    "        max_range = pl.col('Electric Range').max(),\n",
    "        min_range = pl.col('Electric Range').min(),\n",
    "        mean_range = pl.col('Electric Range').mean()\n",
    "    )\n",
    "    .sort(pl.col('Model Year'))\n",
    ")"
   ]
  },
  {
   "cell_type": "markdown",
   "metadata": {},
   "source": [
    "Una volta eseguiti i vari controlli, si andrà a creare un file csv in cui si salveranno tutti i dati all'interno della cartella DATA"
   ]
  },
  {
   "cell_type": "code",
   "execution_count": null,
   "metadata": {},
   "outputs": [],
   "source": [
    "(\n",
    "    data\n",
    "    .group_by('Model Year')\n",
    "    .agg(\n",
    "        tot_per_year = pl.col('Model Year').count()\n",
    "    )\n",
    "    .sort(pl.col('Model Year'))\n",
    ")"
   ]
  },
  {
   "cell_type": "code",
   "execution_count": null,
   "metadata": {},
   "outputs": [],
   "source": [
    "(\n",
    "    data\n",
    "    .group_by('Model Year')\n",
    "    .agg(\n",
    "        tot_per_year = pl.col('Model Year').count()\n",
    "    )\n",
    "    .filter(pl.col('Model Year')<=2010)\n",
    "    .sort(pl.col('Model Year'))\n",
    ")"
   ]
  },
  {
   "cell_type": "code",
   "execution_count": null,
   "metadata": {},
   "outputs": [],
   "source": [
    "data = (\n",
    "    data\n",
    "    .filter(pl.col('Model Year')>2010)\n",
    ")\n"
   ]
  },
  {
   "cell_type": "code",
   "execution_count": null,
   "metadata": {},
   "outputs": [],
   "source": [
    "data.describe()"
   ]
  },
  {
   "cell_type": "code",
   "execution_count": null,
   "metadata": {},
   "outputs": [],
   "source": [
    "#data.write_csv('../DATA/data.csv')"
   ]
  },
  {
   "cell_type": "code",
   "execution_count": 7,
   "metadata": {},
   "outputs": [
    {
     "data": {
      "text/html": [
       "<div><style>\n",
       ".dataframe > thead > tr,\n",
       ".dataframe > tbody > tr {\n",
       "  text-align: right;\n",
       "  white-space: pre-wrap;\n",
       "}\n",
       "</style>\n",
       "<small>shape: (5, 1)</small><table border=\"1\" class=\"dataframe\"><thead><tr><th>Vehicle Location</th></tr><tr><td>str</td></tr></thead><tbody><tr><td>&quot;POINT&nbsp;(-81.80023&nbsp;24.5545)&quot;</td></tr><tr><td>&quot;POINT&nbsp;(-114.57245&nbsp;35.16815)&quot;</td></tr><tr><td>&quot;POINT&nbsp;(-120.50721&nbsp;46.60448)&quot;</td></tr><tr><td>&quot;POINT&nbsp;(-121.7515&nbsp;48.53892)&quot;</td></tr><tr><td>&quot;POINT&nbsp;(-122.20596&nbsp;47.97659)&quot;</td></tr></tbody></table></div>"
      ],
      "text/plain": [
       "shape: (5, 1)\n",
       "┌─────────────────────────────┐\n",
       "│ Vehicle Location            │\n",
       "│ ---                         │\n",
       "│ str                         │\n",
       "╞═════════════════════════════╡\n",
       "│ POINT (-81.80023 24.5545)   │\n",
       "│ POINT (-114.57245 35.16815) │\n",
       "│ POINT (-120.50721 46.60448) │\n",
       "│ POINT (-121.7515 48.53892)  │\n",
       "│ POINT (-122.20596 47.97659) │\n",
       "└─────────────────────────────┘"
      ]
     },
     "execution_count": 7,
     "metadata": {},
     "output_type": "execute_result"
    }
   ],
   "source": [
    "data.head()"
   ]
  },
  {
   "cell_type": "code",
   "execution_count": 25,
   "metadata": {},
   "outputs": [],
   "source": [
    "data_test = (\n",
    "        data.select(pl.col('Vehicle Location'), pl.col('Make'))\n",
    "    )"
   ]
  },
  {
   "cell_type": "code",
   "execution_count": 26,
   "metadata": {},
   "outputs": [
    {
     "data": {
      "text/html": [
       "<div><style>\n",
       ".dataframe > thead > tr,\n",
       ".dataframe > tbody > tr {\n",
       "  text-align: right;\n",
       "  white-space: pre-wrap;\n",
       "}\n",
       "</style>\n",
       "<small>shape: (5, 2)</small><table border=\"1\" class=\"dataframe\"><thead><tr><th>Vehicle Location</th><th>Make</th></tr><tr><td>str</td><td>str</td></tr></thead><tbody><tr><td>&quot;POINT&nbsp;(-81.80023&nbsp;24.5545)&quot;</td><td>&quot;TOYOTA&quot;</td></tr><tr><td>&quot;POINT&nbsp;(-114.57245&nbsp;35.16815)&quot;</td><td>&quot;CHEVROLET&quot;</td></tr><tr><td>&quot;POINT&nbsp;(-120.50721&nbsp;46.60448)&quot;</td><td>&quot;NISSAN&quot;</td></tr><tr><td>&quot;POINT&nbsp;(-121.7515&nbsp;48.53892)&quot;</td><td>&quot;CHEVROLET&quot;</td></tr><tr><td>&quot;POINT&nbsp;(-122.20596&nbsp;47.97659)&quot;</td><td>&quot;FORD&quot;</td></tr></tbody></table></div>"
      ],
      "text/plain": [
       "shape: (5, 2)\n",
       "┌─────────────────────────────┬───────────┐\n",
       "│ Vehicle Location            ┆ Make      │\n",
       "│ ---                         ┆ ---       │\n",
       "│ str                         ┆ str       │\n",
       "╞═════════════════════════════╪═══════════╡\n",
       "│ POINT (-81.80023 24.5545)   ┆ TOYOTA    │\n",
       "│ POINT (-114.57245 35.16815) ┆ CHEVROLET │\n",
       "│ POINT (-120.50721 46.60448) ┆ NISSAN    │\n",
       "│ POINT (-121.7515 48.53892)  ┆ CHEVROLET │\n",
       "│ POINT (-122.20596 47.97659) ┆ FORD      │\n",
       "└─────────────────────────────┴───────────┘"
      ]
     },
     "execution_count": 26,
     "metadata": {},
     "output_type": "execute_result"
    }
   ],
   "source": [
    "data_test.head()"
   ]
  },
  {
   "cell_type": "code",
   "execution_count": 27,
   "metadata": {},
   "outputs": [],
   "source": [
    "data_test = (\n",
    "    data_test\n",
    "    .filter(pl.col('Make') == 'TESLA')\n",
    ")"
   ]
  },
  {
   "cell_type": "code",
   "execution_count": null,
   "metadata": {},
   "outputs": [
    {
     "data": {
      "text/html": [
       "<div><style>\n",
       ".dataframe > thead > tr,\n",
       ".dataframe > tbody > tr {\n",
       "  text-align: right;\n",
       "  white-space: pre-wrap;\n",
       "}\n",
       "</style>\n",
       "<small>shape: (5, 2)</small><table border=\"1\" class=\"dataframe\"><thead><tr><th>Vehicle Location</th><th>Make</th></tr><tr><td>str</td><td>str</td></tr></thead><tbody><tr><td>&quot;POINT&nbsp;(-122.18384&nbsp;47.8031)&quot;</td><td>&quot;TESLA&quot;</td></tr><tr><td>&quot;POINT&nbsp;(-119.2771&nbsp;47.13196)&quot;</td><td>&quot;TESLA&quot;</td></tr><tr><td>&quot;POINT&nbsp;(-122.33029&nbsp;48.46846)&quot;</td><td>&quot;TESLA&quot;</td></tr><tr><td>&quot;POINT&nbsp;(-73.84643&nbsp;43.1284)&quot;</td><td>&quot;TESLA&quot;</td></tr><tr><td>&quot;POINT&nbsp;(-122.31768&nbsp;47.87166)&quot;</td><td>&quot;TESLA&quot;</td></tr></tbody></table></div>"
      ],
      "text/plain": [
       "shape: (5, 2)\n",
       "┌─────────────────────────────┬───────┐\n",
       "│ Vehicle Location            ┆ Make  │\n",
       "│ ---                         ┆ ---   │\n",
       "│ str                         ┆ str   │\n",
       "╞═════════════════════════════╪═══════╡\n",
       "│ POINT (-122.18384 47.8031)  ┆ TESLA │\n",
       "│ POINT (-119.2771 47.13196)  ┆ TESLA │\n",
       "│ POINT (-122.33029 48.46846) ┆ TESLA │\n",
       "│ POINT (-73.84643 43.1284)   ┆ TESLA │\n",
       "│ POINT (-122.31768 47.87166) ┆ TESLA │\n",
       "└─────────────────────────────┴───────┘"
      ]
     },
     "execution_count": 28,
     "metadata": {},
     "output_type": "execute_result"
    }
   ],
   "source": [
    "data_test.head()"
   ]
  },
  {
   "cell_type": "code",
   "execution_count": 33,
   "metadata": {},
   "outputs": [
    {
     "data": {
      "text/html": [
       "<div><style>\n",
       ".dataframe > thead > tr,\n",
       ".dataframe > tbody > tr {\n",
       "  text-align: right;\n",
       "  white-space: pre-wrap;\n",
       "}\n",
       "</style>\n",
       "<small>shape: (5, 1)</small><table border=\"1\" class=\"dataframe\"><thead><tr><th>Vehicle Location</th></tr><tr><td>str</td></tr></thead><tbody><tr><td>&quot;POINT&nbsp;(-122.18384&nbsp;47.8031)&quot;</td></tr><tr><td>&quot;POINT&nbsp;(-119.2771&nbsp;47.13196)&quot;</td></tr><tr><td>&quot;POINT&nbsp;(-122.33029&nbsp;48.46846)&quot;</td></tr><tr><td>&quot;POINT&nbsp;(-73.84643&nbsp;43.1284)&quot;</td></tr><tr><td>&quot;POINT&nbsp;(-122.31768&nbsp;47.87166)&quot;</td></tr></tbody></table></div>"
      ],
      "text/plain": [
       "shape: (5, 1)\n",
       "┌─────────────────────────────┐\n",
       "│ Vehicle Location            │\n",
       "│ ---                         │\n",
       "│ str                         │\n",
       "╞═════════════════════════════╡\n",
       "│ POINT (-122.18384 47.8031)  │\n",
       "│ POINT (-119.2771 47.13196)  │\n",
       "│ POINT (-122.33029 48.46846) │\n",
       "│ POINT (-73.84643 43.1284)   │\n",
       "│ POINT (-122.31768 47.87166) │\n",
       "└─────────────────────────────┘"
      ]
     },
     "execution_count": 33,
     "metadata": {},
     "output_type": "execute_result"
    }
   ],
   "source": [
    "data_test = data_test.select(pl.exclude('Make'))\n",
    "data_test.head()"
   ]
  },
  {
   "cell_type": "code",
   "execution_count": 76,
   "metadata": {},
   "outputs": [
    {
     "name": "stdout",
     "output_type": "stream",
     "text": [
      "lon    float64\n",
      "lat    float64\n",
      "dtype: object\n",
      "Index(['lon', 'lat'], dtype='object')\n",
      "         lon       lat\n",
      "0 -122.18384  47.80310\n",
      "1 -119.27710  47.13196\n",
      "2 -122.33029  48.46846\n",
      "3  -73.84643  43.12840\n",
      "4 -122.31768  47.87166\n"
     ]
    }
   ],
   "source": [
    "import re\n",
    "import pandas as pd\n",
    "\n",
    "coord_list = []\n",
    "for row in data_test.rows():\n",
    "    if row[0] is not None:\n",
    "        numb = re.findall(r'-?\\d+\\.\\d+|-?\\d+', row[0])\n",
    "        #print(numb)\n",
    "        coord = (float(numb[0]), float(numb[1]))\n",
    "        coord_list.append(coord)\n",
    "        #print(row[0])\n",
    "    \n",
    "#print(coord_list)\n",
    "#print(type(coord_list[0][0]))\n",
    "\n",
    "coord = pd.DataFrame(coord_list, columns=['lon', 'lat'])\n",
    "print(coord.dtypes)\n",
    "print(coord.columns)\n",
    "print(coord.head())"
   ]
  },
  {
   "cell_type": "code",
   "execution_count": null,
   "metadata": {},
   "outputs": [
    {
     "name": "stderr",
     "output_type": "stream",
     "text": [
      "2024-12-04 16:14:36.243 WARNING streamlit.runtime.scriptrunner_utils.script_run_context: Thread 'MainThread': missing ScriptRunContext! This warning can be ignored when running in bare mode.\n",
      "2024-12-04 16:14:37.246 Thread 'MainThread': missing ScriptRunContext! This warning can be ignored when running in bare mode.\n",
      "2024-12-04 16:14:37.289 \n",
      "  \u001b[33m\u001b[1mWarning:\u001b[0m to view this Streamlit app on a browser, run it with the following\n",
      "  command:\n",
      "\n",
      "    streamlit run /Users/alessandrogobbo/Documents/PROJECT_SE2/.venv/lib/python3.12/site-packages/ipykernel_launcher.py [ARGUMENTS]\n",
      "2024-12-04 16:14:37.292 Thread 'MainThread': missing ScriptRunContext! This warning can be ignored when running in bare mode.\n"
     ]
    },
    {
     "data": {
      "text/plain": [
       "DeltaGenerator()"
      ]
     },
     "execution_count": 73,
     "metadata": {},
     "output_type": "execute_result"
    }
   ],
   "source": [
    "import streamlit as st\n",
    "import pydeck as pdk\n",
    "\n",
    "coord_list = []\n",
    "\n",
    "data = (\n",
    "    data.select(pl.col('Vehicle Location'))\n",
    ")\n",
    "\n",
    "for row in data.rows():\n",
    "    if row[0] is not None:\n",
    "        numb = re.findall(r'\\d+\\.\\d+|\\d+', row[0])\n",
    "        coord = (float(numb[0]), float(numb[1]))\n",
    "        coord_list.append(coord)\n",
    "\n",
    "coord_chart = pd.DataFrame(coord_list, columns=['lat', 'lon'])\n",
    "\n",
    "st.pydeck_chart(\n",
    "    pdk.Deck(\n",
    "        map_style=None,\n",
    "        initial_view_state=pdk.ViewState(\n",
    "            latitude=122,\n",
    "            longitude=47,\n",
    "            zoom=11,\n",
    "            pitch=50,\n",
    "        ),\n",
    "        layers=[\n",
    "            pdk.Layer(\n",
    "                \"HexagonLayer\",\n",
    "                data=coord_chart,\n",
    "                get_position=\"[lon, lat]\",\n",
    "                radius=200,\n",
    "                elevation_scale=4,\n",
    "                elevation_range=[0, 1000],\n",
    "                pickable=True,\n",
    "                extruded=True,\n",
    "            ),\n",
    "            pdk.Layer(\n",
    "                \"ScatterplotLayer\",\n",
    "                data=coord_chart,\n",
    "                get_position=\"[lon, lat]\",\n",
    "                get_color=\"[200, 30, 0, 160]\",\n",
    "                get_radius=200,\n",
    "            ),\n",
    "        ],\n",
    "    )\n",
    ")"
   ]
  },
  {
   "cell_type": "code",
   "execution_count": null,
   "metadata": {},
   "outputs": [],
   "source": []
  }
 ],
 "metadata": {
  "kernelspec": {
   "display_name": ".venv",
   "language": "python",
   "name": "python3"
  },
  "language_info": {
   "codemirror_mode": {
    "name": "ipython",
    "version": 3
   },
   "file_extension": ".py",
   "mimetype": "text/x-python",
   "name": "python",
   "nbconvert_exporter": "python",
   "pygments_lexer": "ipython3",
   "version": "3.12.7"
  }
 },
 "nbformat": 4,
 "nbformat_minor": 2
}
