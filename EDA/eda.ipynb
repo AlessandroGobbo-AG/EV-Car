{
 "cells": [
  {
   "cell_type": "code",
   "execution_count": 31,
   "metadata": {},
   "outputs": [
    {
     "name": "stdout",
     "output_type": "stream",
     "text": [
      "Path to dataset files: /Users/alessandrogobbo/.cache/kagglehub/datasets/ratikkakkar/electric-vehicle-population-data/versions/1\n"
     ]
    }
   ],
   "source": [
    "import kagglehub\n",
    "\n",
    "# Download latest version\n",
    "path = kagglehub.dataset_download(\"ratikkakkar/electric-vehicle-population-data\")\n",
    "\n",
    "print(\"Path to dataset files:\", path)"
   ]
  },
  {
   "cell_type": "code",
   "execution_count": 32,
   "metadata": {},
   "outputs": [],
   "source": [
    "import polars as pl\n",
    "data = pl.read_csv(path+'/Electric_Vehicle_Population_Data.csv')"
   ]
  },
  {
   "cell_type": "code",
   "execution_count": 33,
   "metadata": {},
   "outputs": [
    {
     "data": {
      "text/html": [
       "<div><style>\n",
       ".dataframe > thead > tr,\n",
       ".dataframe > tbody > tr {\n",
       "  text-align: right;\n",
       "  white-space: pre-wrap;\n",
       "}\n",
       "</style>\n",
       "<small>shape: (5, 17)</small><table border=\"1\" class=\"dataframe\"><thead><tr><th>VIN (1-10)</th><th>County</th><th>City</th><th>State</th><th>Postal Code</th><th>Model Year</th><th>Make</th><th>Model</th><th>Electric Vehicle Type</th><th>Clean Alternative Fuel Vehicle (CAFV) Eligibility</th><th>Electric Range</th><th>Base MSRP</th><th>Legislative District</th><th>DOL Vehicle ID</th><th>Vehicle Location</th><th>Electric Utility</th><th>2020 Census Tract</th></tr><tr><td>str</td><td>str</td><td>str</td><td>str</td><td>i64</td><td>i64</td><td>str</td><td>str</td><td>str</td><td>str</td><td>i64</td><td>i64</td><td>i64</td><td>i64</td><td>str</td><td>str</td><td>i64</td></tr></thead><tbody><tr><td>&quot;JTMEB3FV6N&quot;</td><td>&quot;Monroe&quot;</td><td>&quot;Key&nbsp;West&quot;</td><td>&quot;FL&quot;</td><td>33040</td><td>2022</td><td>&quot;TOYOTA&quot;</td><td>&quot;RAV4&nbsp;PRIME&quot;</td><td>&quot;Plug-in&nbsp;Hybrid&nbsp;Electric&nbsp;Vehicl…</td><td>&quot;Clean&nbsp;Alternative&nbsp;Fuel&nbsp;Vehicle…</td><td>42</td><td>0</td><td>null</td><td>198968248</td><td>&quot;POINT&nbsp;(-81.80023&nbsp;24.5545)&quot;</td><td>null</td><td>12087972100</td></tr><tr><td>&quot;1G1RD6E45D&quot;</td><td>&quot;Clark&quot;</td><td>&quot;Laughlin&quot;</td><td>&quot;NV&quot;</td><td>89029</td><td>2013</td><td>&quot;CHEVROLET&quot;</td><td>&quot;VOLT&quot;</td><td>&quot;Plug-in&nbsp;Hybrid&nbsp;Electric&nbsp;Vehicl…</td><td>&quot;Clean&nbsp;Alternative&nbsp;Fuel&nbsp;Vehicle…</td><td>38</td><td>0</td><td>null</td><td>5204412</td><td>&quot;POINT&nbsp;(-114.57245&nbsp;35.16815)&quot;</td><td>null</td><td>32003005702</td></tr><tr><td>&quot;JN1AZ0CP8B&quot;</td><td>&quot;Yakima&quot;</td><td>&quot;Yakima&quot;</td><td>&quot;WA&quot;</td><td>98901</td><td>2011</td><td>&quot;NISSAN&quot;</td><td>&quot;LEAF&quot;</td><td>&quot;Battery&nbsp;Electric&nbsp;Vehicle&nbsp;(BEV)&quot;</td><td>&quot;Clean&nbsp;Alternative&nbsp;Fuel&nbsp;Vehicle…</td><td>73</td><td>0</td><td>15</td><td>218972519</td><td>&quot;POINT&nbsp;(-120.50721&nbsp;46.60448)&quot;</td><td>&quot;PACIFICORP&quot;</td><td>53077001602</td></tr><tr><td>&quot;1G1FW6S08H&quot;</td><td>&quot;Skagit&quot;</td><td>&quot;Concrete&quot;</td><td>&quot;WA&quot;</td><td>98237</td><td>2017</td><td>&quot;CHEVROLET&quot;</td><td>&quot;BOLT&nbsp;EV&quot;</td><td>&quot;Battery&nbsp;Electric&nbsp;Vehicle&nbsp;(BEV)&quot;</td><td>&quot;Clean&nbsp;Alternative&nbsp;Fuel&nbsp;Vehicle…</td><td>238</td><td>0</td><td>39</td><td>186750406</td><td>&quot;POINT&nbsp;(-121.7515&nbsp;48.53892)&quot;</td><td>&quot;PUGET&nbsp;SOUND&nbsp;ENERGY&nbsp;INC&quot;</td><td>53057951101</td></tr><tr><td>&quot;3FA6P0SU1K&quot;</td><td>&quot;Snohomish&quot;</td><td>&quot;Everett&quot;</td><td>&quot;WA&quot;</td><td>98201</td><td>2019</td><td>&quot;FORD&quot;</td><td>&quot;FUSION&quot;</td><td>&quot;Plug-in&nbsp;Hybrid&nbsp;Electric&nbsp;Vehicl…</td><td>&quot;Not&nbsp;eligible&nbsp;due&nbsp;to&nbsp;low&nbsp;batter…</td><td>26</td><td>0</td><td>38</td><td>2006714</td><td>&quot;POINT&nbsp;(-122.20596&nbsp;47.97659)&quot;</td><td>&quot;PUGET&nbsp;SOUND&nbsp;ENERGY&nbsp;INC&quot;</td><td>53061041500</td></tr></tbody></table></div>"
      ],
      "text/plain": [
       "shape: (5, 17)\n",
       "┌────────────┬───────────┬──────────┬───────┬───┬────────────┬────────────┬────────────┬───────────┐\n",
       "│ VIN (1-10) ┆ County    ┆ City     ┆ State ┆ … ┆ DOL        ┆ Vehicle    ┆ Electric   ┆ 2020      │\n",
       "│ ---        ┆ ---       ┆ ---      ┆ ---   ┆   ┆ Vehicle ID ┆ Location   ┆ Utility    ┆ Census    │\n",
       "│ str        ┆ str       ┆ str      ┆ str   ┆   ┆ ---        ┆ ---        ┆ ---        ┆ Tract     │\n",
       "│            ┆           ┆          ┆       ┆   ┆ i64        ┆ str        ┆ str        ┆ ---       │\n",
       "│            ┆           ┆          ┆       ┆   ┆            ┆            ┆            ┆ i64       │\n",
       "╞════════════╪═══════════╪══════════╪═══════╪═══╪════════════╪════════════╪════════════╪═══════════╡\n",
       "│ JTMEB3FV6N ┆ Monroe    ┆ Key West ┆ FL    ┆ … ┆ 198968248  ┆ POINT      ┆ null       ┆ 120879721 │\n",
       "│            ┆           ┆          ┆       ┆   ┆            ┆ (-81.80023 ┆            ┆ 00        │\n",
       "│            ┆           ┆          ┆       ┆   ┆            ┆ 24.5545)   ┆            ┆           │\n",
       "│ 1G1RD6E45D ┆ Clark     ┆ Laughlin ┆ NV    ┆ … ┆ 5204412    ┆ POINT (-11 ┆ null       ┆ 320030057 │\n",
       "│            ┆           ┆          ┆       ┆   ┆            ┆ 4.57245    ┆            ┆ 02        │\n",
       "│            ┆           ┆          ┆       ┆   ┆            ┆ 35.16815)  ┆            ┆           │\n",
       "│ JN1AZ0CP8B ┆ Yakima    ┆ Yakima   ┆ WA    ┆ … ┆ 218972519  ┆ POINT (-12 ┆ PACIFICORP ┆ 530770016 │\n",
       "│            ┆           ┆          ┆       ┆   ┆            ┆ 0.50721    ┆            ┆ 02        │\n",
       "│            ┆           ┆          ┆       ┆   ┆            ┆ 46.60448)  ┆            ┆           │\n",
       "│ 1G1FW6S08H ┆ Skagit    ┆ Concrete ┆ WA    ┆ … ┆ 186750406  ┆ POINT      ┆ PUGET      ┆ 530579511 │\n",
       "│            ┆           ┆          ┆       ┆   ┆            ┆ (-121.7515 ┆ SOUND      ┆ 01        │\n",
       "│            ┆           ┆          ┆       ┆   ┆            ┆ 48.53892)  ┆ ENERGY INC ┆           │\n",
       "│ 3FA6P0SU1K ┆ Snohomish ┆ Everett  ┆ WA    ┆ … ┆ 2006714    ┆ POINT (-12 ┆ PUGET      ┆ 530610415 │\n",
       "│            ┆           ┆          ┆       ┆   ┆            ┆ 2.20596    ┆ SOUND      ┆ 00        │\n",
       "│            ┆           ┆          ┆       ┆   ┆            ┆ 47.97659)  ┆ ENERGY INC ┆           │\n",
       "└────────────┴───────────┴──────────┴───────┴───┴────────────┴────────────┴────────────┴───────────┘"
      ]
     },
     "execution_count": 33,
     "metadata": {},
     "output_type": "execute_result"
    }
   ],
   "source": [
    "data.head()"
   ]
  },
  {
   "cell_type": "code",
   "execution_count": 34,
   "metadata": {},
   "outputs": [
    {
     "data": {
      "text/html": [
       "<div><style>\n",
       ".dataframe > thead > tr,\n",
       ".dataframe > tbody > tr {\n",
       "  text-align: right;\n",
       "  white-space: pre-wrap;\n",
       "}\n",
       "</style>\n",
       "<small>shape: (9, 18)</small><table border=\"1\" class=\"dataframe\"><thead><tr><th>statistic</th><th>VIN (1-10)</th><th>County</th><th>City</th><th>State</th><th>Postal Code</th><th>Model Year</th><th>Make</th><th>Model</th><th>Electric Vehicle Type</th><th>Clean Alternative Fuel Vehicle (CAFV) Eligibility</th><th>Electric Range</th><th>Base MSRP</th><th>Legislative District</th><th>DOL Vehicle ID</th><th>Vehicle Location</th><th>Electric Utility</th><th>2020 Census Tract</th></tr><tr><td>str</td><td>str</td><td>str</td><td>str</td><td>str</td><td>f64</td><td>f64</td><td>str</td><td>str</td><td>str</td><td>str</td><td>f64</td><td>f64</td><td>f64</td><td>f64</td><td>str</td><td>str</td><td>f64</td></tr></thead><tbody><tr><td>&quot;count&quot;</td><td>&quot;112634&quot;</td><td>&quot;112634&quot;</td><td>&quot;112634&quot;</td><td>&quot;112634&quot;</td><td>112634.0</td><td>112634.0</td><td>&quot;112634&quot;</td><td>&quot;112614&quot;</td><td>&quot;112634&quot;</td><td>&quot;112634&quot;</td><td>112634.0</td><td>112634.0</td><td>112348.0</td><td>112634.0</td><td>&quot;112610&quot;</td><td>&quot;112191&quot;</td><td>112634.0</td></tr><tr><td>&quot;null_count&quot;</td><td>&quot;0&quot;</td><td>&quot;0&quot;</td><td>&quot;0&quot;</td><td>&quot;0&quot;</td><td>0.0</td><td>0.0</td><td>&quot;0&quot;</td><td>&quot;20&quot;</td><td>&quot;0&quot;</td><td>&quot;0&quot;</td><td>0.0</td><td>0.0</td><td>286.0</td><td>0.0</td><td>&quot;24&quot;</td><td>&quot;443&quot;</td><td>0.0</td></tr><tr><td>&quot;mean&quot;</td><td>null</td><td>null</td><td>null</td><td>null</td><td>98156.22685</td><td>2019.003365</td><td>null</td><td>null</td><td>null</td><td>null</td><td>87.812987</td><td>1793.439681</td><td>29.805604</td><td>1.9946e8</td><td>null</td><td>null</td><td>5.2966e10</td></tr><tr><td>&quot;std&quot;</td><td>null</td><td>null</td><td>null</td><td>null</td><td>2648.733064</td><td>2.892364</td><td>null</td><td>null</td><td>null</td><td>null</td><td>102.334216</td><td>10783.753486</td><td>14.700545</td><td>9.3984e7</td><td>null</td><td>null</td><td>1.6991e9</td></tr><tr><td>&quot;min&quot;</td><td>&quot;1C4JJXP60M&quot;</td><td>&quot;Adams&quot;</td><td>&quot;Aberdeen&quot;</td><td>&quot;AK&quot;</td><td>1730.0</td><td>1997.0</td><td>&quot;AUDI&quot;</td><td>&quot;330E&quot;</td><td>&quot;Battery&nbsp;Electric&nbsp;Vehicle&nbsp;(BEV)&quot;</td><td>&quot;Clean&nbsp;Alternative&nbsp;Fuel&nbsp;Vehicle…</td><td>0.0</td><td>0.0</td><td>1.0</td><td>4777.0</td><td>&quot;POINT&nbsp;(-102.69968&nbsp;22.95716)&quot;</td><td>&quot;AVISTA&nbsp;CORP&quot;</td><td>1.1010e9</td></tr><tr><td>&quot;25%&quot;</td><td>null</td><td>null</td><td>null</td><td>null</td><td>98052.0</td><td>2017.0</td><td>null</td><td>null</td><td>null</td><td>null</td><td>0.0</td><td>0.0</td><td>18.0</td><td>1.48414066e8</td><td>null</td><td>null</td><td>5.3033e10</td></tr><tr><td>&quot;50%&quot;</td><td>null</td><td>null</td><td>null</td><td>null</td><td>98119.0</td><td>2020.0</td><td>null</td><td>null</td><td>null</td><td>null</td><td>32.0</td><td>0.0</td><td>34.0</td><td>1.92389627e8</td><td>null</td><td>null</td><td>5.3033e10</td></tr><tr><td>&quot;75%&quot;</td><td>null</td><td>null</td><td>null</td><td>null</td><td>98370.0</td><td>2022.0</td><td>null</td><td>null</td><td>null</td><td>null</td><td>208.0</td><td>0.0</td><td>43.0</td><td>2.1918989e8</td><td>null</td><td>null</td><td>5.3053e10</td></tr><tr><td>&quot;max&quot;</td><td>&quot;YV4H60DZ9N&quot;</td><td>&quot;Yakima&quot;</td><td>&quot;Zillah&quot;</td><td>&quot;WY&quot;</td><td>99701.0</td><td>2023.0</td><td>&quot;VOLVO&quot;</td><td>&quot;XC90&quot;</td><td>&quot;Plug-in&nbsp;Hybrid&nbsp;Electric&nbsp;Vehicl…</td><td>&quot;Not&nbsp;eligible&nbsp;due&nbsp;to&nbsp;low&nbsp;batter…</td><td>337.0</td><td>845000.0</td><td>49.0</td><td>4.79254772e8</td><td>&quot;POINT&nbsp;(7.86484&nbsp;51.32975)&quot;</td><td>&quot;PUGET&nbsp;SOUND&nbsp;ENERGY&nbsp;INC||PUD&nbsp;NO…</td><td>5.6033e10</td></tr></tbody></table></div>"
      ],
      "text/plain": [
       "shape: (9, 18)\n",
       "┌────────────┬────────────┬────────┬──────────┬───┬────────────┬───────────┬───────────┬───────────┐\n",
       "│ statistic  ┆ VIN (1-10) ┆ County ┆ City     ┆ … ┆ DOL        ┆ Vehicle   ┆ Electric  ┆ 2020      │\n",
       "│ ---        ┆ ---        ┆ ---    ┆ ---      ┆   ┆ Vehicle ID ┆ Location  ┆ Utility   ┆ Census    │\n",
       "│ str        ┆ str        ┆ str    ┆ str      ┆   ┆ ---        ┆ ---       ┆ ---       ┆ Tract     │\n",
       "│            ┆            ┆        ┆          ┆   ┆ f64        ┆ str       ┆ str       ┆ ---       │\n",
       "│            ┆            ┆        ┆          ┆   ┆            ┆           ┆           ┆ f64       │\n",
       "╞════════════╪════════════╪════════╪══════════╪═══╪════════════╪═══════════╪═══════════╪═══════════╡\n",
       "│ count      ┆ 112634     ┆ 112634 ┆ 112634   ┆ … ┆ 112634.0   ┆ 112610    ┆ 112191    ┆ 112634.0  │\n",
       "│ null_count ┆ 0          ┆ 0      ┆ 0        ┆ … ┆ 0.0        ┆ 24        ┆ 443       ┆ 0.0       │\n",
       "│ mean       ┆ null       ┆ null   ┆ null     ┆ … ┆ 1.9946e8   ┆ null      ┆ null      ┆ 5.2966e10 │\n",
       "│ std        ┆ null       ┆ null   ┆ null     ┆ … ┆ 9.3984e7   ┆ null      ┆ null      ┆ 1.6991e9  │\n",
       "│ min        ┆ 1C4JJXP60M ┆ Adams  ┆ Aberdeen ┆ … ┆ 4777.0     ┆ POINT (-1 ┆ AVISTA    ┆ 1.1010e9  │\n",
       "│            ┆            ┆        ┆          ┆   ┆            ┆ 02.69968  ┆ CORP      ┆           │\n",
       "│            ┆            ┆        ┆          ┆   ┆            ┆ 22.95716) ┆           ┆           │\n",
       "│ 25%        ┆ null       ┆ null   ┆ null     ┆ … ┆ 1.48414066 ┆ null      ┆ null      ┆ 5.3033e10 │\n",
       "│            ┆            ┆        ┆          ┆   ┆ e8         ┆           ┆           ┆           │\n",
       "│ 50%        ┆ null       ┆ null   ┆ null     ┆ … ┆ 1.92389627 ┆ null      ┆ null      ┆ 5.3033e10 │\n",
       "│            ┆            ┆        ┆          ┆   ┆ e8         ┆           ┆           ┆           │\n",
       "│ 75%        ┆ null       ┆ null   ┆ null     ┆ … ┆ 2.1918989e ┆ null      ┆ null      ┆ 5.3053e10 │\n",
       "│            ┆            ┆        ┆          ┆   ┆ 8          ┆           ┆           ┆           │\n",
       "│ max        ┆ YV4H60DZ9N ┆ Yakima ┆ Zillah   ┆ … ┆ 4.79254772 ┆ POINT     ┆ PUGET     ┆ 5.6033e10 │\n",
       "│            ┆            ┆        ┆          ┆   ┆ e8         ┆ (7.86484  ┆ SOUND     ┆           │\n",
       "│            ┆            ┆        ┆          ┆   ┆            ┆ 51.32975) ┆ ENERGY    ┆           │\n",
       "│            ┆            ┆        ┆          ┆   ┆            ┆           ┆ INC||PUD  ┆           │\n",
       "│            ┆            ┆        ┆          ┆   ┆            ┆           ┆ NO…       ┆           │\n",
       "└────────────┴────────────┴────────┴──────────┴───┴────────────┴───────────┴───────────┴───────────┘"
      ]
     },
     "execution_count": 34,
     "metadata": {},
     "output_type": "execute_result"
    }
   ],
   "source": [
    "data.describe()"
   ]
  },
  {
   "cell_type": "markdown",
   "metadata": {},
   "source": [
    "Elimino alcune colonne che non sono utili per l'analisi che sto eseguendo."
   ]
  },
  {
   "cell_type": "code",
   "execution_count": 35,
   "metadata": {},
   "outputs": [],
   "source": [
    "data = data.select(pl.exclude(['VIN (1-10)','Postal Code','Base MSRP','Legislative District','DOL Vehicle ID','Electric Utility','2020 Census Tract']))"
   ]
  },
  {
   "cell_type": "code",
   "execution_count": 36,
   "metadata": {},
   "outputs": [
    {
     "data": {
      "text/html": [
       "<div><style>\n",
       ".dataframe > thead > tr,\n",
       ".dataframe > tbody > tr {\n",
       "  text-align: right;\n",
       "  white-space: pre-wrap;\n",
       "}\n",
       "</style>\n",
       "<small>shape: (5, 10)</small><table border=\"1\" class=\"dataframe\"><thead><tr><th>County</th><th>City</th><th>State</th><th>Model Year</th><th>Make</th><th>Model</th><th>Electric Vehicle Type</th><th>Clean Alternative Fuel Vehicle (CAFV) Eligibility</th><th>Electric Range</th><th>Vehicle Location</th></tr><tr><td>str</td><td>str</td><td>str</td><td>i64</td><td>str</td><td>str</td><td>str</td><td>str</td><td>i64</td><td>str</td></tr></thead><tbody><tr><td>&quot;Monroe&quot;</td><td>&quot;Key&nbsp;West&quot;</td><td>&quot;FL&quot;</td><td>2022</td><td>&quot;TOYOTA&quot;</td><td>&quot;RAV4&nbsp;PRIME&quot;</td><td>&quot;Plug-in&nbsp;Hybrid&nbsp;Electric&nbsp;Vehicl…</td><td>&quot;Clean&nbsp;Alternative&nbsp;Fuel&nbsp;Vehicle…</td><td>42</td><td>&quot;POINT&nbsp;(-81.80023&nbsp;24.5545)&quot;</td></tr><tr><td>&quot;Clark&quot;</td><td>&quot;Laughlin&quot;</td><td>&quot;NV&quot;</td><td>2013</td><td>&quot;CHEVROLET&quot;</td><td>&quot;VOLT&quot;</td><td>&quot;Plug-in&nbsp;Hybrid&nbsp;Electric&nbsp;Vehicl…</td><td>&quot;Clean&nbsp;Alternative&nbsp;Fuel&nbsp;Vehicle…</td><td>38</td><td>&quot;POINT&nbsp;(-114.57245&nbsp;35.16815)&quot;</td></tr><tr><td>&quot;Yakima&quot;</td><td>&quot;Yakima&quot;</td><td>&quot;WA&quot;</td><td>2011</td><td>&quot;NISSAN&quot;</td><td>&quot;LEAF&quot;</td><td>&quot;Battery&nbsp;Electric&nbsp;Vehicle&nbsp;(BEV)&quot;</td><td>&quot;Clean&nbsp;Alternative&nbsp;Fuel&nbsp;Vehicle…</td><td>73</td><td>&quot;POINT&nbsp;(-120.50721&nbsp;46.60448)&quot;</td></tr><tr><td>&quot;Skagit&quot;</td><td>&quot;Concrete&quot;</td><td>&quot;WA&quot;</td><td>2017</td><td>&quot;CHEVROLET&quot;</td><td>&quot;BOLT&nbsp;EV&quot;</td><td>&quot;Battery&nbsp;Electric&nbsp;Vehicle&nbsp;(BEV)&quot;</td><td>&quot;Clean&nbsp;Alternative&nbsp;Fuel&nbsp;Vehicle…</td><td>238</td><td>&quot;POINT&nbsp;(-121.7515&nbsp;48.53892)&quot;</td></tr><tr><td>&quot;Snohomish&quot;</td><td>&quot;Everett&quot;</td><td>&quot;WA&quot;</td><td>2019</td><td>&quot;FORD&quot;</td><td>&quot;FUSION&quot;</td><td>&quot;Plug-in&nbsp;Hybrid&nbsp;Electric&nbsp;Vehicl…</td><td>&quot;Not&nbsp;eligible&nbsp;due&nbsp;to&nbsp;low&nbsp;batter…</td><td>26</td><td>&quot;POINT&nbsp;(-122.20596&nbsp;47.97659)&quot;</td></tr></tbody></table></div>"
      ],
      "text/plain": [
       "shape: (5, 10)\n",
       "┌───────────┬──────────┬───────┬───────┬───┬──────────┬───────────────────┬──────────┬─────────────┐\n",
       "│ County    ┆ City     ┆ State ┆ Model ┆ … ┆ Electric ┆ Clean Alternative ┆ Electric ┆ Vehicle     │\n",
       "│ ---       ┆ ---      ┆ ---   ┆ Year  ┆   ┆ Vehicle  ┆ Fuel Vehicle…     ┆ Range    ┆ Location    │\n",
       "│ str       ┆ str      ┆ str   ┆ ---   ┆   ┆ Type     ┆ ---               ┆ ---      ┆ ---         │\n",
       "│           ┆          ┆       ┆ i64   ┆   ┆ ---      ┆ str               ┆ i64      ┆ str         │\n",
       "│           ┆          ┆       ┆       ┆   ┆ str      ┆                   ┆          ┆             │\n",
       "╞═══════════╪══════════╪═══════╪═══════╪═══╪══════════╪═══════════════════╪══════════╪═════════════╡\n",
       "│ Monroe    ┆ Key West ┆ FL    ┆ 2022  ┆ … ┆ Plug-in  ┆ Clean Alternative ┆ 42       ┆ POINT       │\n",
       "│           ┆          ┆       ┆       ┆   ┆ Hybrid   ┆ Fuel Vehicle…     ┆          ┆ (-81.80023  │\n",
       "│           ┆          ┆       ┆       ┆   ┆ Electric ┆                   ┆          ┆ 24.5545)    │\n",
       "│           ┆          ┆       ┆       ┆   ┆ Vehicl…  ┆                   ┆          ┆             │\n",
       "│ Clark     ┆ Laughlin ┆ NV    ┆ 2013  ┆ … ┆ Plug-in  ┆ Clean Alternative ┆ 38       ┆ POINT       │\n",
       "│           ┆          ┆       ┆       ┆   ┆ Hybrid   ┆ Fuel Vehicle…     ┆          ┆ (-114.57245 │\n",
       "│           ┆          ┆       ┆       ┆   ┆ Electric ┆                   ┆          ┆ 35.16815)   │\n",
       "│           ┆          ┆       ┆       ┆   ┆ Vehicl…  ┆                   ┆          ┆             │\n",
       "│ Yakima    ┆ Yakima   ┆ WA    ┆ 2011  ┆ … ┆ Battery  ┆ Clean Alternative ┆ 73       ┆ POINT       │\n",
       "│           ┆          ┆       ┆       ┆   ┆ Electric ┆ Fuel Vehicle…     ┆          ┆ (-120.50721 │\n",
       "│           ┆          ┆       ┆       ┆   ┆ Vehicle  ┆                   ┆          ┆ 46.60448)   │\n",
       "│           ┆          ┆       ┆       ┆   ┆ (BEV)    ┆                   ┆          ┆             │\n",
       "│ Skagit    ┆ Concrete ┆ WA    ┆ 2017  ┆ … ┆ Battery  ┆ Clean Alternative ┆ 238      ┆ POINT       │\n",
       "│           ┆          ┆       ┆       ┆   ┆ Electric ┆ Fuel Vehicle…     ┆          ┆ (-121.7515  │\n",
       "│           ┆          ┆       ┆       ┆   ┆ Vehicle  ┆                   ┆          ┆ 48.53892)   │\n",
       "│           ┆          ┆       ┆       ┆   ┆ (BEV)    ┆                   ┆          ┆             │\n",
       "│ Snohomish ┆ Everett  ┆ WA    ┆ 2019  ┆ … ┆ Plug-in  ┆ Not eligible due  ┆ 26       ┆ POINT       │\n",
       "│           ┆          ┆       ┆       ┆   ┆ Hybrid   ┆ to low batter…    ┆          ┆ (-122.20596 │\n",
       "│           ┆          ┆       ┆       ┆   ┆ Electric ┆                   ┆          ┆ 47.97659)   │\n",
       "│           ┆          ┆       ┆       ┆   ┆ Vehicl…  ┆                   ┆          ┆             │\n",
       "└───────────┴──────────┴───────┴───────┴───┴──────────┴───────────────────┴──────────┴─────────────┘"
      ]
     },
     "execution_count": 36,
     "metadata": {},
     "output_type": "execute_result"
    }
   ],
   "source": [
    "data.head()"
   ]
  },
  {
   "cell_type": "markdown",
   "metadata": {},
   "source": [
    "Una volta eliminato le colonne che non risultavano utili al nostro fine, cominciamo ad eseguire delle analisi univariate."
   ]
  },
  {
   "cell_type": "code",
   "execution_count": 37,
   "metadata": {},
   "outputs": [
    {
     "data": {
      "text/html": [
       "<div><style>\n",
       ".dataframe > thead > tr,\n",
       ".dataframe > tbody > tr {\n",
       "  text-align: right;\n",
       "  white-space: pre-wrap;\n",
       "}\n",
       "</style>\n",
       "<small>shape: (3,)</small><table border=\"1\" class=\"dataframe\"><thead><tr><th>Clean Alternative Fuel Vehicle (CAFV) Eligibility</th></tr><tr><td>str</td></tr></thead><tbody><tr><td>&quot;Clean&nbsp;Alternative&nbsp;Fuel&nbsp;Vehicle…</td></tr><tr><td>&quot;Not&nbsp;eligible&nbsp;due&nbsp;to&nbsp;low&nbsp;batter…</td></tr><tr><td>&quot;Eligibility&nbsp;unknown&nbsp;as&nbsp;battery…</td></tr></tbody></table></div>"
      ],
      "text/plain": [
       "shape: (3,)\n",
       "Series: 'Clean Alternative Fuel Vehicle (CAFV) Eligibility' [str]\n",
       "[\n",
       "\t\"Clean Alternative Fuel Vehicle…\n",
       "\t\"Not eligible due to low batter…\n",
       "\t\"Eligibility unknown as battery…\n",
       "]"
      ]
     },
     "execution_count": 37,
     "metadata": {},
     "output_type": "execute_result"
    }
   ],
   "source": [
    "data.get_column('Clean Alternative Fuel Vehicle (CAFV) Eligibility').unique()"
   ]
  },
  {
   "cell_type": "code",
   "execution_count": 38,
   "metadata": {},
   "outputs": [
    {
     "name": "stdout",
     "output_type": "stream",
     "text": [
      "['County', 'City', 'State', 'Model Year', 'Make', 'Model', 'Electric Vehicle Type', 'Clean Alternative Fuel Vehicle (CAFV) Eligibility', 'Electric Range', 'Vehicle Location']\n"
     ]
    }
   ],
   "source": [
    "print(list(data.columns))"
   ]
  },
  {
   "cell_type": "markdown",
   "metadata": {},
   "source": [
    "A seguito di una veloce analisi noto che la colonna 'Clean Alternative Fuel Vehicle (CAFV) Eligibility' non mi è utile per questa analisi."
   ]
  },
  {
   "cell_type": "code",
   "execution_count": 39,
   "metadata": {},
   "outputs": [],
   "source": [
    "data = data.select(pl.exclude('Clean Alternative Fuel Vehicle (CAFV) Eligibility'))"
   ]
  },
  {
   "cell_type": "code",
   "execution_count": 40,
   "metadata": {},
   "outputs": [
    {
     "data": {
      "text/html": [
       "<div><style>\n",
       ".dataframe > thead > tr,\n",
       ".dataframe > tbody > tr {\n",
       "  text-align: right;\n",
       "  white-space: pre-wrap;\n",
       "}\n",
       "</style>\n",
       "<small>shape: (5, 9)</small><table border=\"1\" class=\"dataframe\"><thead><tr><th>County</th><th>City</th><th>State</th><th>Model Year</th><th>Make</th><th>Model</th><th>Electric Vehicle Type</th><th>Electric Range</th><th>Vehicle Location</th></tr><tr><td>str</td><td>str</td><td>str</td><td>i64</td><td>str</td><td>str</td><td>str</td><td>i64</td><td>str</td></tr></thead><tbody><tr><td>&quot;Monroe&quot;</td><td>&quot;Key&nbsp;West&quot;</td><td>&quot;FL&quot;</td><td>2022</td><td>&quot;TOYOTA&quot;</td><td>&quot;RAV4&nbsp;PRIME&quot;</td><td>&quot;Plug-in&nbsp;Hybrid&nbsp;Electric&nbsp;Vehicl…</td><td>42</td><td>&quot;POINT&nbsp;(-81.80023&nbsp;24.5545)&quot;</td></tr><tr><td>&quot;Clark&quot;</td><td>&quot;Laughlin&quot;</td><td>&quot;NV&quot;</td><td>2013</td><td>&quot;CHEVROLET&quot;</td><td>&quot;VOLT&quot;</td><td>&quot;Plug-in&nbsp;Hybrid&nbsp;Electric&nbsp;Vehicl…</td><td>38</td><td>&quot;POINT&nbsp;(-114.57245&nbsp;35.16815)&quot;</td></tr><tr><td>&quot;Yakima&quot;</td><td>&quot;Yakima&quot;</td><td>&quot;WA&quot;</td><td>2011</td><td>&quot;NISSAN&quot;</td><td>&quot;LEAF&quot;</td><td>&quot;Battery&nbsp;Electric&nbsp;Vehicle&nbsp;(BEV)&quot;</td><td>73</td><td>&quot;POINT&nbsp;(-120.50721&nbsp;46.60448)&quot;</td></tr><tr><td>&quot;Skagit&quot;</td><td>&quot;Concrete&quot;</td><td>&quot;WA&quot;</td><td>2017</td><td>&quot;CHEVROLET&quot;</td><td>&quot;BOLT&nbsp;EV&quot;</td><td>&quot;Battery&nbsp;Electric&nbsp;Vehicle&nbsp;(BEV)&quot;</td><td>238</td><td>&quot;POINT&nbsp;(-121.7515&nbsp;48.53892)&quot;</td></tr><tr><td>&quot;Snohomish&quot;</td><td>&quot;Everett&quot;</td><td>&quot;WA&quot;</td><td>2019</td><td>&quot;FORD&quot;</td><td>&quot;FUSION&quot;</td><td>&quot;Plug-in&nbsp;Hybrid&nbsp;Electric&nbsp;Vehicl…</td><td>26</td><td>&quot;POINT&nbsp;(-122.20596&nbsp;47.97659)&quot;</td></tr></tbody></table></div>"
      ],
      "text/plain": [
       "shape: (5, 9)\n",
       "┌───────────┬──────────┬───────┬───────┬───┬────────────┬──────────┬──────────┬─────────────┐\n",
       "│ County    ┆ City     ┆ State ┆ Model ┆ … ┆ Model      ┆ Electric ┆ Electric ┆ Vehicle     │\n",
       "│ ---       ┆ ---      ┆ ---   ┆ Year  ┆   ┆ ---        ┆ Vehicle  ┆ Range    ┆ Location    │\n",
       "│ str       ┆ str      ┆ str   ┆ ---   ┆   ┆ str        ┆ Type     ┆ ---      ┆ ---         │\n",
       "│           ┆          ┆       ┆ i64   ┆   ┆            ┆ ---      ┆ i64      ┆ str         │\n",
       "│           ┆          ┆       ┆       ┆   ┆            ┆ str      ┆          ┆             │\n",
       "╞═══════════╪══════════╪═══════╪═══════╪═══╪════════════╪══════════╪══════════╪═════════════╡\n",
       "│ Monroe    ┆ Key West ┆ FL    ┆ 2022  ┆ … ┆ RAV4 PRIME ┆ Plug-in  ┆ 42       ┆ POINT       │\n",
       "│           ┆          ┆       ┆       ┆   ┆            ┆ Hybrid   ┆          ┆ (-81.80023  │\n",
       "│           ┆          ┆       ┆       ┆   ┆            ┆ Electric ┆          ┆ 24.5545)    │\n",
       "│           ┆          ┆       ┆       ┆   ┆            ┆ Vehicl…  ┆          ┆             │\n",
       "│ Clark     ┆ Laughlin ┆ NV    ┆ 2013  ┆ … ┆ VOLT       ┆ Plug-in  ┆ 38       ┆ POINT       │\n",
       "│           ┆          ┆       ┆       ┆   ┆            ┆ Hybrid   ┆          ┆ (-114.57245 │\n",
       "│           ┆          ┆       ┆       ┆   ┆            ┆ Electric ┆          ┆ 35.16815)   │\n",
       "│           ┆          ┆       ┆       ┆   ┆            ┆ Vehicl…  ┆          ┆             │\n",
       "│ Yakima    ┆ Yakima   ┆ WA    ┆ 2011  ┆ … ┆ LEAF       ┆ Battery  ┆ 73       ┆ POINT       │\n",
       "│           ┆          ┆       ┆       ┆   ┆            ┆ Electric ┆          ┆ (-120.50721 │\n",
       "│           ┆          ┆       ┆       ┆   ┆            ┆ Vehicle  ┆          ┆ 46.60448)   │\n",
       "│           ┆          ┆       ┆       ┆   ┆            ┆ (BEV)    ┆          ┆             │\n",
       "│ Skagit    ┆ Concrete ┆ WA    ┆ 2017  ┆ … ┆ BOLT EV    ┆ Battery  ┆ 238      ┆ POINT       │\n",
       "│           ┆          ┆       ┆       ┆   ┆            ┆ Electric ┆          ┆ (-121.7515  │\n",
       "│           ┆          ┆       ┆       ┆   ┆            ┆ Vehicle  ┆          ┆ 48.53892)   │\n",
       "│           ┆          ┆       ┆       ┆   ┆            ┆ (BEV)    ┆          ┆             │\n",
       "│ Snohomish ┆ Everett  ┆ WA    ┆ 2019  ┆ … ┆ FUSION     ┆ Plug-in  ┆ 26       ┆ POINT       │\n",
       "│           ┆          ┆       ┆       ┆   ┆            ┆ Hybrid   ┆          ┆ (-122.20596 │\n",
       "│           ┆          ┆       ┆       ┆   ┆            ┆ Electric ┆          ┆ 47.97659)   │\n",
       "│           ┆          ┆       ┆       ┆   ┆            ┆ Vehicl…  ┆          ┆             │\n",
       "└───────────┴──────────┴───────┴───────┴───┴────────────┴──────────┴──────────┴─────────────┘"
      ]
     },
     "execution_count": 40,
     "metadata": {},
     "output_type": "execute_result"
    }
   ],
   "source": [
    "data.head()"
   ]
  },
  {
   "cell_type": "markdown",
   "metadata": {},
   "source": [
    "Ora che ho selezionato le colonne che mi sono utili allo scopo, posso cominciare l'analisi univariata.\n",
    "# ANALISI DELLE VARIABILI"
   ]
  },
  {
   "cell_type": "code",
   "execution_count": 41,
   "metadata": {},
   "outputs": [
    {
     "data": {
      "text/html": [
       "<div><style>\n",
       ".dataframe > thead > tr,\n",
       ".dataframe > tbody > tr {\n",
       "  text-align: right;\n",
       "  white-space: pre-wrap;\n",
       "}\n",
       "</style>\n",
       "<small>shape: (20, 2)</small><table border=\"1\" class=\"dataframe\"><thead><tr><th>Model Year</th><th>tot_per_year</th></tr><tr><td>i64</td><td>i64</td></tr></thead><tbody><tr><td>1997</td><td>1997</td></tr><tr><td>1998</td><td>1998</td></tr><tr><td>1999</td><td>5997</td></tr><tr><td>2000</td><td>20000</td></tr><tr><td>2002</td><td>4004</td></tr><tr><td>&hellip;</td><td>&hellip;</td></tr><tr><td>2019</td><td>20727054</td></tr><tr><td>2020</td><td>22296760</td></tr><tr><td>2021</td><td>37113644</td></tr><tr><td>2022</td><td>53643660</td></tr><tr><td>2023</td><td>3815378</td></tr></tbody></table></div>"
      ],
      "text/plain": [
       "shape: (20, 2)\n",
       "┌────────────┬──────────────┐\n",
       "│ Model Year ┆ tot_per_year │\n",
       "│ ---        ┆ ---          │\n",
       "│ i64        ┆ i64          │\n",
       "╞════════════╪══════════════╡\n",
       "│ 1997       ┆ 1997         │\n",
       "│ 1998       ┆ 1998         │\n",
       "│ 1999       ┆ 5997         │\n",
       "│ 2000       ┆ 20000        │\n",
       "│ 2002       ┆ 4004         │\n",
       "│ …          ┆ …            │\n",
       "│ 2019       ┆ 20727054     │\n",
       "│ 2020       ┆ 22296760     │\n",
       "│ 2021       ┆ 37113644     │\n",
       "│ 2022       ┆ 53643660     │\n",
       "│ 2023       ┆ 3815378      │\n",
       "└────────────┴──────────────┘"
      ]
     },
     "execution_count": 41,
     "metadata": {},
     "output_type": "execute_result"
    }
   ],
   "source": [
    "#Numero di vendite in base all'anno \n",
    "(\n",
    "    data\n",
    "    .group_by('Model Year')\n",
    "    .agg(\n",
    "        tot_per_year = pl.col('Model Year').sum()\n",
    "    )\n",
    "    .sort(pl.col('Model Year'), descending=False)\n",
    ")"
   ]
  },
  {
   "cell_type": "code",
   "execution_count": 42,
   "metadata": {},
   "outputs": [
    {
     "data": {
      "text/html": [
       "<div><style>\n",
       ".dataframe > thead > tr,\n",
       ".dataframe > tbody > tr {\n",
       "  text-align: right;\n",
       "  white-space: pre-wrap;\n",
       "}\n",
       "</style>\n",
       "<small>shape: (209, 3)</small><table border=\"1\" class=\"dataframe\"><thead><tr><th>Model Year</th><th>Make</th><th>tot_per_year</th></tr><tr><td>i64</td><td>str</td><td>i64</td></tr></thead><tbody><tr><td>1997</td><td>&quot;CHEVROLET&quot;</td><td>1997</td></tr><tr><td>1998</td><td>&quot;FORD&quot;</td><td>1998</td></tr><tr><td>1999</td><td>&quot;FORD&quot;</td><td>5997</td></tr><tr><td>2000</td><td>&quot;FORD&quot;</td><td>20000</td></tr><tr><td>2002</td><td>&quot;TOYOTA&quot;</td><td>4004</td></tr><tr><td>&hellip;</td><td>&hellip;</td><td>&hellip;</td></tr><tr><td>2023</td><td>&quot;GENESIS&quot;</td><td>36414</td></tr><tr><td>2023</td><td>&quot;FORD&quot;</td><td>8092</td></tr><tr><td>2023</td><td>&quot;MERCEDES-BENZ&quot;</td><td>46529</td></tr><tr><td>2023</td><td>&quot;TESLA&quot;</td><td>1800470</td></tr><tr><td>2023</td><td>&quot;AUDI&quot;</td><td>24276</td></tr></tbody></table></div>"
      ],
      "text/plain": [
       "shape: (209, 3)\n",
       "┌────────────┬───────────────┬──────────────┐\n",
       "│ Model Year ┆ Make          ┆ tot_per_year │\n",
       "│ ---        ┆ ---           ┆ ---          │\n",
       "│ i64        ┆ str           ┆ i64          │\n",
       "╞════════════╪═══════════════╪══════════════╡\n",
       "│ 1997       ┆ CHEVROLET     ┆ 1997         │\n",
       "│ 1998       ┆ FORD          ┆ 1998         │\n",
       "│ 1999       ┆ FORD          ┆ 5997         │\n",
       "│ 2000       ┆ FORD          ┆ 20000        │\n",
       "│ 2002       ┆ TOYOTA        ┆ 4004         │\n",
       "│ …          ┆ …             ┆ …            │\n",
       "│ 2023       ┆ GENESIS       ┆ 36414        │\n",
       "│ 2023       ┆ FORD          ┆ 8092         │\n",
       "│ 2023       ┆ MERCEDES-BENZ ┆ 46529        │\n",
       "│ 2023       ┆ TESLA         ┆ 1800470      │\n",
       "│ 2023       ┆ AUDI          ┆ 24276        │\n",
       "└────────────┴───────────────┴──────────────┘"
      ]
     },
     "execution_count": 42,
     "metadata": {},
     "output_type": "execute_result"
    }
   ],
   "source": [
    "#Numero di vendite in base all'anno e marca\n",
    "(\n",
    "    data\n",
    "    .group_by('Model Year', 'Make')\n",
    "    .agg(\n",
    "        tot_per_year = pl.col('Model Year').sum()\n",
    "    )\n",
    "    .sort(pl.col('Model Year'))\n",
    ")"
   ]
  },
  {
   "cell_type": "code",
   "execution_count": 43,
   "metadata": {},
   "outputs": [
    {
     "data": {
      "text/html": [
       "<div><style>\n",
       ".dataframe > thead > tr,\n",
       ".dataframe > tbody > tr {\n",
       "  text-align: right;\n",
       "  white-space: pre-wrap;\n",
       "}\n",
       "</style>\n",
       "<small>shape: (209, 5)</small><table border=\"1\" class=\"dataframe\"><thead><tr><th>Model Year</th><th>Make</th><th>max_range</th><th>min_range</th><th>mean_range</th></tr><tr><td>i64</td><td>str</td><td>i64</td><td>i64</td><td>f64</td></tr></thead><tbody><tr><td>1997</td><td>&quot;CHEVROLET&quot;</td><td>39</td><td>39</td><td>39.0</td></tr><tr><td>1998</td><td>&quot;FORD&quot;</td><td>58</td><td>58</td><td>58.0</td></tr><tr><td>1999</td><td>&quot;FORD&quot;</td><td>74</td><td>74</td><td>74.0</td></tr><tr><td>2000</td><td>&quot;FORD&quot;</td><td>58</td><td>58</td><td>58.0</td></tr><tr><td>2002</td><td>&quot;TOYOTA&quot;</td><td>95</td><td>95</td><td>95.0</td></tr><tr><td>&hellip;</td><td>&hellip;</td><td>&hellip;</td><td>&hellip;</td><td>&hellip;</td></tr><tr><td>2023</td><td>&quot;AUDI&quot;</td><td>0</td><td>0</td><td>0.0</td></tr><tr><td>2023</td><td>&quot;CHEVROLET&quot;</td><td>0</td><td>0</td><td>0.0</td></tr><tr><td>2023</td><td>&quot;POLESTAR&quot;</td><td>0</td><td>0</td><td>0.0</td></tr><tr><td>2023</td><td>&quot;MINI&quot;</td><td>17</td><td>0</td><td>0.548387</td></tr><tr><td>2023</td><td>&quot;HYUNDAI&quot;</td><td>0</td><td>0</td><td>0.0</td></tr></tbody></table></div>"
      ],
      "text/plain": [
       "shape: (209, 5)\n",
       "┌────────────┬───────────┬───────────┬───────────┬────────────┐\n",
       "│ Model Year ┆ Make      ┆ max_range ┆ min_range ┆ mean_range │\n",
       "│ ---        ┆ ---       ┆ ---       ┆ ---       ┆ ---        │\n",
       "│ i64        ┆ str       ┆ i64       ┆ i64       ┆ f64        │\n",
       "╞════════════╪═══════════╪═══════════╪═══════════╪════════════╡\n",
       "│ 1997       ┆ CHEVROLET ┆ 39        ┆ 39        ┆ 39.0       │\n",
       "│ 1998       ┆ FORD      ┆ 58        ┆ 58        ┆ 58.0       │\n",
       "│ 1999       ┆ FORD      ┆ 74        ┆ 74        ┆ 74.0       │\n",
       "│ 2000       ┆ FORD      ┆ 58        ┆ 58        ┆ 58.0       │\n",
       "│ 2002       ┆ TOYOTA    ┆ 95        ┆ 95        ┆ 95.0       │\n",
       "│ …          ┆ …         ┆ …         ┆ …         ┆ …          │\n",
       "│ 2023       ┆ AUDI      ┆ 0         ┆ 0         ┆ 0.0        │\n",
       "│ 2023       ┆ CHEVROLET ┆ 0         ┆ 0         ┆ 0.0        │\n",
       "│ 2023       ┆ POLESTAR  ┆ 0         ┆ 0         ┆ 0.0        │\n",
       "│ 2023       ┆ MINI      ┆ 17        ┆ 0         ┆ 0.548387   │\n",
       "│ 2023       ┆ HYUNDAI   ┆ 0         ┆ 0         ┆ 0.0        │\n",
       "└────────────┴───────────┴───────────┴───────────┴────────────┘"
      ]
     },
     "execution_count": 43,
     "metadata": {},
     "output_type": "execute_result"
    }
   ],
   "source": [
    "#Distribuzione del range di elettrico \n",
    "(\n",
    "    data\n",
    "    .group_by('Model Year', 'Make')\n",
    "    .agg(\n",
    "        max_range = pl.col('Electric Range').max(),\n",
    "        min_range = pl.col('Electric Range').min(),\n",
    "        mean_range = pl.col('Electric Range').mean()\n",
    "    )\n",
    "    .sort(pl.col('Model Year'))\n",
    ")"
   ]
  },
  {
   "cell_type": "markdown",
   "metadata": {},
   "source": [
    "Noto che alcune auto hanno valori nulli sul range di elettrico, quindi verranno succesivamente rimossi \n",
    "dal dataset quando si vorrà eseguire l'analisi dell'autonomia dell'elettrico."
   ]
  },
  {
   "cell_type": "code",
   "execution_count": 44,
   "metadata": {},
   "outputs": [
    {
     "data": {
      "text/html": [
       "<div><style>\n",
       ".dataframe > thead > tr,\n",
       ".dataframe > tbody > tr {\n",
       "  text-align: right;\n",
       "  white-space: pre-wrap;\n",
       "}\n",
       "</style>\n",
       "<small>shape: (209, 5)</small><table border=\"1\" class=\"dataframe\"><thead><tr><th>Model Year</th><th>Make</th><th>max_range</th><th>min_range</th><th>mean_range</th></tr><tr><td>i64</td><td>str</td><td>i64</td><td>i64</td><td>f64</td></tr></thead><tbody><tr><td>1997</td><td>&quot;CHEVROLET&quot;</td><td>39</td><td>39</td><td>39.0</td></tr><tr><td>1998</td><td>&quot;FORD&quot;</td><td>58</td><td>58</td><td>58.0</td></tr><tr><td>1999</td><td>&quot;FORD&quot;</td><td>74</td><td>74</td><td>74.0</td></tr><tr><td>2000</td><td>&quot;FORD&quot;</td><td>58</td><td>58</td><td>58.0</td></tr><tr><td>2002</td><td>&quot;TOYOTA&quot;</td><td>95</td><td>95</td><td>95.0</td></tr><tr><td>&hellip;</td><td>&hellip;</td><td>&hellip;</td><td>&hellip;</td><td>&hellip;</td></tr><tr><td>2023</td><td>&quot;FORD&quot;</td><td>0</td><td>0</td><td>0.0</td></tr><tr><td>2023</td><td>&quot;BMW&quot;</td><td>0</td><td>0</td><td>0.0</td></tr><tr><td>2023</td><td>&quot;POLESTAR&quot;</td><td>0</td><td>0</td><td>0.0</td></tr><tr><td>2023</td><td>&quot;MERCEDES-BENZ&quot;</td><td>0</td><td>0</td><td>0.0</td></tr><tr><td>2023</td><td>&quot;AUDI&quot;</td><td>0</td><td>0</td><td>0.0</td></tr></tbody></table></div>"
      ],
      "text/plain": [
       "shape: (209, 5)\n",
       "┌────────────┬───────────────┬───────────┬───────────┬────────────┐\n",
       "│ Model Year ┆ Make          ┆ max_range ┆ min_range ┆ mean_range │\n",
       "│ ---        ┆ ---           ┆ ---       ┆ ---       ┆ ---        │\n",
       "│ i64        ┆ str           ┆ i64       ┆ i64       ┆ f64        │\n",
       "╞════════════╪═══════════════╪═══════════╪═══════════╪════════════╡\n",
       "│ 1997       ┆ CHEVROLET     ┆ 39        ┆ 39        ┆ 39.0       │\n",
       "│ 1998       ┆ FORD          ┆ 58        ┆ 58        ┆ 58.0       │\n",
       "│ 1999       ┆ FORD          ┆ 74        ┆ 74        ┆ 74.0       │\n",
       "│ 2000       ┆ FORD          ┆ 58        ┆ 58        ┆ 58.0       │\n",
       "│ 2002       ┆ TOYOTA        ┆ 95        ┆ 95        ┆ 95.0       │\n",
       "│ …          ┆ …             ┆ …         ┆ …         ┆ …          │\n",
       "│ 2023       ┆ FORD          ┆ 0         ┆ 0         ┆ 0.0        │\n",
       "│ 2023       ┆ BMW           ┆ 0         ┆ 0         ┆ 0.0        │\n",
       "│ 2023       ┆ POLESTAR      ┆ 0         ┆ 0         ┆ 0.0        │\n",
       "│ 2023       ┆ MERCEDES-BENZ ┆ 0         ┆ 0         ┆ 0.0        │\n",
       "│ 2023       ┆ AUDI          ┆ 0         ┆ 0         ┆ 0.0        │\n",
       "└────────────┴───────────────┴───────────┴───────────┴────────────┘"
      ]
     },
     "execution_count": 44,
     "metadata": {},
     "output_type": "execute_result"
    }
   ],
   "source": [
    "#Distribuzione del range di elettrico \n",
    "(\n",
    "    data\n",
    "    .group_by('Model Year', 'Make')\n",
    "    .agg(\n",
    "        max_range = pl.col('Electric Range').max(),\n",
    "        min_range = pl.col('Electric Range').min(),\n",
    "        mean_range = pl.col('Electric Range').mean()\n",
    "    )\n",
    "    .sort(pl.col('Model Year'))\n",
    ")"
   ]
  },
  {
   "cell_type": "markdown",
   "metadata": {},
   "source": [
    "Una volta eseguiti i vari controlli, si andrà a creare un file csv in cui si salveranno tutti i dati all'interno della cartella DATA"
   ]
  },
  {
   "cell_type": "code",
   "execution_count": 45,
   "metadata": {},
   "outputs": [
    {
     "data": {
      "text/html": [
       "<div><style>\n",
       ".dataframe > thead > tr,\n",
       ".dataframe > tbody > tr {\n",
       "  text-align: right;\n",
       "  white-space: pre-wrap;\n",
       "}\n",
       "</style>\n",
       "<small>shape: (20, 2)</small><table border=\"1\" class=\"dataframe\"><thead><tr><th>Model Year</th><th>tot_per_year</th></tr><tr><td>i64</td><td>u32</td></tr></thead><tbody><tr><td>1997</td><td>1</td></tr><tr><td>1998</td><td>1</td></tr><tr><td>1999</td><td>3</td></tr><tr><td>2000</td><td>10</td></tr><tr><td>2002</td><td>2</td></tr><tr><td>&hellip;</td><td>&hellip;</td></tr><tr><td>2019</td><td>10266</td></tr><tr><td>2020</td><td>11038</td></tr><tr><td>2021</td><td>18364</td></tr><tr><td>2022</td><td>26530</td></tr><tr><td>2023</td><td>1886</td></tr></tbody></table></div>"
      ],
      "text/plain": [
       "shape: (20, 2)\n",
       "┌────────────┬──────────────┐\n",
       "│ Model Year ┆ tot_per_year │\n",
       "│ ---        ┆ ---          │\n",
       "│ i64        ┆ u32          │\n",
       "╞════════════╪══════════════╡\n",
       "│ 1997       ┆ 1            │\n",
       "│ 1998       ┆ 1            │\n",
       "│ 1999       ┆ 3            │\n",
       "│ 2000       ┆ 10           │\n",
       "│ 2002       ┆ 2            │\n",
       "│ …          ┆ …            │\n",
       "│ 2019       ┆ 10266        │\n",
       "│ 2020       ┆ 11038        │\n",
       "│ 2021       ┆ 18364        │\n",
       "│ 2022       ┆ 26530        │\n",
       "│ 2023       ┆ 1886         │\n",
       "└────────────┴──────────────┘"
      ]
     },
     "execution_count": 45,
     "metadata": {},
     "output_type": "execute_result"
    }
   ],
   "source": [
    "(\n",
    "    data\n",
    "    .group_by('Model Year')\n",
    "    .agg(\n",
    "        tot_per_year = pl.col('Model Year').count()\n",
    "    )\n",
    "    .sort(pl.col('Model Year'))\n",
    ")"
   ]
  },
  {
   "cell_type": "code",
   "execution_count": 46,
   "metadata": {},
   "outputs": [
    {
     "data": {
      "text/html": [
       "<div><style>\n",
       ".dataframe > thead > tr,\n",
       ".dataframe > tbody > tr {\n",
       "  text-align: right;\n",
       "  white-space: pre-wrap;\n",
       "}\n",
       "</style>\n",
       "<small>shape: (7, 2)</small><table border=\"1\" class=\"dataframe\"><thead><tr><th>Model Year</th><th>tot_per_year</th></tr><tr><td>i64</td><td>u32</td></tr></thead><tbody><tr><td>1997</td><td>1</td></tr><tr><td>1998</td><td>1</td></tr><tr><td>1999</td><td>3</td></tr><tr><td>2000</td><td>10</td></tr><tr><td>2002</td><td>2</td></tr><tr><td>2008</td><td>23</td></tr><tr><td>2010</td><td>24</td></tr></tbody></table></div>"
      ],
      "text/plain": [
       "shape: (7, 2)\n",
       "┌────────────┬──────────────┐\n",
       "│ Model Year ┆ tot_per_year │\n",
       "│ ---        ┆ ---          │\n",
       "│ i64        ┆ u32          │\n",
       "╞════════════╪══════════════╡\n",
       "│ 1997       ┆ 1            │\n",
       "│ 1998       ┆ 1            │\n",
       "│ 1999       ┆ 3            │\n",
       "│ 2000       ┆ 10           │\n",
       "│ 2002       ┆ 2            │\n",
       "│ 2008       ┆ 23           │\n",
       "│ 2010       ┆ 24           │\n",
       "└────────────┴──────────────┘"
      ]
     },
     "execution_count": 46,
     "metadata": {},
     "output_type": "execute_result"
    }
   ],
   "source": [
    "(\n",
    "    data\n",
    "    .group_by('Model Year')\n",
    "    .agg(\n",
    "        tot_per_year = pl.col('Model Year').count()\n",
    "    )\n",
    "    .filter(pl.col('Model Year')<=2010)\n",
    "    .sort(pl.col('Model Year'))\n",
    ")"
   ]
  },
  {
   "cell_type": "code",
   "execution_count": 47,
   "metadata": {},
   "outputs": [],
   "source": [
    "data = (\n",
    "    data\n",
    "    .filter(pl.col('Model Year')>2010)\n",
    ")\n"
   ]
  },
  {
   "cell_type": "code",
   "execution_count": 48,
   "metadata": {},
   "outputs": [
    {
     "data": {
      "text/html": [
       "<div><style>\n",
       ".dataframe > thead > tr,\n",
       ".dataframe > tbody > tr {\n",
       "  text-align: right;\n",
       "  white-space: pre-wrap;\n",
       "}\n",
       "</style>\n",
       "<small>shape: (9, 10)</small><table border=\"1\" class=\"dataframe\"><thead><tr><th>statistic</th><th>County</th><th>City</th><th>State</th><th>Model Year</th><th>Make</th><th>Model</th><th>Electric Vehicle Type</th><th>Electric Range</th><th>Vehicle Location</th></tr><tr><td>str</td><td>str</td><td>str</td><td>str</td><td>f64</td><td>str</td><td>str</td><td>str</td><td>f64</td><td>str</td></tr></thead><tbody><tr><td>&quot;count&quot;</td><td>&quot;112570&quot;</td><td>&quot;112570&quot;</td><td>&quot;112570&quot;</td><td>112570.0</td><td>&quot;112570&quot;</td><td>&quot;112550&quot;</td><td>&quot;112570&quot;</td><td>112570.0</td><td>&quot;112546&quot;</td></tr><tr><td>&quot;null_count&quot;</td><td>&quot;0&quot;</td><td>&quot;0&quot;</td><td>&quot;0&quot;</td><td>0.0</td><td>&quot;0&quot;</td><td>&quot;20&quot;</td><td>&quot;0&quot;</td><td>0.0</td><td>&quot;24&quot;</td></tr><tr><td>&quot;mean&quot;</td><td>null</td><td>null</td><td>null</td><td>2019.010438</td><td>null</td><td>null</td><td>null</td><td>87.756054</td><td>null</td></tr><tr><td>&quot;std&quot;</td><td>null</td><td>null</td><td>null</td><td>2.87617</td><td>null</td><td>null</td><td>null</td><td>102.319551</td><td>null</td></tr><tr><td>&quot;min&quot;</td><td>&quot;Adams&quot;</td><td>&quot;Aberdeen&quot;</td><td>&quot;AK&quot;</td><td>2011.0</td><td>&quot;AUDI&quot;</td><td>&quot;330E&quot;</td><td>&quot;Battery&nbsp;Electric&nbsp;Vehicle&nbsp;(BEV)&quot;</td><td>0.0</td><td>&quot;POINT&nbsp;(-102.69968&nbsp;22.95716)&quot;</td></tr><tr><td>&quot;25%&quot;</td><td>null</td><td>null</td><td>null</td><td>2017.0</td><td>null</td><td>null</td><td>null</td><td>0.0</td><td>null</td></tr><tr><td>&quot;50%&quot;</td><td>null</td><td>null</td><td>null</td><td>2020.0</td><td>null</td><td>null</td><td>null</td><td>32.0</td><td>null</td></tr><tr><td>&quot;75%&quot;</td><td>null</td><td>null</td><td>null</td><td>2022.0</td><td>null</td><td>null</td><td>null</td><td>208.0</td><td>null</td></tr><tr><td>&quot;max&quot;</td><td>&quot;Yakima&quot;</td><td>&quot;Zillah&quot;</td><td>&quot;WY&quot;</td><td>2023.0</td><td>&quot;VOLVO&quot;</td><td>&quot;XC90&quot;</td><td>&quot;Plug-in&nbsp;Hybrid&nbsp;Electric&nbsp;Vehicl…</td><td>337.0</td><td>&quot;POINT&nbsp;(7.86484&nbsp;51.32975)&quot;</td></tr></tbody></table></div>"
      ],
      "text/plain": [
       "shape: (9, 10)\n",
       "┌────────────┬────────┬──────────┬────────┬───┬────────┬──────────┬────────────┬───────────────────┐\n",
       "│ statistic  ┆ County ┆ City     ┆ State  ┆ … ┆ Model  ┆ Electric ┆ Electric   ┆ Vehicle Location  │\n",
       "│ ---        ┆ ---    ┆ ---      ┆ ---    ┆   ┆ ---    ┆ Vehicle  ┆ Range      ┆ ---               │\n",
       "│ str        ┆ str    ┆ str      ┆ str    ┆   ┆ str    ┆ Type     ┆ ---        ┆ str               │\n",
       "│            ┆        ┆          ┆        ┆   ┆        ┆ ---      ┆ f64        ┆                   │\n",
       "│            ┆        ┆          ┆        ┆   ┆        ┆ str      ┆            ┆                   │\n",
       "╞════════════╪════════╪══════════╪════════╪═══╪════════╪══════════╪════════════╪═══════════════════╡\n",
       "│ count      ┆ 112570 ┆ 112570   ┆ 112570 ┆ … ┆ 112550 ┆ 112570   ┆ 112570.0   ┆ 112546            │\n",
       "│ null_count ┆ 0      ┆ 0        ┆ 0      ┆ … ┆ 20     ┆ 0        ┆ 0.0        ┆ 24                │\n",
       "│ mean       ┆ null   ┆ null     ┆ null   ┆ … ┆ null   ┆ null     ┆ 87.756054  ┆ null              │\n",
       "│ std        ┆ null   ┆ null     ┆ null   ┆ … ┆ null   ┆ null     ┆ 102.319551 ┆ null              │\n",
       "│ min        ┆ Adams  ┆ Aberdeen ┆ AK     ┆ … ┆ 330E   ┆ Battery  ┆ 0.0        ┆ POINT (-102.69968 │\n",
       "│            ┆        ┆          ┆        ┆   ┆        ┆ Electric ┆            ┆ 22.95716)         │\n",
       "│            ┆        ┆          ┆        ┆   ┆        ┆ Vehicle  ┆            ┆                   │\n",
       "│            ┆        ┆          ┆        ┆   ┆        ┆ (BEV)    ┆            ┆                   │\n",
       "│ 25%        ┆ null   ┆ null     ┆ null   ┆ … ┆ null   ┆ null     ┆ 0.0        ┆ null              │\n",
       "│ 50%        ┆ null   ┆ null     ┆ null   ┆ … ┆ null   ┆ null     ┆ 32.0       ┆ null              │\n",
       "│ 75%        ┆ null   ┆ null     ┆ null   ┆ … ┆ null   ┆ null     ┆ 208.0      ┆ null              │\n",
       "│ max        ┆ Yakima ┆ Zillah   ┆ WY     ┆ … ┆ XC90   ┆ Plug-in  ┆ 337.0      ┆ POINT (7.86484    │\n",
       "│            ┆        ┆          ┆        ┆   ┆        ┆ Hybrid   ┆            ┆ 51.32975)         │\n",
       "│            ┆        ┆          ┆        ┆   ┆        ┆ Electric ┆            ┆                   │\n",
       "│            ┆        ┆          ┆        ┆   ┆        ┆ Vehicl…  ┆            ┆                   │\n",
       "└────────────┴────────┴──────────┴────────┴───┴────────┴──────────┴────────────┴───────────────────┘"
      ]
     },
     "execution_count": 48,
     "metadata": {},
     "output_type": "execute_result"
    }
   ],
   "source": [
    "data.describe()"
   ]
  },
  {
   "cell_type": "code",
   "execution_count": 49,
   "metadata": {},
   "outputs": [],
   "source": [
    "data.write_csv('../DATA/data.csv')"
   ]
  }
 ],
 "metadata": {
  "kernelspec": {
   "display_name": ".venv",
   "language": "python",
   "name": "python3"
  },
  "language_info": {
   "codemirror_mode": {
    "name": "ipython",
    "version": 3
   },
   "file_extension": ".py",
   "mimetype": "text/x-python",
   "name": "python",
   "nbconvert_exporter": "python",
   "pygments_lexer": "ipython3",
   "version": "3.12.7"
  }
 },
 "nbformat": 4,
 "nbformat_minor": 2
}
